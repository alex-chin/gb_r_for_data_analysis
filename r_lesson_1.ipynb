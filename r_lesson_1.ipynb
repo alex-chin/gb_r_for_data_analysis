{
 "nbformat": 4,
 "nbformat_minor": 0,
 "metadata": {
  "colab": {
   "provenance": [],
   "authorship_tag": "ABX9TyO3zIb7lsbwVTVTsHc4sKws"
  },
  "kernelspec": {
   "name": "python3",
   "language": "python",
   "display_name": "Python 3 (ipykernel)"
  },
  "language_info": {
   "name": "R"
  }
 },
 "cells": [
  {
   "cell_type": "markdown",
   "source": [
    "# Урок 1. Начало работы в R"
   ],
   "metadata": {
    "id": "Ze3YjGe30aju"
   }
  },
  {
   "cell_type": "markdown",
   "source": [
    "## Правила написания кода"
   ],
   "metadata": {
    "id": "2_nadMxJ0-gm"
   }
  },
  {
   "cell_type": "markdown",
   "source": [
    "* Наименование переменных начинать с буквы\n",
    "* Вместо пробела в названии переменной\n",
    "использовать «.» или нижнее подчеркивание\n",
    "(например, x.1 или x_1)\n",
    "* Не использовать имена для переменных,\n",
    "которые совпадают с именами уже\n",
    "существующих объектов в R ,если это\n",
    "произошло используйте функцию rm()\n",
    "Чтобы код был максимально читаемый\n",
    "использовать # для описания своих действий\n",
    "\n",
    "Пример: (x<-10 # наименование переменной)"
   ],
   "metadata": {
    "id": "DNjFry3I04ak"
   }
  },
  {
   "cell_type": "markdown",
   "source": [
    "## Основные объекты R"
   ],
   "metadata": {
    "id": "e-OvOQs85EtJ"
   }
  },
  {
   "cell_type": "code",
   "execution_count": 1,
   "metadata": {
    "id": "vzzxsOpS12Cq",
    "ExecuteTime": {
     "end_time": "2023-08-08T19:05:41.484681100Z",
     "start_time": "2023-08-08T19:05:41.438685600Z"
    }
   },
   "outputs": [
    {
     "ename": "NameError",
     "evalue": "name 'x' is not defined",
     "output_type": "error",
     "traceback": [
      "\u001B[1;31m---------------------------------------------------------------------------\u001B[0m",
      "\u001B[1;31mNameError\u001B[0m                                 Traceback (most recent call last)",
      "\u001B[1;32m~\\AppData\\Local\\Temp\\ipykernel_2152\\4032360338.py\u001B[0m in \u001B[0;36m<module>\u001B[1;34m\u001B[0m\n\u001B[1;32m----> 1\u001B[1;33m \u001B[0mx\u001B[0m \u001B[1;33m<\u001B[0m\u001B[1;33m-\u001B[0m \u001B[1;36m10\u001B[0m \u001B[1;31m# Создаем переменную X\u001B[0m\u001B[1;33m\u001B[0m\u001B[1;33m\u001B[0m\u001B[0m\n\u001B[0m",
      "\u001B[1;31mNameError\u001B[0m: name 'x' is not defined"
     ]
    }
   ],
   "source": [
    "x <- 10 # Создаем переменную X"
   ]
  },
  {
   "cell_type": "code",
   "source": [
    "x"
   ],
   "metadata": {
    "colab": {
     "base_uri": "https://localhost:8080/",
     "height": 34
    },
    "id": "li-EEaHz2iDo",
    "executionInfo": {
     "status": "ok",
     "timestamp": 1684412976789,
     "user_tz": -180,
     "elapsed": 4,
     "user": {
      "displayName": "Daniel D",
      "userId": "11270935181438165191"
     }
    },
    "outputId": "06d59b21-56a2-46c0-fab9-4f93ce95e652"
   },
   "execution_count": null,
   "outputs": [
    {
     "output_type": "display_data",
     "data": {
      "text/html": [
       "10"
      ],
      "text/markdown": "10",
      "text/latex": "10",
      "text/plain": [
       "[1] 10"
      ]
     },
     "metadata": {}
    }
   ]
  },
  {
   "cell_type": "code",
   "source": [
    "x.1 <- 17\n",
    "x.1"
   ],
   "metadata": {
    "colab": {
     "base_uri": "https://localhost:8080/",
     "height": 34
    },
    "id": "NNgCSvHk1d9X",
    "executionInfo": {
     "status": "ok",
     "timestamp": 1684412993957,
     "user_tz": -180,
     "elapsed": 1089,
     "user": {
      "displayName": "Daniel D",
      "userId": "11270935181438165191"
     }
    },
    "outputId": "efd9fedf-0b16-4f94-fae4-faa5ffd83e98"
   },
   "execution_count": null,
   "outputs": [
    {
     "output_type": "display_data",
     "data": {
      "text/html": [
       "17"
      ],
      "text/markdown": "17",
      "text/latex": "17",
      "text/plain": [
       "[1] 17"
      ]
     },
     "metadata": {}
    }
   ]
  },
  {
   "cell_type": "code",
   "source": [
    "rm(x.1)\n",
    "x.1"
   ],
   "metadata": {
    "colab": {
     "base_uri": "https://localhost:8080/",
     "height": 96
    },
    "id": "f3q4Vvhc1ebS",
    "executionInfo": {
     "status": "error",
     "timestamp": 1684413015332,
     "user_tz": -180,
     "elapsed": 802,
     "user": {
      "displayName": "Daniel D",
      "userId": "11270935181438165191"
     }
    },
    "outputId": "32a63d68-d2bd-475f-9c2c-d9df9e44d82d"
   },
   "execution_count": null,
   "outputs": [
    {
     "output_type": "error",
     "ename": "ERROR",
     "evalue": "ignored",
     "traceback": [
      "Error in eval(expr, envir, enclos): object 'x.1' not found\nTraceback:\n"
     ]
    }
   ]
  },
  {
   "cell_type": "code",
   "source": [
    "# Основные математические функции «+» , «-», «:», « * », степень «^»,\n",
    "# квадратный корень sqrt(), log2(), factorial(), exp()\n",
    "sqrt(25)\n",
    "log2(256)\n",
    "log10(1000)\n",
    "exp(1)\n",
    "log(exp(1))\n",
    "factorial(5)"
   ],
   "metadata": {
    "colab": {
     "base_uri": "https://localhost:8080/",
     "height": 121
    },
    "id": "TtjcURQS1zHD",
    "executionInfo": {
     "status": "ok",
     "timestamp": 1684413116767,
     "user_tz": -180,
     "elapsed": 396,
     "user": {
      "displayName": "Daniel D",
      "userId": "11270935181438165191"
     }
    },
    "outputId": "bc3d7da2-3a90-4c00-b939-ab81d2573e12"
   },
   "execution_count": null,
   "outputs": [
    {
     "output_type": "display_data",
     "data": {
      "text/html": [
       "5"
      ],
      "text/markdown": "5",
      "text/latex": "5",
      "text/plain": [
       "[1] 5"
      ]
     },
     "metadata": {}
    },
    {
     "output_type": "display_data",
     "data": {
      "text/html": [
       "8"
      ],
      "text/markdown": "8",
      "text/latex": "8",
      "text/plain": [
       "[1] 8"
      ]
     },
     "metadata": {}
    },
    {
     "output_type": "display_data",
     "data": {
      "text/html": [
       "3"
      ],
      "text/markdown": "3",
      "text/latex": "3",
      "text/plain": [
       "[1] 3"
      ]
     },
     "metadata": {}
    },
    {
     "output_type": "display_data",
     "data": {
      "text/html": [
       "2.71828182845905"
      ],
      "text/markdown": "2.71828182845905",
      "text/latex": "2.71828182845905",
      "text/plain": [
       "[1] 2.718282"
      ]
     },
     "metadata": {}
    },
    {
     "output_type": "display_data",
     "data": {
      "text/html": [
       "1"
      ],
      "text/markdown": "1",
      "text/latex": "1",
      "text/plain": [
       "[1] 1"
      ]
     },
     "metadata": {}
    },
    {
     "output_type": "display_data",
     "data": {
      "text/html": [
       "120"
      ],
      "text/markdown": "120",
      "text/latex": "120",
      "text/plain": [
       "[1] 120"
      ]
     },
     "metadata": {}
    }
   ]
  },
  {
   "cell_type": "code",
   "source": [
    "# С помощью функции help() или «?» можно вызвать справку\n",
    "help(log)"
   ],
   "metadata": {
    "id": "bUval9GX2NqI"
   },
   "execution_count": null,
   "outputs": []
  },
  {
   "cell_type": "markdown",
   "source": [
    "## Множества и действия с ними"
   ],
   "metadata": {
    "id": "Y7d3WkaG2g_a"
   }
  },
  {
   "cell_type": "code",
   "source": [
    "a <- c(0, 1, 2, 3)\n",
    "a[2]"
   ],
   "metadata": {
    "colab": {
     "base_uri": "https://localhost:8080/",
     "height": 34
    },
    "id": "9pBC19k02knV",
    "executionInfo": {
     "status": "ok",
     "timestamp": 1684413358576,
     "user_tz": -180,
     "elapsed": 312,
     "user": {
      "displayName": "Daniel D",
      "userId": "11270935181438165191"
     }
    },
    "outputId": "e7e9e3d0-5a24-4661-9cb9-177c58c9960d"
   },
   "execution_count": null,
   "outputs": [
    {
     "output_type": "display_data",
     "data": {
      "text/html": [
       "1"
      ],
      "text/markdown": "1",
      "text/latex": "1",
      "text/plain": [
       "[1] 1"
      ]
     },
     "metadata": {}
    }
   ]
  },
  {
   "cell_type": "code",
   "source": [
    "b <- c(rep(2, time=3))\n",
    "b"
   ],
   "metadata": {
    "colab": {
     "base_uri": "https://localhost:8080/",
     "height": 34
    },
    "id": "PTBCsl7K2t0E",
    "executionInfo": {
     "status": "ok",
     "timestamp": 1684413359786,
     "user_tz": -180,
     "elapsed": 3,
     "user": {
      "displayName": "Daniel D",
      "userId": "11270935181438165191"
     }
    },
    "outputId": "217c6ae6-b70d-46cb-bc98-22a0a7d66c1c"
   },
   "execution_count": null,
   "outputs": [
    {
     "output_type": "display_data",
     "data": {
      "text/html": [
       "<style>\n",
       ".list-inline {list-style: none; margin:0; padding: 0}\n",
       ".list-inline>li {display: inline-block}\n",
       ".list-inline>li:not(:last-child)::after {content: \"\\00b7\"; padding: 0 .5ex}\n",
       "</style>\n",
       "<ol class=list-inline><li>2</li><li>2</li><li>2</li></ol>\n"
      ],
      "text/markdown": "1. 2\n2. 2\n3. 2\n\n\n",
      "text/latex": "\\begin{enumerate*}\n\\item 2\n\\item 2\n\\item 2\n\\end{enumerate*}\n",
      "text/plain": [
       "[1] 2 2 2"
      ]
     },
     "metadata": {}
    }
   ]
  },
  {
   "cell_type": "code",
   "source": [
    "b.1 <- rep(2, 4)\n",
    "b.1"
   ],
   "metadata": {
    "colab": {
     "base_uri": "https://localhost:8080/",
     "height": 34
    },
    "id": "K_qodIbA2udh",
    "executionInfo": {
     "status": "ok",
     "timestamp": 1684413378332,
     "user_tz": -180,
     "elapsed": 403,
     "user": {
      "displayName": "Daniel D",
      "userId": "11270935181438165191"
     }
    },
    "outputId": "1f65beb8-ea1e-4114-c84e-5a391d3ac383"
   },
   "execution_count": null,
   "outputs": [
    {
     "output_type": "display_data",
     "data": {
      "text/html": [
       "<style>\n",
       ".list-inline {list-style: none; margin:0; padding: 0}\n",
       ".list-inline>li {display: inline-block}\n",
       ".list-inline>li:not(:last-child)::after {content: \"\\00b7\"; padding: 0 .5ex}\n",
       "</style>\n",
       "<ol class=list-inline><li>2</li><li>2</li><li>2</li><li>2</li></ol>\n"
      ],
      "text/markdown": "1. 2\n2. 2\n3. 2\n4. 2\n\n\n",
      "text/latex": "\\begin{enumerate*}\n\\item 2\n\\item 2\n\\item 2\n\\item 2\n\\end{enumerate*}\n",
      "text/plain": [
       "[1] 2 2 2 2"
      ]
     },
     "metadata": {}
    }
   ]
  },
  {
   "cell_type": "code",
   "source": [
    "rep(c(0, 2), time=2)"
   ],
   "metadata": {
    "colab": {
     "base_uri": "https://localhost:8080/",
     "height": 34
    },
    "id": "laNJfPyz4Gzo",
    "executionInfo": {
     "status": "ok",
     "timestamp": 1684413659375,
     "user_tz": -180,
     "elapsed": 2,
     "user": {
      "displayName": "Daniel D",
      "userId": "11270935181438165191"
     }
    },
    "outputId": "d9bbff8c-caac-4a06-fa41-8a807f59b387"
   },
   "execution_count": null,
   "outputs": [
    {
     "output_type": "display_data",
     "data": {
      "text/html": [
       "<style>\n",
       ".list-inline {list-style: none; margin:0; padding: 0}\n",
       ".list-inline>li {display: inline-block}\n",
       ".list-inline>li:not(:last-child)::after {content: \"\\00b7\"; padding: 0 .5ex}\n",
       "</style>\n",
       "<ol class=list-inline><li>0</li><li>2</li><li>0</li><li>2</li></ol>\n"
      ],
      "text/markdown": "1. 0\n2. 2\n3. 0\n4. 2\n\n\n",
      "text/latex": "\\begin{enumerate*}\n\\item 0\n\\item 2\n\\item 0\n\\item 2\n\\end{enumerate*}\n",
      "text/plain": [
       "[1] 0 2 0 2"
      ]
     },
     "metadata": {}
    }
   ]
  },
  {
   "cell_type": "code",
   "source": [
    "rep(c(0, 2), each=2)"
   ],
   "metadata": {
    "colab": {
     "base_uri": "https://localhost:8080/",
     "height": 34
    },
    "id": "Cdw9M1vZ4G_2",
    "executionInfo": {
     "status": "ok",
     "timestamp": 1684413671087,
     "user_tz": -180,
     "elapsed": 4,
     "user": {
      "displayName": "Daniel D",
      "userId": "11270935181438165191"
     }
    },
    "outputId": "35d2cae1-4cc1-4713-8b43-faab1846f96b"
   },
   "execution_count": null,
   "outputs": [
    {
     "output_type": "display_data",
     "data": {
      "text/html": [
       "<style>\n",
       ".list-inline {list-style: none; margin:0; padding: 0}\n",
       ".list-inline>li {display: inline-block}\n",
       ".list-inline>li:not(:last-child)::after {content: \"\\00b7\"; padding: 0 .5ex}\n",
       "</style>\n",
       "<ol class=list-inline><li>0</li><li>0</li><li>2</li><li>2</li></ol>\n"
      ],
      "text/markdown": "1. 0\n2. 0\n3. 2\n4. 2\n\n\n",
      "text/latex": "\\begin{enumerate*}\n\\item 0\n\\item 0\n\\item 2\n\\item 2\n\\end{enumerate*}\n",
      "text/plain": [
       "[1] 0 0 2 2"
      ]
     },
     "metadata": {}
    }
   ]
  },
  {
   "cell_type": "code",
   "source": [
    "a + b.1"
   ],
   "metadata": {
    "colab": {
     "base_uri": "https://localhost:8080/",
     "height": 34
    },
    "id": "itgV9WlX2u1T",
    "executionInfo": {
     "status": "ok",
     "timestamp": 1684413400211,
     "user_tz": -180,
     "elapsed": 2,
     "user": {
      "displayName": "Daniel D",
      "userId": "11270935181438165191"
     }
    },
    "outputId": "2a3dd353-9cd6-4dce-9b0d-9a6522be7119"
   },
   "execution_count": null,
   "outputs": [
    {
     "output_type": "display_data",
     "data": {
      "text/html": [
       "<style>\n",
       ".list-inline {list-style: none; margin:0; padding: 0}\n",
       ".list-inline>li {display: inline-block}\n",
       ".list-inline>li:not(:last-child)::after {content: \"\\00b7\"; padding: 0 .5ex}\n",
       "</style>\n",
       "<ol class=list-inline><li>2</li><li>3</li><li>4</li><li>5</li></ol>\n"
      ],
      "text/markdown": "1. 2\n2. 3\n3. 4\n4. 5\n\n\n",
      "text/latex": "\\begin{enumerate*}\n\\item 2\n\\item 3\n\\item 4\n\\item 5\n\\end{enumerate*}\n",
      "text/plain": [
       "[1] 2 3 4 5"
      ]
     },
     "metadata": {}
    }
   ]
  },
  {
   "cell_type": "code",
   "source": [
    "seq(2, 8, by=2)  # четные"
   ],
   "metadata": {
    "colab": {
     "base_uri": "https://localhost:8080/",
     "height": 34
    },
    "id": "Wzjsj45P2u86",
    "executionInfo": {
     "status": "ok",
     "timestamp": 1684413451400,
     "user_tz": -180,
     "elapsed": 485,
     "user": {
      "displayName": "Daniel D",
      "userId": "11270935181438165191"
     }
    },
    "outputId": "cbd0c128-42a1-4495-e265-e0f14a2ec714"
   },
   "execution_count": null,
   "outputs": [
    {
     "output_type": "display_data",
     "data": {
      "text/html": [
       "<style>\n",
       ".list-inline {list-style: none; margin:0; padding: 0}\n",
       ".list-inline>li {display: inline-block}\n",
       ".list-inline>li:not(:last-child)::after {content: \"\\00b7\"; padding: 0 .5ex}\n",
       "</style>\n",
       "<ol class=list-inline><li>2</li><li>4</li><li>6</li><li>8</li></ol>\n"
      ],
      "text/markdown": "1. 2\n2. 4\n3. 6\n4. 8\n\n\n",
      "text/latex": "\\begin{enumerate*}\n\\item 2\n\\item 4\n\\item 6\n\\item 8\n\\end{enumerate*}\n",
      "text/plain": [
       "[1] 2 4 6 8"
      ]
     },
     "metadata": {}
    }
   ]
  },
  {
   "cell_type": "code",
   "source": [
    "seq(1, 9, by=2)  # нечетные"
   ],
   "metadata": {
    "colab": {
     "base_uri": "https://localhost:8080/",
     "height": 34
    },
    "id": "PyVspT6h2vEG",
    "executionInfo": {
     "status": "ok",
     "timestamp": 1684413452409,
     "user_tz": -180,
     "elapsed": 2,
     "user": {
      "displayName": "Daniel D",
      "userId": "11270935181438165191"
     }
    },
    "outputId": "e5dfddb2-5bd5-4a7c-8310-94b5ca3508c4"
   },
   "execution_count": null,
   "outputs": [
    {
     "output_type": "display_data",
     "data": {
      "text/html": [
       "<style>\n",
       ".list-inline {list-style: none; margin:0; padding: 0}\n",
       ".list-inline>li {display: inline-block}\n",
       ".list-inline>li:not(:last-child)::after {content: \"\\00b7\"; padding: 0 .5ex}\n",
       "</style>\n",
       "<ol class=list-inline><li>1</li><li>3</li><li>5</li><li>7</li><li>9</li></ol>\n"
      ],
      "text/markdown": "1. 1\n2. 3\n3. 5\n4. 7\n5. 9\n\n\n",
      "text/latex": "\\begin{enumerate*}\n\\item 1\n\\item 3\n\\item 5\n\\item 7\n\\item 9\n\\end{enumerate*}\n",
      "text/plain": [
       "[1] 1 3 5 7 9"
      ]
     },
     "metadata": {}
    }
   ]
  },
  {
   "cell_type": "code",
   "source": [
    "seq(1, 10, length.out=5)"
   ],
   "metadata": {
    "colab": {
     "base_uri": "https://localhost:8080/",
     "height": 34
    },
    "id": "OKnMRUlF2vLW",
    "executionInfo": {
     "status": "ok",
     "timestamp": 1684413474473,
     "user_tz": -180,
     "elapsed": 380,
     "user": {
      "displayName": "Daniel D",
      "userId": "11270935181438165191"
     }
    },
    "outputId": "39d21831-268a-4725-8796-56654550fbdf"
   },
   "execution_count": null,
   "outputs": [
    {
     "output_type": "display_data",
     "data": {
      "text/html": [
       "<style>\n",
       ".list-inline {list-style: none; margin:0; padding: 0}\n",
       ".list-inline>li {display: inline-block}\n",
       ".list-inline>li:not(:last-child)::after {content: \"\\00b7\"; padding: 0 .5ex}\n",
       "</style>\n",
       "<ol class=list-inline><li>1</li><li>3.25</li><li>5.5</li><li>7.75</li><li>10</li></ol>\n"
      ],
      "text/markdown": "1. 1\n2. 3.25\n3. 5.5\n4. 7.75\n5. 10\n\n\n",
      "text/latex": "\\begin{enumerate*}\n\\item 1\n\\item 3.25\n\\item 5.5\n\\item 7.75\n\\item 10\n\\end{enumerate*}\n",
      "text/plain": [
       "[1]  1.00  3.25  5.50  7.75 10.00"
      ]
     },
     "metadata": {}
    }
   ]
  },
  {
   "cell_type": "markdown",
   "source": [
    "s <- 1:10\n",
    "s"
   ],
   "metadata": {
    "id": "4FJnXJG82vSB"
   }
  },
  {
   "cell_type": "code",
   "source": [
    "rnorm(n=50, mean=0, sd=1)  # задаем нормальное распределение"
   ],
   "metadata": {
    "colab": {
     "base_uri": "https://localhost:8080/",
     "height": 104
    },
    "id": "RbotJ0E53k7m",
    "executionInfo": {
     "status": "ok",
     "timestamp": 1684413552643,
     "user_tz": -180,
     "elapsed": 3,
     "user": {
      "displayName": "Daniel D",
      "userId": "11270935181438165191"
     }
    },
    "outputId": "9305c6fa-b1f2-43c4-bac5-7d9203217889"
   },
   "execution_count": null,
   "outputs": [
    {
     "output_type": "display_data",
     "data": {
      "text/html": [
       "<style>\n",
       ".list-inline {list-style: none; margin:0; padding: 0}\n",
       ".list-inline>li {display: inline-block}\n",
       ".list-inline>li:not(:last-child)::after {content: \"\\00b7\"; padding: 0 .5ex}\n",
       "</style>\n",
       "<ol class=list-inline><li>0.764332931574006</li><li>0.807968339763482</li><li>-0.610145488787728</li><li>0.388338729484745</li><li>-1.7082237689675</li><li>1.05913315293741</li><li>1.26924394521707</li><li>-1.31763193846354</li><li>-1.39705165907029</li><li>0.00203569835063952</li><li>-1.59623340605005</li><li>-1.60768149298005</li><li>-0.288283458826419</li><li>-0.450822617072874</li><li>0.614730075761075</li><li>-0.222502835610861</li><li>-0.905268338897183</li><li>-0.755940409212108</li><li>-1.07224449275218</li><li>0.711239120863708</li><li>-1.10393689696489</li><li>1.20134832535528</li><li>-0.942904346856533</li><li>-1.87229889994715</li><li>-0.544525658482138</li><li>-0.803952502785624</li><li>0.105765047011073</li><li>-0.672173465556199</li><li>1.0710708811686</li><li>-1.50882726983398</li><li>-0.680713273155514</li><li>1.26535643943417</li><li>2.1597196850336</li><li>0.685220640908581</li><li>1.16079311515311</li><li>0.533083667937626</li><li>-1.2579331322655</li><li>0.188214860050945</li><li>-2.14896040319134</li><li>1.39404374750651</li><li>-0.670852275693699</li><li>1.24631460613054</li><li>-0.910720603500246</li><li>-0.0567056411337052</li><li>0.560518855399076</li><li>0.999550820532599</li><li>0.918377487281242</li><li>0.17049463285159</li><li>0.118809547872909</li><li>-1.68246533979087</li></ol>\n"
      ],
      "text/markdown": "1. 0.764332931574006\n2. 0.807968339763482\n3. -0.610145488787728\n4. 0.388338729484745\n5. -1.7082237689675\n6. 1.05913315293741\n7. 1.26924394521707\n8. -1.31763193846354\n9. -1.39705165907029\n10. 0.00203569835063952\n11. -1.59623340605005\n12. -1.60768149298005\n13. -0.288283458826419\n14. -0.450822617072874\n15. 0.614730075761075\n16. -0.222502835610861\n17. -0.905268338897183\n18. -0.755940409212108\n19. -1.07224449275218\n20. 0.711239120863708\n21. -1.10393689696489\n22. 1.20134832535528\n23. -0.942904346856533\n24. -1.87229889994715\n25. -0.544525658482138\n26. -0.803952502785624\n27. 0.105765047011073\n28. -0.672173465556199\n29. 1.0710708811686\n30. -1.50882726983398\n31. -0.680713273155514\n32. 1.26535643943417\n33. 2.1597196850336\n34. 0.685220640908581\n35. 1.16079311515311\n36. 0.533083667937626\n37. -1.2579331322655\n38. 0.188214860050945\n39. -2.14896040319134\n40. 1.39404374750651\n41. -0.670852275693699\n42. 1.24631460613054\n43. -0.910720603500246\n44. -0.0567056411337052\n45. 0.560518855399076\n46. 0.999550820532599\n47. 0.918377487281242\n48. 0.17049463285159\n49. 0.118809547872909\n50. -1.68246533979087\n\n\n",
      "text/latex": "\\begin{enumerate*}\n\\item 0.764332931574006\n\\item 0.807968339763482\n\\item -0.610145488787728\n\\item 0.388338729484745\n\\item -1.7082237689675\n\\item 1.05913315293741\n\\item 1.26924394521707\n\\item -1.31763193846354\n\\item -1.39705165907029\n\\item 0.00203569835063952\n\\item -1.59623340605005\n\\item -1.60768149298005\n\\item -0.288283458826419\n\\item -0.450822617072874\n\\item 0.614730075761075\n\\item -0.222502835610861\n\\item -0.905268338897183\n\\item -0.755940409212108\n\\item -1.07224449275218\n\\item 0.711239120863708\n\\item -1.10393689696489\n\\item 1.20134832535528\n\\item -0.942904346856533\n\\item -1.87229889994715\n\\item -0.544525658482138\n\\item -0.803952502785624\n\\item 0.105765047011073\n\\item -0.672173465556199\n\\item 1.0710708811686\n\\item -1.50882726983398\n\\item -0.680713273155514\n\\item 1.26535643943417\n\\item 2.1597196850336\n\\item 0.685220640908581\n\\item 1.16079311515311\n\\item 0.533083667937626\n\\item -1.2579331322655\n\\item 0.188214860050945\n\\item -2.14896040319134\n\\item 1.39404374750651\n\\item -0.670852275693699\n\\item 1.24631460613054\n\\item -0.910720603500246\n\\item -0.0567056411337052\n\\item 0.560518855399076\n\\item 0.999550820532599\n\\item 0.918377487281242\n\\item 0.17049463285159\n\\item 0.118809547872909\n\\item -1.68246533979087\n\\end{enumerate*}\n",
      "text/plain": [
       " [1]  0.764332932  0.807968340 -0.610145489  0.388338729 -1.708223769\n",
       " [6]  1.059133153  1.269243945 -1.317631938 -1.397051659  0.002035698\n",
       "[11] -1.596233406 -1.607681493 -0.288283459 -0.450822617  0.614730076\n",
       "[16] -0.222502836 -0.905268339 -0.755940409 -1.072244493  0.711239121\n",
       "[21] -1.103936897  1.201348325 -0.942904347 -1.872298900 -0.544525658\n",
       "[26] -0.803952503  0.105765047 -0.672173466  1.071070881 -1.508827270\n",
       "[31] -0.680713273  1.265356439  2.159719685  0.685220641  1.160793115\n",
       "[36]  0.533083668 -1.257933132  0.188214860 -2.148960403  1.394043748\n",
       "[41] -0.670852276  1.246314606 -0.910720604 -0.056705641  0.560518855\n",
       "[46]  0.999550821  0.918377487  0.170494633  0.118809548 -1.682465340"
      ]
     },
     "metadata": {}
    }
   ]
  },
  {
   "cell_type": "code",
   "source": [
    "rpois(100, 10)  # распределение Пуассона"
   ],
   "metadata": {
    "colab": {
     "base_uri": "https://localhost:8080/",
     "height": 52
    },
    "id": "_unU6cIk3lIt",
    "executionInfo": {
     "status": "ok",
     "timestamp": 1684413584032,
     "user_tz": -180,
     "elapsed": 3,
     "user": {
      "displayName": "Daniel D",
      "userId": "11270935181438165191"
     }
    },
    "outputId": "674f93fb-b596-4c33-f73e-eec04533a23b"
   },
   "execution_count": null,
   "outputs": [
    {
     "output_type": "display_data",
     "data": {
      "text/html": [
       "<style>\n",
       ".list-inline {list-style: none; margin:0; padding: 0}\n",
       ".list-inline>li {display: inline-block}\n",
       ".list-inline>li:not(:last-child)::after {content: \"\\00b7\"; padding: 0 .5ex}\n",
       "</style>\n",
       "<ol class=list-inline><li>11</li><li>6</li><li>10</li><li>13</li><li>8</li><li>9</li><li>8</li><li>10</li><li>12</li><li>13</li><li>11</li><li>9</li><li>10</li><li>12</li><li>11</li><li>8</li><li>8</li><li>7</li><li>8</li><li>9</li><li>11</li><li>11</li><li>9</li><li>11</li><li>7</li><li>6</li><li>7</li><li>12</li><li>10</li><li>12</li><li>15</li><li>11</li><li>2</li><li>15</li><li>7</li><li>4</li><li>6</li><li>15</li><li>6</li><li>9</li><li>5</li><li>14</li><li>8</li><li>12</li><li>10</li><li>8</li><li>9</li><li>5</li><li>7</li><li>8</li><li>12</li><li>7</li><li>17</li><li>8</li><li>14</li><li>10</li><li>12</li><li>12</li><li>7</li><li>7</li><li>11</li><li>10</li><li>10</li><li>10</li><li>13</li><li>8</li><li>12</li><li>12</li><li>17</li><li>10</li><li>16</li><li>10</li><li>12</li><li>10</li><li>17</li><li>11</li><li>10</li><li>16</li><li>13</li><li>15</li><li>10</li><li>16</li><li>14</li><li>14</li><li>10</li><li>14</li><li>8</li><li>8</li><li>11</li><li>10</li><li>13</li><li>11</li><li>15</li><li>9</li><li>10</li><li>7</li><li>14</li><li>14</li><li>11</li><li>8</li></ol>\n"
      ],
      "text/markdown": "1. 11\n2. 6\n3. 10\n4. 13\n5. 8\n6. 9\n7. 8\n8. 10\n9. 12\n10. 13\n11. 11\n12. 9\n13. 10\n14. 12\n15. 11\n16. 8\n17. 8\n18. 7\n19. 8\n20. 9\n21. 11\n22. 11\n23. 9\n24. 11\n25. 7\n26. 6\n27. 7\n28. 12\n29. 10\n30. 12\n31. 15\n32. 11\n33. 2\n34. 15\n35. 7\n36. 4\n37. 6\n38. 15\n39. 6\n40. 9\n41. 5\n42. 14\n43. 8\n44. 12\n45. 10\n46. 8\n47. 9\n48. 5\n49. 7\n50. 8\n51. 12\n52. 7\n53. 17\n54. 8\n55. 14\n56. 10\n57. 12\n58. 12\n59. 7\n60. 7\n61. 11\n62. 10\n63. 10\n64. 10\n65. 13\n66. 8\n67. 12\n68. 12\n69. 17\n70. 10\n71. 16\n72. 10\n73. 12\n74. 10\n75. 17\n76. 11\n77. 10\n78. 16\n79. 13\n80. 15\n81. 10\n82. 16\n83. 14\n84. 14\n85. 10\n86. 14\n87. 8\n88. 8\n89. 11\n90. 10\n91. 13\n92. 11\n93. 15\n94. 9\n95. 10\n96. 7\n97. 14\n98. 14\n99. 11\n100. 8\n\n\n",
      "text/latex": "\\begin{enumerate*}\n\\item 11\n\\item 6\n\\item 10\n\\item 13\n\\item 8\n\\item 9\n\\item 8\n\\item 10\n\\item 12\n\\item 13\n\\item 11\n\\item 9\n\\item 10\n\\item 12\n\\item 11\n\\item 8\n\\item 8\n\\item 7\n\\item 8\n\\item 9\n\\item 11\n\\item 11\n\\item 9\n\\item 11\n\\item 7\n\\item 6\n\\item 7\n\\item 12\n\\item 10\n\\item 12\n\\item 15\n\\item 11\n\\item 2\n\\item 15\n\\item 7\n\\item 4\n\\item 6\n\\item 15\n\\item 6\n\\item 9\n\\item 5\n\\item 14\n\\item 8\n\\item 12\n\\item 10\n\\item 8\n\\item 9\n\\item 5\n\\item 7\n\\item 8\n\\item 12\n\\item 7\n\\item 17\n\\item 8\n\\item 14\n\\item 10\n\\item 12\n\\item 12\n\\item 7\n\\item 7\n\\item 11\n\\item 10\n\\item 10\n\\item 10\n\\item 13\n\\item 8\n\\item 12\n\\item 12\n\\item 17\n\\item 10\n\\item 16\n\\item 10\n\\item 12\n\\item 10\n\\item 17\n\\item 11\n\\item 10\n\\item 16\n\\item 13\n\\item 15\n\\item 10\n\\item 16\n\\item 14\n\\item 14\n\\item 10\n\\item 14\n\\item 8\n\\item 8\n\\item 11\n\\item 10\n\\item 13\n\\item 11\n\\item 15\n\\item 9\n\\item 10\n\\item 7\n\\item 14\n\\item 14\n\\item 11\n\\item 8\n\\end{enumerate*}\n",
      "text/plain": [
       "  [1] 11  6 10 13  8  9  8 10 12 13 11  9 10 12 11  8  8  7  8  9 11 11  9 11  7\n",
       " [26]  6  7 12 10 12 15 11  2 15  7  4  6 15  6  9  5 14  8 12 10  8  9  5  7  8\n",
       " [51] 12  7 17  8 14 10 12 12  7  7 11 10 10 10 13  8 12 12 17 10 16 10 12 10 17\n",
       " [76] 11 10 16 13 15 10 16 14 14 10 14  8  8 11 10 13 11 15  9 10  7 14 14 11  8"
      ]
     },
     "metadata": {}
    }
   ]
  },
  {
   "cell_type": "code",
   "source": [
    "rbinom(100, 10, 0.5)  # биномиальное распределение"
   ],
   "metadata": {
    "colab": {
     "base_uri": "https://localhost:8080/",
     "height": 52
    },
    "id": "b2SHYZyV3lRD",
    "executionInfo": {
     "status": "ok",
     "timestamp": 1684413621511,
     "user_tz": -180,
     "elapsed": 286,
     "user": {
      "displayName": "Daniel D",
      "userId": "11270935181438165191"
     }
    },
    "outputId": "730b0d32-0160-4f08-8ce5-2aa5a732c73a"
   },
   "execution_count": null,
   "outputs": [
    {
     "output_type": "display_data",
     "data": {
      "text/html": [
       "<style>\n",
       ".list-inline {list-style: none; margin:0; padding: 0}\n",
       ".list-inline>li {display: inline-block}\n",
       ".list-inline>li:not(:last-child)::after {content: \"\\00b7\"; padding: 0 .5ex}\n",
       "</style>\n",
       "<ol class=list-inline><li>7</li><li>3</li><li>6</li><li>7</li><li>6</li><li>6</li><li>7</li><li>2</li><li>4</li><li>7</li><li>5</li><li>4</li><li>6</li><li>6</li><li>4</li><li>5</li><li>6</li><li>5</li><li>7</li><li>5</li><li>6</li><li>4</li><li>5</li><li>4</li><li>6</li><li>6</li><li>6</li><li>5</li><li>2</li><li>4</li><li>7</li><li>1</li><li>4</li><li>4</li><li>3</li><li>5</li><li>7</li><li>4</li><li>6</li><li>3</li><li>6</li><li>5</li><li>4</li><li>7</li><li>5</li><li>5</li><li>6</li><li>4</li><li>7</li><li>4</li><li>7</li><li>2</li><li>4</li><li>2</li><li>7</li><li>5</li><li>7</li><li>6</li><li>8</li><li>6</li><li>3</li><li>5</li><li>6</li><li>7</li><li>5</li><li>6</li><li>7</li><li>4</li><li>5</li><li>6</li><li>6</li><li>5</li><li>6</li><li>6</li><li>4</li><li>6</li><li>6</li><li>4</li><li>5</li><li>6</li><li>5</li><li>5</li><li>5</li><li>4</li><li>8</li><li>6</li><li>5</li><li>4</li><li>7</li><li>5</li><li>9</li><li>5</li><li>8</li><li>2</li><li>7</li><li>5</li><li>5</li><li>3</li><li>5</li><li>5</li></ol>\n"
      ],
      "text/markdown": "1. 7\n2. 3\n3. 6\n4. 7\n5. 6\n6. 6\n7. 7\n8. 2\n9. 4\n10. 7\n11. 5\n12. 4\n13. 6\n14. 6\n15. 4\n16. 5\n17. 6\n18. 5\n19. 7\n20. 5\n21. 6\n22. 4\n23. 5\n24. 4\n25. 6\n26. 6\n27. 6\n28. 5\n29. 2\n30. 4\n31. 7\n32. 1\n33. 4\n34. 4\n35. 3\n36. 5\n37. 7\n38. 4\n39. 6\n40. 3\n41. 6\n42. 5\n43. 4\n44. 7\n45. 5\n46. 5\n47. 6\n48. 4\n49. 7\n50. 4\n51. 7\n52. 2\n53. 4\n54. 2\n55. 7\n56. 5\n57. 7\n58. 6\n59. 8\n60. 6\n61. 3\n62. 5\n63. 6\n64. 7\n65. 5\n66. 6\n67. 7\n68. 4\n69. 5\n70. 6\n71. 6\n72. 5\n73. 6\n74. 6\n75. 4\n76. 6\n77. 6\n78. 4\n79. 5\n80. 6\n81. 5\n82. 5\n83. 5\n84. 4\n85. 8\n86. 6\n87. 5\n88. 4\n89. 7\n90. 5\n91. 9\n92. 5\n93. 8\n94. 2\n95. 7\n96. 5\n97. 5\n98. 3\n99. 5\n100. 5\n\n\n",
      "text/latex": "\\begin{enumerate*}\n\\item 7\n\\item 3\n\\item 6\n\\item 7\n\\item 6\n\\item 6\n\\item 7\n\\item 2\n\\item 4\n\\item 7\n\\item 5\n\\item 4\n\\item 6\n\\item 6\n\\item 4\n\\item 5\n\\item 6\n\\item 5\n\\item 7\n\\item 5\n\\item 6\n\\item 4\n\\item 5\n\\item 4\n\\item 6\n\\item 6\n\\item 6\n\\item 5\n\\item 2\n\\item 4\n\\item 7\n\\item 1\n\\item 4\n\\item 4\n\\item 3\n\\item 5\n\\item 7\n\\item 4\n\\item 6\n\\item 3\n\\item 6\n\\item 5\n\\item 4\n\\item 7\n\\item 5\n\\item 5\n\\item 6\n\\item 4\n\\item 7\n\\item 4\n\\item 7\n\\item 2\n\\item 4\n\\item 2\n\\item 7\n\\item 5\n\\item 7\n\\item 6\n\\item 8\n\\item 6\n\\item 3\n\\item 5\n\\item 6\n\\item 7\n\\item 5\n\\item 6\n\\item 7\n\\item 4\n\\item 5\n\\item 6\n\\item 6\n\\item 5\n\\item 6\n\\item 6\n\\item 4\n\\item 6\n\\item 6\n\\item 4\n\\item 5\n\\item 6\n\\item 5\n\\item 5\n\\item 5\n\\item 4\n\\item 8\n\\item 6\n\\item 5\n\\item 4\n\\item 7\n\\item 5\n\\item 9\n\\item 5\n\\item 8\n\\item 2\n\\item 7\n\\item 5\n\\item 5\n\\item 3\n\\item 5\n\\item 5\n\\end{enumerate*}\n",
      "text/plain": [
       "  [1] 7 3 6 7 6 6 7 2 4 7 5 4 6 6 4 5 6 5 7 5 6 4 5 4 6 6 6 5 2 4 7 1 4 4 3 5 7\n",
       " [38] 4 6 3 6 5 4 7 5 5 6 4 7 4 7 2 4 2 7 5 7 6 8 6 3 5 6 7 5 6 7 4 5 6 6 5 6 6\n",
       " [75] 4 6 6 4 5 6 5 5 5 4 8 6 5 4 7 5 9 5 8 2 7 5 5 3 5 5"
      ]
     },
     "metadata": {}
    }
   ]
  },
  {
   "cell_type": "markdown",
   "source": [
    "## Текстовый вектор"
   ],
   "metadata": {
    "id": "TxluuDwr4RdM"
   }
  },
  {
   "cell_type": "code",
   "source": [
    "letters"
   ],
   "metadata": {
    "colab": {
     "base_uri": "https://localhost:8080/",
     "height": 34
    },
    "id": "SrHlEB8_205F",
    "executionInfo": {
     "status": "ok",
     "timestamp": 1684413975591,
     "user_tz": -180,
     "elapsed": 558,
     "user": {
      "displayName": "Daniel D",
      "userId": "11270935181438165191"
     }
    },
    "outputId": "15f8988c-2976-4ca2-d3c5-f4608841a037"
   },
   "execution_count": null,
   "outputs": [
    {
     "output_type": "display_data",
     "data": {
      "text/html": [
       "<style>\n",
       ".list-inline {list-style: none; margin:0; padding: 0}\n",
       ".list-inline>li {display: inline-block}\n",
       ".list-inline>li:not(:last-child)::after {content: \"\\00b7\"; padding: 0 .5ex}\n",
       "</style>\n",
       "<ol class=list-inline><li>'a'</li><li>'b'</li><li>'c'</li><li>'d'</li><li>'e'</li><li>'f'</li><li>'g'</li><li>'h'</li><li>'i'</li><li>'j'</li><li>'k'</li><li>'l'</li><li>'m'</li><li>'n'</li><li>'o'</li><li>'p'</li><li>'q'</li><li>'r'</li><li>'s'</li><li>'t'</li><li>'u'</li><li>'v'</li><li>'w'</li><li>'x'</li><li>'y'</li><li>'z'</li></ol>\n"
      ],
      "text/markdown": "1. 'a'\n2. 'b'\n3. 'c'\n4. 'd'\n5. 'e'\n6. 'f'\n7. 'g'\n8. 'h'\n9. 'i'\n10. 'j'\n11. 'k'\n12. 'l'\n13. 'm'\n14. 'n'\n15. 'o'\n16. 'p'\n17. 'q'\n18. 'r'\n19. 's'\n20. 't'\n21. 'u'\n22. 'v'\n23. 'w'\n24. 'x'\n25. 'y'\n26. 'z'\n\n\n",
      "text/latex": "\\begin{enumerate*}\n\\item 'a'\n\\item 'b'\n\\item 'c'\n\\item 'd'\n\\item 'e'\n\\item 'f'\n\\item 'g'\n\\item 'h'\n\\item 'i'\n\\item 'j'\n\\item 'k'\n\\item 'l'\n\\item 'm'\n\\item 'n'\n\\item 'o'\n\\item 'p'\n\\item 'q'\n\\item 'r'\n\\item 's'\n\\item 't'\n\\item 'u'\n\\item 'v'\n\\item 'w'\n\\item 'x'\n\\item 'y'\n\\item 'z'\n\\end{enumerate*}\n",
      "text/plain": [
       " [1] \"a\" \"b\" \"c\" \"d\" \"e\" \"f\" \"g\" \"h\" \"i\" \"j\" \"k\" \"l\" \"m\" \"n\" \"o\" \"p\" \"q\" \"r\" \"s\"\n",
       "[20] \"t\" \"u\" \"v\" \"w\" \"x\" \"y\" \"z\""
      ]
     },
     "metadata": {}
    }
   ]
  },
  {
   "cell_type": "code",
   "source": [
    "LETTERS"
   ],
   "metadata": {
    "colab": {
     "base_uri": "https://localhost:8080/",
     "height": 34
    },
    "id": "_PYRnVxb24US",
    "executionInfo": {
     "status": "ok",
     "timestamp": 1684413975591,
     "user_tz": -180,
     "elapsed": 3,
     "user": {
      "displayName": "Daniel D",
      "userId": "11270935181438165191"
     }
    },
    "outputId": "277a3330-b85a-4b72-ef2a-3e3e0bc0e892"
   },
   "execution_count": null,
   "outputs": [
    {
     "output_type": "display_data",
     "data": {
      "text/html": [
       "<style>\n",
       ".list-inline {list-style: none; margin:0; padding: 0}\n",
       ".list-inline>li {display: inline-block}\n",
       ".list-inline>li:not(:last-child)::after {content: \"\\00b7\"; padding: 0 .5ex}\n",
       "</style>\n",
       "<ol class=list-inline><li>'A'</li><li>'B'</li><li>'C'</li><li>'D'</li><li>'E'</li><li>'F'</li><li>'G'</li><li>'H'</li><li>'I'</li><li>'J'</li><li>'K'</li><li>'L'</li><li>'M'</li><li>'N'</li><li>'O'</li><li>'P'</li><li>'Q'</li><li>'R'</li><li>'S'</li><li>'T'</li><li>'U'</li><li>'V'</li><li>'W'</li><li>'X'</li><li>'Y'</li><li>'Z'</li></ol>\n"
      ],
      "text/markdown": "1. 'A'\n2. 'B'\n3. 'C'\n4. 'D'\n5. 'E'\n6. 'F'\n7. 'G'\n8. 'H'\n9. 'I'\n10. 'J'\n11. 'K'\n12. 'L'\n13. 'M'\n14. 'N'\n15. 'O'\n16. 'P'\n17. 'Q'\n18. 'R'\n19. 'S'\n20. 'T'\n21. 'U'\n22. 'V'\n23. 'W'\n24. 'X'\n25. 'Y'\n26. 'Z'\n\n\n",
      "text/latex": "\\begin{enumerate*}\n\\item 'A'\n\\item 'B'\n\\item 'C'\n\\item 'D'\n\\item 'E'\n\\item 'F'\n\\item 'G'\n\\item 'H'\n\\item 'I'\n\\item 'J'\n\\item 'K'\n\\item 'L'\n\\item 'M'\n\\item 'N'\n\\item 'O'\n\\item 'P'\n\\item 'Q'\n\\item 'R'\n\\item 'S'\n\\item 'T'\n\\item 'U'\n\\item 'V'\n\\item 'W'\n\\item 'X'\n\\item 'Y'\n\\item 'Z'\n\\end{enumerate*}\n",
      "text/plain": [
       " [1] \"A\" \"B\" \"C\" \"D\" \"E\" \"F\" \"G\" \"H\" \"I\" \"J\" \"K\" \"L\" \"M\" \"N\" \"O\" \"P\" \"Q\" \"R\" \"S\"\n",
       "[20] \"T\" \"U\" \"V\" \"W\" \"X\" \"Y\" \"Z\""
      ]
     },
     "metadata": {}
    }
   ]
  },
  {
   "cell_type": "code",
   "source": [
    "paste(letters, set=\"_\", seq(1, 26))"
   ],
   "metadata": {
    "colab": {
     "base_uri": "https://localhost:8080/",
     "height": 34
    },
    "id": "nOZGPkMi3lYG",
    "executionInfo": {
     "status": "ok",
     "timestamp": 1684414024957,
     "user_tz": -180,
     "elapsed": 394,
     "user": {
      "displayName": "Daniel D",
      "userId": "11270935181438165191"
     }
    },
    "outputId": "276bc42f-061f-4f2c-fc50-9fed0a8eaa1f"
   },
   "execution_count": null,
   "outputs": [
    {
     "output_type": "display_data",
     "data": {
      "text/html": [
       "<style>\n",
       ".list-inline {list-style: none; margin:0; padding: 0}\n",
       ".list-inline>li {display: inline-block}\n",
       ".list-inline>li:not(:last-child)::after {content: \"\\00b7\"; padding: 0 .5ex}\n",
       "</style>\n",
       "<ol class=list-inline><li>'a _ 1'</li><li>'b _ 2'</li><li>'c _ 3'</li><li>'d _ 4'</li><li>'e _ 5'</li><li>'f _ 6'</li><li>'g _ 7'</li><li>'h _ 8'</li><li>'i _ 9'</li><li>'j _ 10'</li><li>'k _ 11'</li><li>'l _ 12'</li><li>'m _ 13'</li><li>'n _ 14'</li><li>'o _ 15'</li><li>'p _ 16'</li><li>'q _ 17'</li><li>'r _ 18'</li><li>'s _ 19'</li><li>'t _ 20'</li><li>'u _ 21'</li><li>'v _ 22'</li><li>'w _ 23'</li><li>'x _ 24'</li><li>'y _ 25'</li><li>'z _ 26'</li></ol>\n"
      ],
      "text/markdown": "1. 'a _ 1'\n2. 'b _ 2'\n3. 'c _ 3'\n4. 'd _ 4'\n5. 'e _ 5'\n6. 'f _ 6'\n7. 'g _ 7'\n8. 'h _ 8'\n9. 'i _ 9'\n10. 'j _ 10'\n11. 'k _ 11'\n12. 'l _ 12'\n13. 'm _ 13'\n14. 'n _ 14'\n15. 'o _ 15'\n16. 'p _ 16'\n17. 'q _ 17'\n18. 'r _ 18'\n19. 's _ 19'\n20. 't _ 20'\n21. 'u _ 21'\n22. 'v _ 22'\n23. 'w _ 23'\n24. 'x _ 24'\n25. 'y _ 25'\n26. 'z _ 26'\n\n\n",
      "text/latex": "\\begin{enumerate*}\n\\item 'a \\_ 1'\n\\item 'b \\_ 2'\n\\item 'c \\_ 3'\n\\item 'd \\_ 4'\n\\item 'e \\_ 5'\n\\item 'f \\_ 6'\n\\item 'g \\_ 7'\n\\item 'h \\_ 8'\n\\item 'i \\_ 9'\n\\item 'j \\_ 10'\n\\item 'k \\_ 11'\n\\item 'l \\_ 12'\n\\item 'm \\_ 13'\n\\item 'n \\_ 14'\n\\item 'o \\_ 15'\n\\item 'p \\_ 16'\n\\item 'q \\_ 17'\n\\item 'r \\_ 18'\n\\item 's \\_ 19'\n\\item 't \\_ 20'\n\\item 'u \\_ 21'\n\\item 'v \\_ 22'\n\\item 'w \\_ 23'\n\\item 'x \\_ 24'\n\\item 'y \\_ 25'\n\\item 'z \\_ 26'\n\\end{enumerate*}\n",
      "text/plain": [
       " [1] \"a _ 1\"  \"b _ 2\"  \"c _ 3\"  \"d _ 4\"  \"e _ 5\"  \"f _ 6\"  \"g _ 7\"  \"h _ 8\" \n",
       " [9] \"i _ 9\"  \"j _ 10\" \"k _ 11\" \"l _ 12\" \"m _ 13\" \"n _ 14\" \"o _ 15\" \"p _ 16\"\n",
       "[17] \"q _ 17\" \"r _ 18\" \"s _ 19\" \"t _ 20\" \"u _ 21\" \"v _ 22\" \"w _ 23\" \"x _ 24\"\n",
       "[25] \"y _ 25\" \"z _ 26\""
      ]
     },
     "metadata": {}
    }
   ]
  },
  {
   "cell_type": "code",
   "source": [
    "?ISOdate\n",
    "format(ISOdate(2019, 9, 1:30), \"%d\")"
   ],
   "metadata": {
    "colab": {
     "base_uri": "https://localhost:8080/",
     "height": 34
    },
    "id": "GmCbZ8g93le-",
    "executionInfo": {
     "status": "ok",
     "timestamp": 1684414133742,
     "user_tz": -180,
     "elapsed": 313,
     "user": {
      "displayName": "Daniel D",
      "userId": "11270935181438165191"
     }
    },
    "outputId": "98dd9863-04ad-4dd7-e37b-9ec9c591ea07"
   },
   "execution_count": null,
   "outputs": [
    {
     "output_type": "display_data",
     "data": {
      "text/html": [
       "<style>\n",
       ".list-inline {list-style: none; margin:0; padding: 0}\n",
       ".list-inline>li {display: inline-block}\n",
       ".list-inline>li:not(:last-child)::after {content: \"\\00b7\"; padding: 0 .5ex}\n",
       "</style>\n",
       "<ol class=list-inline><li>'01'</li><li>'02'</li><li>'03'</li><li>'04'</li><li>'05'</li><li>'06'</li><li>'07'</li><li>'08'</li><li>'09'</li><li>'10'</li><li>'11'</li><li>'12'</li><li>'13'</li><li>'14'</li><li>'15'</li><li>'16'</li><li>'17'</li><li>'18'</li><li>'19'</li><li>'20'</li><li>'21'</li><li>'22'</li><li>'23'</li><li>'24'</li><li>'25'</li><li>'26'</li><li>'27'</li><li>'28'</li><li>'29'</li><li>'30'</li></ol>\n"
      ],
      "text/markdown": "1. '01'\n2. '02'\n3. '03'\n4. '04'\n5. '05'\n6. '06'\n7. '07'\n8. '08'\n9. '09'\n10. '10'\n11. '11'\n12. '12'\n13. '13'\n14. '14'\n15. '15'\n16. '16'\n17. '17'\n18. '18'\n19. '19'\n20. '20'\n21. '21'\n22. '22'\n23. '23'\n24. '24'\n25. '25'\n26. '26'\n27. '27'\n28. '28'\n29. '29'\n30. '30'\n\n\n",
      "text/latex": "\\begin{enumerate*}\n\\item '01'\n\\item '02'\n\\item '03'\n\\item '04'\n\\item '05'\n\\item '06'\n\\item '07'\n\\item '08'\n\\item '09'\n\\item '10'\n\\item '11'\n\\item '12'\n\\item '13'\n\\item '14'\n\\item '15'\n\\item '16'\n\\item '17'\n\\item '18'\n\\item '19'\n\\item '20'\n\\item '21'\n\\item '22'\n\\item '23'\n\\item '24'\n\\item '25'\n\\item '26'\n\\item '27'\n\\item '28'\n\\item '29'\n\\item '30'\n\\end{enumerate*}\n",
      "text/plain": [
       " [1] \"01\" \"02\" \"03\" \"04\" \"05\" \"06\" \"07\" \"08\" \"09\" \"10\" \"11\" \"12\" \"13\" \"14\" \"15\"\n",
       "[16] \"16\" \"17\" \"18\" \"19\" \"20\" \"21\" \"22\" \"23\" \"24\" \"25\" \"26\" \"27\" \"28\" \"29\" \"30\""
      ]
     },
     "metadata": {}
    }
   ]
  },
  {
   "cell_type": "code",
   "source": [
    "format(ISOdate(2019, 9, 1:30), \"%b\")"
   ],
   "metadata": {
    "colab": {
     "base_uri": "https://localhost:8080/",
     "height": 34
    },
    "id": "pRCaojOi3ll9",
    "executionInfo": {
     "status": "ok",
     "timestamp": 1684414154699,
     "user_tz": -180,
     "elapsed": 289,
     "user": {
      "displayName": "Daniel D",
      "userId": "11270935181438165191"
     }
    },
    "outputId": "a2b3f072-eecf-4665-c191-dd895d5e5cbb"
   },
   "execution_count": null,
   "outputs": [
    {
     "output_type": "display_data",
     "data": {
      "text/html": [
       "<style>\n",
       ".list-inline {list-style: none; margin:0; padding: 0}\n",
       ".list-inline>li {display: inline-block}\n",
       ".list-inline>li:not(:last-child)::after {content: \"\\00b7\"; padding: 0 .5ex}\n",
       "</style>\n",
       "<ol class=list-inline><li>'Sep'</li><li>'Sep'</li><li>'Sep'</li><li>'Sep'</li><li>'Sep'</li><li>'Sep'</li><li>'Sep'</li><li>'Sep'</li><li>'Sep'</li><li>'Sep'</li><li>'Sep'</li><li>'Sep'</li><li>'Sep'</li><li>'Sep'</li><li>'Sep'</li><li>'Sep'</li><li>'Sep'</li><li>'Sep'</li><li>'Sep'</li><li>'Sep'</li><li>'Sep'</li><li>'Sep'</li><li>'Sep'</li><li>'Sep'</li><li>'Sep'</li><li>'Sep'</li><li>'Sep'</li><li>'Sep'</li><li>'Sep'</li><li>'Sep'</li></ol>\n"
      ],
      "text/markdown": "1. 'Sep'\n2. 'Sep'\n3. 'Sep'\n4. 'Sep'\n5. 'Sep'\n6. 'Sep'\n7. 'Sep'\n8. 'Sep'\n9. 'Sep'\n10. 'Sep'\n11. 'Sep'\n12. 'Sep'\n13. 'Sep'\n14. 'Sep'\n15. 'Sep'\n16. 'Sep'\n17. 'Sep'\n18. 'Sep'\n19. 'Sep'\n20. 'Sep'\n21. 'Sep'\n22. 'Sep'\n23. 'Sep'\n24. 'Sep'\n25. 'Sep'\n26. 'Sep'\n27. 'Sep'\n28. 'Sep'\n29. 'Sep'\n30. 'Sep'\n\n\n",
      "text/latex": "\\begin{enumerate*}\n\\item 'Sep'\n\\item 'Sep'\n\\item 'Sep'\n\\item 'Sep'\n\\item 'Sep'\n\\item 'Sep'\n\\item 'Sep'\n\\item 'Sep'\n\\item 'Sep'\n\\item 'Sep'\n\\item 'Sep'\n\\item 'Sep'\n\\item 'Sep'\n\\item 'Sep'\n\\item 'Sep'\n\\item 'Sep'\n\\item 'Sep'\n\\item 'Sep'\n\\item 'Sep'\n\\item 'Sep'\n\\item 'Sep'\n\\item 'Sep'\n\\item 'Sep'\n\\item 'Sep'\n\\item 'Sep'\n\\item 'Sep'\n\\item 'Sep'\n\\item 'Sep'\n\\item 'Sep'\n\\item 'Sep'\n\\end{enumerate*}\n",
      "text/plain": [
       " [1] \"Sep\" \"Sep\" \"Sep\" \"Sep\" \"Sep\" \"Sep\" \"Sep\" \"Sep\" \"Sep\" \"Sep\" \"Sep\" \"Sep\"\n",
       "[13] \"Sep\" \"Sep\" \"Sep\" \"Sep\" \"Sep\" \"Sep\" \"Sep\" \"Sep\" \"Sep\" \"Sep\" \"Sep\" \"Sep\"\n",
       "[25] \"Sep\" \"Sep\" \"Sep\" \"Sep\" \"Sep\" \"Sep\""
      ]
     },
     "metadata": {}
    }
   ]
  },
  {
   "cell_type": "code",
   "source": [
    "paste0(format(ISOdate(2019, 9, 1:30), \"%d\"), set=\"_\", rep(\"sep\", 30))"
   ],
   "metadata": {
    "colab": {
     "base_uri": "https://localhost:8080/",
     "height": 52
    },
    "id": "bfj8j73w3ltT",
    "executionInfo": {
     "status": "ok",
     "timestamp": 1684414236638,
     "user_tz": -180,
     "elapsed": 338,
     "user": {
      "displayName": "Daniel D",
      "userId": "11270935181438165191"
     }
    },
    "outputId": "e9e5c82b-8ba9-4c38-afcf-abe8e3023213"
   },
   "execution_count": null,
   "outputs": [
    {
     "output_type": "display_data",
     "data": {
      "text/html": [
       "<style>\n",
       ".list-inline {list-style: none; margin:0; padding: 0}\n",
       ".list-inline>li {display: inline-block}\n",
       ".list-inline>li:not(:last-child)::after {content: \"\\00b7\"; padding: 0 .5ex}\n",
       "</style>\n",
       "<ol class=list-inline><li>'01_sep'</li><li>'02_sep'</li><li>'03_sep'</li><li>'04_sep'</li><li>'05_sep'</li><li>'06_sep'</li><li>'07_sep'</li><li>'08_sep'</li><li>'09_sep'</li><li>'10_sep'</li><li>'11_sep'</li><li>'12_sep'</li><li>'13_sep'</li><li>'14_sep'</li><li>'15_sep'</li><li>'16_sep'</li><li>'17_sep'</li><li>'18_sep'</li><li>'19_sep'</li><li>'20_sep'</li><li>'21_sep'</li><li>'22_sep'</li><li>'23_sep'</li><li>'24_sep'</li><li>'25_sep'</li><li>'26_sep'</li><li>'27_sep'</li><li>'28_sep'</li><li>'29_sep'</li><li>'30_sep'</li></ol>\n"
      ],
      "text/markdown": "1. '01_sep'\n2. '02_sep'\n3. '03_sep'\n4. '04_sep'\n5. '05_sep'\n6. '06_sep'\n7. '07_sep'\n8. '08_sep'\n9. '09_sep'\n10. '10_sep'\n11. '11_sep'\n12. '12_sep'\n13. '13_sep'\n14. '14_sep'\n15. '15_sep'\n16. '16_sep'\n17. '17_sep'\n18. '18_sep'\n19. '19_sep'\n20. '20_sep'\n21. '21_sep'\n22. '22_sep'\n23. '23_sep'\n24. '24_sep'\n25. '25_sep'\n26. '26_sep'\n27. '27_sep'\n28. '28_sep'\n29. '29_sep'\n30. '30_sep'\n\n\n",
      "text/latex": "\\begin{enumerate*}\n\\item '01\\_sep'\n\\item '02\\_sep'\n\\item '03\\_sep'\n\\item '04\\_sep'\n\\item '05\\_sep'\n\\item '06\\_sep'\n\\item '07\\_sep'\n\\item '08\\_sep'\n\\item '09\\_sep'\n\\item '10\\_sep'\n\\item '11\\_sep'\n\\item '12\\_sep'\n\\item '13\\_sep'\n\\item '14\\_sep'\n\\item '15\\_sep'\n\\item '16\\_sep'\n\\item '17\\_sep'\n\\item '18\\_sep'\n\\item '19\\_sep'\n\\item '20\\_sep'\n\\item '21\\_sep'\n\\item '22\\_sep'\n\\item '23\\_sep'\n\\item '24\\_sep'\n\\item '25\\_sep'\n\\item '26\\_sep'\n\\item '27\\_sep'\n\\item '28\\_sep'\n\\item '29\\_sep'\n\\item '30\\_sep'\n\\end{enumerate*}\n",
      "text/plain": [
       " [1] \"01_sep\" \"02_sep\" \"03_sep\" \"04_sep\" \"05_sep\" \"06_sep\" \"07_sep\" \"08_sep\"\n",
       " [9] \"09_sep\" \"10_sep\" \"11_sep\" \"12_sep\" \"13_sep\" \"14_sep\" \"15_sep\" \"16_sep\"\n",
       "[17] \"17_sep\" \"18_sep\" \"19_sep\" \"20_sep\" \"21_sep\" \"22_sep\" \"23_sep\" \"24_sep\"\n",
       "[25] \"25_sep\" \"26_sep\" \"27_sep\" \"28_sep\" \"29_sep\" \"30_sep\""
      ]
     },
     "metadata": {}
    }
   ]
  },
  {
   "cell_type": "markdown",
   "source": [
    "## Прочие основные и востребованные функции"
   ],
   "metadata": {
    "id": "Wg8lP2yn6ckQ"
   }
  },
  {
   "cell_type": "code",
   "source": [
    "a <- c(rep(1, 10))\n",
    "a"
   ],
   "metadata": {
    "colab": {
     "base_uri": "https://localhost:8080/",
     "height": 34
    },
    "id": "_lr0QxmA3l0s",
    "executionInfo": {
     "status": "ok",
     "timestamp": 1684414600669,
     "user_tz": -180,
     "elapsed": 521,
     "user": {
      "displayName": "Daniel D",
      "userId": "11270935181438165191"
     }
    },
    "outputId": "cc94e94a-8798-4a49-976e-a7c0d739981e"
   },
   "execution_count": null,
   "outputs": [
    {
     "output_type": "display_data",
     "data": {
      "text/html": [
       "<style>\n",
       ".list-inline {list-style: none; margin:0; padding: 0}\n",
       ".list-inline>li {display: inline-block}\n",
       ".list-inline>li:not(:last-child)::after {content: \"\\00b7\"; padding: 0 .5ex}\n",
       "</style>\n",
       "<ol class=list-inline><li>1</li><li>1</li><li>1</li><li>1</li><li>1</li><li>1</li><li>1</li><li>1</li><li>1</li><li>1</li></ol>\n"
      ],
      "text/markdown": "1. 1\n2. 1\n3. 1\n4. 1\n5. 1\n6. 1\n7. 1\n8. 1\n9. 1\n10. 1\n\n\n",
      "text/latex": "\\begin{enumerate*}\n\\item 1\n\\item 1\n\\item 1\n\\item 1\n\\item 1\n\\item 1\n\\item 1\n\\item 1\n\\item 1\n\\item 1\n\\end{enumerate*}\n",
      "text/plain": [
       " [1] 1 1 1 1 1 1 1 1 1 1"
      ]
     },
     "metadata": {}
    }
   ]
  },
  {
   "cell_type": "code",
   "source": [
    "class(a)"
   ],
   "metadata": {
    "colab": {
     "base_uri": "https://localhost:8080/",
     "height": 34
    },
    "id": "nMrbZMsT3l8C",
    "executionInfo": {
     "status": "ok",
     "timestamp": 1684414608086,
     "user_tz": -180,
     "elapsed": 3,
     "user": {
      "displayName": "Daniel D",
      "userId": "11270935181438165191"
     }
    },
    "outputId": "a486523b-6979-468f-910f-e55e1f9d2ef5"
   },
   "execution_count": null,
   "outputs": [
    {
     "output_type": "display_data",
     "data": {
      "text/html": [
       "'numeric'"
      ],
      "text/markdown": "'numeric'",
      "text/latex": "'numeric'",
      "text/plain": [
       "[1] \"numeric\""
      ]
     },
     "metadata": {}
    }
   ]
  },
  {
   "cell_type": "code",
   "source": [
    "class(letters)"
   ],
   "metadata": {
    "colab": {
     "base_uri": "https://localhost:8080/",
     "height": 34
    },
    "id": "vw_PRFER3mDs",
    "executionInfo": {
     "status": "ok",
     "timestamp": 1684414619571,
     "user_tz": -180,
     "elapsed": 2,
     "user": {
      "displayName": "Daniel D",
      "userId": "11270935181438165191"
     }
    },
    "outputId": "cb76b826-73c4-4550-c917-54ad23fe4892"
   },
   "execution_count": null,
   "outputs": [
    {
     "output_type": "display_data",
     "data": {
      "text/html": [
       "'character'"
      ],
      "text/markdown": "'character'",
      "text/latex": "'character'",
      "text/plain": [
       "[1] \"character\""
      ]
     },
     "metadata": {}
    }
   ]
  },
  {
   "cell_type": "code",
   "source": [
    "class(2 != 0)"
   ],
   "metadata": {
    "colab": {
     "base_uri": "https://localhost:8080/",
     "height": 34
    },
    "id": "t8d8zCNn3mLJ",
    "executionInfo": {
     "status": "ok",
     "timestamp": 1684414637583,
     "user_tz": -180,
     "elapsed": 2,
     "user": {
      "displayName": "Daniel D",
      "userId": "11270935181438165191"
     }
    },
    "outputId": "45675cb1-9af5-4eee-c2d3-a59876ec1f47"
   },
   "execution_count": null,
   "outputs": [
    {
     "output_type": "display_data",
     "data": {
      "text/html": [
       "'logical'"
      ],
      "text/markdown": "'logical'",
      "text/latex": "'logical'",
      "text/plain": [
       "[1] \"logical\""
      ]
     },
     "metadata": {}
    }
   ]
  },
  {
   "cell_type": "code",
   "source": [
    "class(factorial)"
   ],
   "metadata": {
    "colab": {
     "base_uri": "https://localhost:8080/",
     "height": 34
    },
    "id": "lTN4EfcR3mSs",
    "executionInfo": {
     "status": "ok",
     "timestamp": 1684414659630,
     "user_tz": -180,
     "elapsed": 2,
     "user": {
      "displayName": "Daniel D",
      "userId": "11270935181438165191"
     }
    },
    "outputId": "bbd157ce-00b2-4086-b8fe-8576caca4aab"
   },
   "execution_count": null,
   "outputs": [
    {
     "output_type": "display_data",
     "data": {
      "text/html": [
       "'function'"
      ],
      "text/markdown": "'function'",
      "text/latex": "'function'",
      "text/plain": [
       "[1] \"function\""
      ]
     },
     "metadata": {}
    }
   ]
  },
  {
   "cell_type": "code",
   "source": [
    "d <- c(rep(\"a\", 4), rep(\"b\", 6), rep(\"c\", 2))\n",
    "sample(d)"
   ],
   "metadata": {
    "colab": {
     "base_uri": "https://localhost:8080/",
     "height": 34
    },
    "id": "WgkVNXRk7_fK",
    "executionInfo": {
     "status": "ok",
     "timestamp": 1684414744113,
     "user_tz": -180,
     "elapsed": 2,
     "user": {
      "displayName": "Daniel D",
      "userId": "11270935181438165191"
     }
    },
    "outputId": "9c81fe15-718c-4cc7-f9ea-02661764e91d"
   },
   "execution_count": null,
   "outputs": [
    {
     "output_type": "display_data",
     "data": {
      "text/html": [
       "<style>\n",
       ".list-inline {list-style: none; margin:0; padding: 0}\n",
       ".list-inline>li {display: inline-block}\n",
       ".list-inline>li:not(:last-child)::after {content: \"\\00b7\"; padding: 0 .5ex}\n",
       "</style>\n",
       "<ol class=list-inline><li>'b'</li><li>'b'</li><li>'a'</li><li>'c'</li><li>'c'</li><li>'b'</li><li>'b'</li><li>'a'</li><li>'b'</li><li>'b'</li><li>'a'</li><li>'a'</li></ol>\n"
      ],
      "text/markdown": "1. 'b'\n2. 'b'\n3. 'a'\n4. 'c'\n5. 'c'\n6. 'b'\n7. 'b'\n8. 'a'\n9. 'b'\n10. 'b'\n11. 'a'\n12. 'a'\n\n\n",
      "text/latex": "\\begin{enumerate*}\n\\item 'b'\n\\item 'b'\n\\item 'a'\n\\item 'c'\n\\item 'c'\n\\item 'b'\n\\item 'b'\n\\item 'a'\n\\item 'b'\n\\item 'b'\n\\item 'a'\n\\item 'a'\n\\end{enumerate*}\n",
      "text/plain": [
       " [1] \"b\" \"b\" \"a\" \"c\" \"c\" \"b\" \"b\" \"a\" \"b\" \"b\" \"a\" \"a\""
      ]
     },
     "metadata": {}
    }
   ]
  },
  {
   "cell_type": "code",
   "source": [
    "d.table <- table(d)\n",
    "d.table"
   ],
   "metadata": {
    "colab": {
     "base_uri": "https://localhost:8080/",
     "height": 69
    },
    "id": "HCTSr3fD8ABT",
    "executionInfo": {
     "status": "ok",
     "timestamp": 1684414770054,
     "user_tz": -180,
     "elapsed": 3,
     "user": {
      "displayName": "Daniel D",
      "userId": "11270935181438165191"
     }
    },
    "outputId": "78d1b924-e560-4c5f-d618-3ee9e6e23618"
   },
   "execution_count": null,
   "outputs": [
    {
     "output_type": "display_data",
     "data": {
      "text/plain": [
       "d\n",
       "a b c \n",
       "4 6 2 "
      ]
     },
     "metadata": {}
    }
   ]
  },
  {
   "cell_type": "code",
   "source": [
    "r <- seq(1, 10)\n",
    "r"
   ],
   "metadata": {
    "colab": {
     "base_uri": "https://localhost:8080/",
     "height": 34
    },
    "id": "xoxQxZNQ8AHZ",
    "executionInfo": {
     "status": "ok",
     "timestamp": 1684414806098,
     "user_tz": -180,
     "elapsed": 300,
     "user": {
      "displayName": "Daniel D",
      "userId": "11270935181438165191"
     }
    },
    "outputId": "92aff1b3-ede7-4663-a24a-dad3fbf2b47a"
   },
   "execution_count": null,
   "outputs": [
    {
     "output_type": "display_data",
     "data": {
      "text/html": [
       "<style>\n",
       ".list-inline {list-style: none; margin:0; padding: 0}\n",
       ".list-inline>li {display: inline-block}\n",
       ".list-inline>li:not(:last-child)::after {content: \"\\00b7\"; padding: 0 .5ex}\n",
       "</style>\n",
       "<ol class=list-inline><li>1</li><li>2</li><li>3</li><li>4</li><li>5</li><li>6</li><li>7</li><li>8</li><li>9</li><li>10</li></ol>\n"
      ],
      "text/markdown": "1. 1\n2. 2\n3. 3\n4. 4\n5. 5\n6. 6\n7. 7\n8. 8\n9. 9\n10. 10\n\n\n",
      "text/latex": "\\begin{enumerate*}\n\\item 1\n\\item 2\n\\item 3\n\\item 4\n\\item 5\n\\item 6\n\\item 7\n\\item 8\n\\item 9\n\\item 10\n\\end{enumerate*}\n",
      "text/plain": [
       " [1]  1  2  3  4  5  6  7  8  9 10"
      ]
     },
     "metadata": {}
    }
   ]
  },
  {
   "cell_type": "code",
   "source": [
    "sum(r)"
   ],
   "metadata": {
    "colab": {
     "base_uri": "https://localhost:8080/",
     "height": 34
    },
    "id": "VWFcYEWg8AM_",
    "executionInfo": {
     "status": "ok",
     "timestamp": 1684414808986,
     "user_tz": -180,
     "elapsed": 3,
     "user": {
      "displayName": "Daniel D",
      "userId": "11270935181438165191"
     }
    },
    "outputId": "9bef91a0-7a52-45d8-f36c-096c7adb8fbf"
   },
   "execution_count": null,
   "outputs": [
    {
     "output_type": "display_data",
     "data": {
      "text/html": [
       "55"
      ],
      "text/markdown": "55",
      "text/latex": "55",
      "text/plain": [
       "[1] 55"
      ]
     },
     "metadata": {}
    }
   ]
  },
  {
   "cell_type": "code",
   "source": [
    "r_mean <- sum(r) / length(r)\n",
    "r_mean"
   ],
   "metadata": {
    "colab": {
     "base_uri": "https://localhost:8080/",
     "height": 34
    },
    "id": "5xzZQ6o58ASG",
    "executionInfo": {
     "status": "ok",
     "timestamp": 1684414840315,
     "user_tz": -180,
     "elapsed": 353,
     "user": {
      "displayName": "Daniel D",
      "userId": "11270935181438165191"
     }
    },
    "outputId": "10b465d6-71fb-42d0-b785-94c4561cef06"
   },
   "execution_count": null,
   "outputs": [
    {
     "output_type": "display_data",
     "data": {
      "text/html": [
       "5.5"
      ],
      "text/markdown": "5.5",
      "text/latex": "5.5",
      "text/plain": [
       "[1] 5.5"
      ]
     },
     "metadata": {}
    }
   ]
  },
  {
   "cell_type": "code",
   "source": [
    "mean(r)"
   ],
   "metadata": {
    "colab": {
     "base_uri": "https://localhost:8080/",
     "height": 34
    },
    "id": "dzDqWTxy8AXd",
    "executionInfo": {
     "status": "ok",
     "timestamp": 1684414859028,
     "user_tz": -180,
     "elapsed": 3,
     "user": {
      "displayName": "Daniel D",
      "userId": "11270935181438165191"
     }
    },
    "outputId": "a248ae9f-a392-40f2-ff1d-7e3228e4420d"
   },
   "execution_count": null,
   "outputs": [
    {
     "output_type": "display_data",
     "data": {
      "text/html": [
       "5.5"
      ],
      "text/markdown": "5.5",
      "text/latex": "5.5",
      "text/plain": [
       "[1] 5.5"
      ]
     },
     "metadata": {}
    }
   ]
  },
  {
   "cell_type": "markdown",
   "source": [
    "## Функции set.seed(), sort()"
   ],
   "metadata": {
    "id": "T33gpqMM9swP"
   }
  },
  {
   "cell_type": "code",
   "source": [
    "set.seed(42)"
   ],
   "metadata": {
    "id": "J-spA5178wJA"
   },
   "execution_count": null,
   "outputs": []
  },
  {
   "cell_type": "code",
   "source": [
    "popul <- rnorm(100)\n",
    "popul"
   ],
   "metadata": {
    "colab": {
     "base_uri": "https://localhost:8080/",
     "height": 173
    },
    "id": "0RdvLRPi8wMZ",
    "executionInfo": {
     "status": "ok",
     "timestamp": 1684414911235,
     "user_tz": -180,
     "elapsed": 4,
     "user": {
      "displayName": "Daniel D",
      "userId": "11270935181438165191"
     }
    },
    "outputId": "3bbb3afc-61e0-461f-9cf5-9b02dea0bdb7"
   },
   "execution_count": null,
   "outputs": [
    {
     "output_type": "display_data",
     "data": {
      "text/html": [
       "<style>\n",
       ".list-inline {list-style: none; margin:0; padding: 0}\n",
       ".list-inline>li {display: inline-block}\n",
       ".list-inline>li:not(:last-child)::after {content: \"\\00b7\"; padding: 0 .5ex}\n",
       "</style>\n",
       "<ol class=list-inline><li>1.20096537559849</li><li>1.04475108716773</li><li>-1.00320864683985</li><li>1.84848190167275</li><li>-0.666773408757817</li><li>0.105513812456069</li><li>-0.422255881868856</li><li>-0.122350171954971</li><li>0.188193034501498</li><li>0.119160957997006</li><li>-0.0250925508674029</li><li>0.108072727942033</li><li>-0.485435235846668</li><li>-0.504217130687904</li><li>-1.66109907991481</li><li>-0.382333726873818</li><li>-0.5126502578778</li><li>2.7018910003448</li><li>-1.36211623118972</li><li>0.137256218558607</li><li>-1.49362506731629</li><li>-1.4704357414368</li><li>0.124702386197007</li><li>-0.996639134884037</li><li>-0.0018226143047082</li><li>-0.428258881425815</li><li>-0.613671606449495</li><li>-2.02467784541911</li><li>-1.22474795035999</li><li>0.179516441117938</li><li>0.567620594423535</li><li>-0.492877353553475</li><li>6.28840653511241e-05</li><li>1.12288964337997</li><li>1.43985574297619</li><li>-1.09711376840582</li><li>-0.117319560250177</li><li>1.2014984009197</li><li>-0.469729580566301</li><li>-0.0524694849389963</li><li>-0.0861072982370896</li><li>-0.887679017906432</li><li>-0.444684004884738</li><li>-0.0294448790882381</li><li>-0.413868849057924</li><li>1.1133860233682</li><li>-0.480992841653982</li><li>-0.433169032600729</li><li>0.696862576552103</li><li>-1.05636841317091</li><li>-0.0406984751512149</li><li>-1.55154482234759</li><li>1.16716954923568</li><li>-0.273645701374081</li><li>-0.467845324672254</li><li>-1.23825232798621</li><li>-0.00776203377732663</li><li>-0.80028217795166</li><li>-0.533492329950436</li><li>1.28767524558459</li><li>-0.175525870242127</li><li>-1.07178238415068</li><li>0.163206882467382</li><li>-0.36273841562795</li><li>0.590013547987339</li><li>1.43242192773099</li><li>-0.992692511109493</li><li>0.454650297580283</li><li>0.0848980586784873</li><li>0.895565582264545</li><li>-0.229778138946266</li><li>0.836619068460613</li><li>-1.74505586133669</li><li>1.68945892131337</li><li>0.864777978518578</li><li>-0.150775988885748</li><li>-1.44900713013917</li><li>0.643008700041982</li><li>0.483193863814768</li><li>-0.00635562642138871</li><li>0.151455892862424</li><li>-0.584108970349804</li><li>0.368806732630242</li><li>0.294654339719516</li><li>-0.279259373342575</li><li>-1.33623665489315</li><li>0.700748818440034</li><li>0.554196622274033</li><li>-0.836306592801415</li><li>-1.59458816200624</li><li>0.204958580587634</li><li>-0.34508797797289</li><li>0.252611703364455</li><li>-1.29400246548455</li><li>-0.959170444380363</li><li>1.0857748536799</li><li>0.403774904715714</li><li>0.586487536719298</li><li>1.81522844615395</li><li>0.128821428602383</li></ol>\n"
      ],
      "text/markdown": "1. 1.20096537559849\n2. 1.04475108716773\n3. -1.00320864683985\n4. 1.84848190167275\n5. -0.666773408757817\n6. 0.105513812456069\n7. -0.422255881868856\n8. -0.122350171954971\n9. 0.188193034501498\n10. 0.119160957997006\n11. -0.0250925508674029\n12. 0.108072727942033\n13. -0.485435235846668\n14. -0.504217130687904\n15. -1.66109907991481\n16. -0.382333726873818\n17. -0.5126502578778\n18. 2.7018910003448\n19. -1.36211623118972\n20. 0.137256218558607\n21. -1.49362506731629\n22. -1.4704357414368\n23. 0.124702386197007\n24. -0.996639134884037\n25. -0.0018226143047082\n26. -0.428258881425815\n27. -0.613671606449495\n28. -2.02467784541911\n29. -1.22474795035999\n30. 0.179516441117938\n31. 0.567620594423535\n32. -0.492877353553475\n33. 6.28840653511241e-05\n34. 1.12288964337997\n35. 1.43985574297619\n36. -1.09711376840582\n37. -0.117319560250177\n38. 1.2014984009197\n39. -0.469729580566301\n40. -0.0524694849389963\n41. -0.0861072982370896\n42. -0.887679017906432\n43. -0.444684004884738\n44. -0.0294448790882381\n45. -0.413868849057924\n46. 1.1133860233682\n47. -0.480992841653982\n48. -0.433169032600729\n49. 0.696862576552103\n50. -1.05636841317091\n51. -0.0406984751512149\n52. -1.55154482234759\n53. 1.16716954923568\n54. -0.273645701374081\n55. -0.467845324672254\n56. -1.23825232798621\n57. -0.00776203377732663\n58. -0.80028217795166\n59. -0.533492329950436\n60. 1.28767524558459\n61. -0.175525870242127\n62. -1.07178238415068\n63. 0.163206882467382\n64. -0.36273841562795\n65. 0.590013547987339\n66. 1.43242192773099\n67. -0.992692511109493\n68. 0.454650297580283\n69. 0.0848980586784873\n70. 0.895565582264545\n71. -0.229778138946266\n72. 0.836619068460613\n73. -1.74505586133669\n74. 1.68945892131337\n75. 0.864777978518578\n76. -0.150775988885748\n77. -1.44900713013917\n78. 0.643008700041982\n79. 0.483193863814768\n80. -0.00635562642138871\n81. 0.151455892862424\n82. -0.584108970349804\n83. 0.368806732630242\n84. 0.294654339719516\n85. -0.279259373342575\n86. -1.33623665489315\n87. 0.700748818440034\n88. 0.554196622274033\n89. -0.836306592801415\n90. -1.59458816200624\n91. 0.204958580587634\n92. -0.34508797797289\n93. 0.252611703364455\n94. -1.29400246548455\n95. -0.959170444380363\n96. 1.0857748536799\n97. 0.403774904715714\n98. 0.586487536719298\n99. 1.81522844615395\n100. 0.128821428602383\n\n\n",
      "text/latex": "\\begin{enumerate*}\n\\item 1.20096537559849\n\\item 1.04475108716773\n\\item -1.00320864683985\n\\item 1.84848190167275\n\\item -0.666773408757817\n\\item 0.105513812456069\n\\item -0.422255881868856\n\\item -0.122350171954971\n\\item 0.188193034501498\n\\item 0.119160957997006\n\\item -0.0250925508674029\n\\item 0.108072727942033\n\\item -0.485435235846668\n\\item -0.504217130687904\n\\item -1.66109907991481\n\\item -0.382333726873818\n\\item -0.5126502578778\n\\item 2.7018910003448\n\\item -1.36211623118972\n\\item 0.137256218558607\n\\item -1.49362506731629\n\\item -1.4704357414368\n\\item 0.124702386197007\n\\item -0.996639134884037\n\\item -0.0018226143047082\n\\item -0.428258881425815\n\\item -0.613671606449495\n\\item -2.02467784541911\n\\item -1.22474795035999\n\\item 0.179516441117938\n\\item 0.567620594423535\n\\item -0.492877353553475\n\\item 6.28840653511241e-05\n\\item 1.12288964337997\n\\item 1.43985574297619\n\\item -1.09711376840582\n\\item -0.117319560250177\n\\item 1.2014984009197\n\\item -0.469729580566301\n\\item -0.0524694849389963\n\\item -0.0861072982370896\n\\item -0.887679017906432\n\\item -0.444684004884738\n\\item -0.0294448790882381\n\\item -0.413868849057924\n\\item 1.1133860233682\n\\item -0.480992841653982\n\\item -0.433169032600729\n\\item 0.696862576552103\n\\item -1.05636841317091\n\\item -0.0406984751512149\n\\item -1.55154482234759\n\\item 1.16716954923568\n\\item -0.273645701374081\n\\item -0.467845324672254\n\\item -1.23825232798621\n\\item -0.00776203377732663\n\\item -0.80028217795166\n\\item -0.533492329950436\n\\item 1.28767524558459\n\\item -0.175525870242127\n\\item -1.07178238415068\n\\item 0.163206882467382\n\\item -0.36273841562795\n\\item 0.590013547987339\n\\item 1.43242192773099\n\\item -0.992692511109493\n\\item 0.454650297580283\n\\item 0.0848980586784873\n\\item 0.895565582264545\n\\item -0.229778138946266\n\\item 0.836619068460613\n\\item -1.74505586133669\n\\item 1.68945892131337\n\\item 0.864777978518578\n\\item -0.150775988885748\n\\item -1.44900713013917\n\\item 0.643008700041982\n\\item 0.483193863814768\n\\item -0.00635562642138871\n\\item 0.151455892862424\n\\item -0.584108970349804\n\\item 0.368806732630242\n\\item 0.294654339719516\n\\item -0.279259373342575\n\\item -1.33623665489315\n\\item 0.700748818440034\n\\item 0.554196622274033\n\\item -0.836306592801415\n\\item -1.59458816200624\n\\item 0.204958580587634\n\\item -0.34508797797289\n\\item 0.252611703364455\n\\item -1.29400246548455\n\\item -0.959170444380363\n\\item 1.0857748536799\n\\item 0.403774904715714\n\\item 0.586487536719298\n\\item 1.81522844615395\n\\item 0.128821428602383\n\\end{enumerate*}\n",
      "text/plain": [
       "  [1]  1.200965e+00  1.044751e+00 -1.003209e+00  1.848482e+00 -6.667734e-01\n",
       "  [6]  1.055138e-01 -4.222559e-01 -1.223502e-01  1.881930e-01  1.191610e-01\n",
       " [11] -2.509255e-02  1.080727e-01 -4.854352e-01 -5.042171e-01 -1.661099e+00\n",
       " [16] -3.823337e-01 -5.126503e-01  2.701891e+00 -1.362116e+00  1.372562e-01\n",
       " [21] -1.493625e+00 -1.470436e+00  1.247024e-01 -9.966391e-01 -1.822614e-03\n",
       " [26] -4.282589e-01 -6.136716e-01 -2.024678e+00 -1.224748e+00  1.795164e-01\n",
       " [31]  5.676206e-01 -4.928774e-01  6.288407e-05  1.122890e+00  1.439856e+00\n",
       " [36] -1.097114e+00 -1.173196e-01  1.201498e+00 -4.697296e-01 -5.246948e-02\n",
       " [41] -8.610730e-02 -8.876790e-01 -4.446840e-01 -2.944488e-02 -4.138688e-01\n",
       " [46]  1.113386e+00 -4.809928e-01 -4.331690e-01  6.968626e-01 -1.056368e+00\n",
       " [51] -4.069848e-02 -1.551545e+00  1.167170e+00 -2.736457e-01 -4.678453e-01\n",
       " [56] -1.238252e+00 -7.762034e-03 -8.002822e-01 -5.334923e-01  1.287675e+00\n",
       " [61] -1.755259e-01 -1.071782e+00  1.632069e-01 -3.627384e-01  5.900135e-01\n",
       " [66]  1.432422e+00 -9.926925e-01  4.546503e-01  8.489806e-02  8.955656e-01\n",
       " [71] -2.297781e-01  8.366191e-01 -1.745056e+00  1.689459e+00  8.647780e-01\n",
       " [76] -1.507760e-01 -1.449007e+00  6.430087e-01  4.831939e-01 -6.355626e-03\n",
       " [81]  1.514559e-01 -5.841090e-01  3.688067e-01  2.946543e-01 -2.792594e-01\n",
       " [86] -1.336237e+00  7.007488e-01  5.541966e-01 -8.363066e-01 -1.594588e+00\n",
       " [91]  2.049586e-01 -3.450880e-01  2.526117e-01 -1.294002e+00 -9.591704e-01\n",
       " [96]  1.085775e+00  4.037749e-01  5.864875e-01  1.815228e+00  1.288214e-01"
      ]
     },
     "metadata": {}
    }
   ]
  },
  {
   "cell_type": "code",
   "source": [
    "popul <- round(popul, 3)\n",
    "popul"
   ],
   "metadata": {
    "colab": {
     "base_uri": "https://localhost:8080/",
     "height": 69
    },
    "id": "ozUN1owT8wPj",
    "executionInfo": {
     "status": "ok",
     "timestamp": 1684414935488,
     "user_tz": -180,
     "elapsed": 3,
     "user": {
      "displayName": "Daniel D",
      "userId": "11270935181438165191"
     }
    },
    "outputId": "16bcc230-e1d3-4e1a-8bb1-bca8527d8d36"
   },
   "execution_count": null,
   "outputs": [
    {
     "output_type": "display_data",
     "data": {
      "text/html": [
       "<style>\n",
       ".list-inline {list-style: none; margin:0; padding: 0}\n",
       ".list-inline>li {display: inline-block}\n",
       ".list-inline>li:not(:last-child)::after {content: \"\\00b7\"; padding: 0 .5ex}\n",
       "</style>\n",
       "<ol class=list-inline><li>1.201</li><li>1.045</li><li>-1.003</li><li>1.848</li><li>-0.667</li><li>0.106</li><li>-0.422</li><li>-0.122</li><li>0.188</li><li>0.119</li><li>-0.025</li><li>0.108</li><li>-0.485</li><li>-0.504</li><li>-1.661</li><li>-0.382</li><li>-0.513</li><li>2.702</li><li>-1.362</li><li>0.137</li><li>-1.494</li><li>-1.47</li><li>0.125</li><li>-0.997</li><li>-0.002</li><li>-0.428</li><li>-0.614</li><li>-2.025</li><li>-1.225</li><li>0.18</li><li>0.568</li><li>-0.493</li><li>0</li><li>1.123</li><li>1.44</li><li>-1.097</li><li>-0.117</li><li>1.201</li><li>-0.47</li><li>-0.052</li><li>-0.086</li><li>-0.888</li><li>-0.445</li><li>-0.029</li><li>-0.414</li><li>1.113</li><li>-0.481</li><li>-0.433</li><li>0.697</li><li>-1.056</li><li>-0.041</li><li>-1.552</li><li>1.167</li><li>-0.274</li><li>-0.468</li><li>-1.238</li><li>-0.008</li><li>-0.8</li><li>-0.533</li><li>1.288</li><li>-0.176</li><li>-1.072</li><li>0.163</li><li>-0.363</li><li>0.59</li><li>1.432</li><li>-0.993</li><li>0.455</li><li>0.085</li><li>0.896</li><li>-0.23</li><li>0.837</li><li>-1.745</li><li>1.689</li><li>0.865</li><li>-0.151</li><li>-1.449</li><li>0.643</li><li>0.483</li><li>-0.006</li><li>0.151</li><li>-0.584</li><li>0.369</li><li>0.295</li><li>-0.279</li><li>-1.336</li><li>0.701</li><li>0.554</li><li>-0.836</li><li>-1.595</li><li>0.205</li><li>-0.345</li><li>0.253</li><li>-1.294</li><li>-0.959</li><li>1.086</li><li>0.404</li><li>0.586</li><li>1.815</li><li>0.129</li></ol>\n"
      ],
      "text/markdown": "1. 1.201\n2. 1.045\n3. -1.003\n4. 1.848\n5. -0.667\n6. 0.106\n7. -0.422\n8. -0.122\n9. 0.188\n10. 0.119\n11. -0.025\n12. 0.108\n13. -0.485\n14. -0.504\n15. -1.661\n16. -0.382\n17. -0.513\n18. 2.702\n19. -1.362\n20. 0.137\n21. -1.494\n22. -1.47\n23. 0.125\n24. -0.997\n25. -0.002\n26. -0.428\n27. -0.614\n28. -2.025\n29. -1.225\n30. 0.18\n31. 0.568\n32. -0.493\n33. 0\n34. 1.123\n35. 1.44\n36. -1.097\n37. -0.117\n38. 1.201\n39. -0.47\n40. -0.052\n41. -0.086\n42. -0.888\n43. -0.445\n44. -0.029\n45. -0.414\n46. 1.113\n47. -0.481\n48. -0.433\n49. 0.697\n50. -1.056\n51. -0.041\n52. -1.552\n53. 1.167\n54. -0.274\n55. -0.468\n56. -1.238\n57. -0.008\n58. -0.8\n59. -0.533\n60. 1.288\n61. -0.176\n62. -1.072\n63. 0.163\n64. -0.363\n65. 0.59\n66. 1.432\n67. -0.993\n68. 0.455\n69. 0.085\n70. 0.896\n71. -0.23\n72. 0.837\n73. -1.745\n74. 1.689\n75. 0.865\n76. -0.151\n77. -1.449\n78. 0.643\n79. 0.483\n80. -0.006\n81. 0.151\n82. -0.584\n83. 0.369\n84. 0.295\n85. -0.279\n86. -1.336\n87. 0.701\n88. 0.554\n89. -0.836\n90. -1.595\n91. 0.205\n92. -0.345\n93. 0.253\n94. -1.294\n95. -0.959\n96. 1.086\n97. 0.404\n98. 0.586\n99. 1.815\n100. 0.129\n\n\n",
      "text/latex": "\\begin{enumerate*}\n\\item 1.201\n\\item 1.045\n\\item -1.003\n\\item 1.848\n\\item -0.667\n\\item 0.106\n\\item -0.422\n\\item -0.122\n\\item 0.188\n\\item 0.119\n\\item -0.025\n\\item 0.108\n\\item -0.485\n\\item -0.504\n\\item -1.661\n\\item -0.382\n\\item -0.513\n\\item 2.702\n\\item -1.362\n\\item 0.137\n\\item -1.494\n\\item -1.47\n\\item 0.125\n\\item -0.997\n\\item -0.002\n\\item -0.428\n\\item -0.614\n\\item -2.025\n\\item -1.225\n\\item 0.18\n\\item 0.568\n\\item -0.493\n\\item 0\n\\item 1.123\n\\item 1.44\n\\item -1.097\n\\item -0.117\n\\item 1.201\n\\item -0.47\n\\item -0.052\n\\item -0.086\n\\item -0.888\n\\item -0.445\n\\item -0.029\n\\item -0.414\n\\item 1.113\n\\item -0.481\n\\item -0.433\n\\item 0.697\n\\item -1.056\n\\item -0.041\n\\item -1.552\n\\item 1.167\n\\item -0.274\n\\item -0.468\n\\item -1.238\n\\item -0.008\n\\item -0.8\n\\item -0.533\n\\item 1.288\n\\item -0.176\n\\item -1.072\n\\item 0.163\n\\item -0.363\n\\item 0.59\n\\item 1.432\n\\item -0.993\n\\item 0.455\n\\item 0.085\n\\item 0.896\n\\item -0.23\n\\item 0.837\n\\item -1.745\n\\item 1.689\n\\item 0.865\n\\item -0.151\n\\item -1.449\n\\item 0.643\n\\item 0.483\n\\item -0.006\n\\item 0.151\n\\item -0.584\n\\item 0.369\n\\item 0.295\n\\item -0.279\n\\item -1.336\n\\item 0.701\n\\item 0.554\n\\item -0.836\n\\item -1.595\n\\item 0.205\n\\item -0.345\n\\item 0.253\n\\item -1.294\n\\item -0.959\n\\item 1.086\n\\item 0.404\n\\item 0.586\n\\item 1.815\n\\item 0.129\n\\end{enumerate*}\n",
      "text/plain": [
       "  [1]  1.201  1.045 -1.003  1.848 -0.667  0.106 -0.422 -0.122  0.188  0.119\n",
       " [11] -0.025  0.108 -0.485 -0.504 -1.661 -0.382 -0.513  2.702 -1.362  0.137\n",
       " [21] -1.494 -1.470  0.125 -0.997 -0.002 -0.428 -0.614 -2.025 -1.225  0.180\n",
       " [31]  0.568 -0.493  0.000  1.123  1.440 -1.097 -0.117  1.201 -0.470 -0.052\n",
       " [41] -0.086 -0.888 -0.445 -0.029 -0.414  1.113 -0.481 -0.433  0.697 -1.056\n",
       " [51] -0.041 -1.552  1.167 -0.274 -0.468 -1.238 -0.008 -0.800 -0.533  1.288\n",
       " [61] -0.176 -1.072  0.163 -0.363  0.590  1.432 -0.993  0.455  0.085  0.896\n",
       " [71] -0.230  0.837 -1.745  1.689  0.865 -0.151 -1.449  0.643  0.483 -0.006\n",
       " [81]  0.151 -0.584  0.369  0.295 -0.279 -1.336  0.701  0.554 -0.836 -1.595\n",
       " [91]  0.205 -0.345  0.253 -1.294 -0.959  1.086  0.404  0.586  1.815  0.129"
      ]
     },
     "metadata": {}
    }
   ]
  },
  {
   "cell_type": "code",
   "source": [
    "sort(popul)"
   ],
   "metadata": {
    "colab": {
     "base_uri": "https://localhost:8080/",
     "height": 69
    },
    "id": "S6VC2o7m8wSS",
    "executionInfo": {
     "status": "ok",
     "timestamp": 1684414946905,
     "user_tz": -180,
     "elapsed": 2,
     "user": {
      "displayName": "Daniel D",
      "userId": "11270935181438165191"
     }
    },
    "outputId": "49f6780a-2aa1-4721-9b65-1219c72e66b6"
   },
   "execution_count": null,
   "outputs": [
    {
     "output_type": "display_data",
     "data": {
      "text/html": [
       "<style>\n",
       ".list-inline {list-style: none; margin:0; padding: 0}\n",
       ".list-inline>li {display: inline-block}\n",
       ".list-inline>li:not(:last-child)::after {content: \"\\00b7\"; padding: 0 .5ex}\n",
       "</style>\n",
       "<ol class=list-inline><li>-2.025</li><li>-1.745</li><li>-1.661</li><li>-1.595</li><li>-1.552</li><li>-1.494</li><li>-1.47</li><li>-1.449</li><li>-1.362</li><li>-1.336</li><li>-1.294</li><li>-1.238</li><li>-1.225</li><li>-1.097</li><li>-1.072</li><li>-1.056</li><li>-1.003</li><li>-0.997</li><li>-0.993</li><li>-0.959</li><li>-0.888</li><li>-0.836</li><li>-0.8</li><li>-0.667</li><li>-0.614</li><li>-0.584</li><li>-0.533</li><li>-0.513</li><li>-0.504</li><li>-0.493</li><li>-0.485</li><li>-0.481</li><li>-0.47</li><li>-0.468</li><li>-0.445</li><li>-0.433</li><li>-0.428</li><li>-0.422</li><li>-0.414</li><li>-0.382</li><li>-0.363</li><li>-0.345</li><li>-0.279</li><li>-0.274</li><li>-0.23</li><li>-0.176</li><li>-0.151</li><li>-0.122</li><li>-0.117</li><li>-0.086</li><li>-0.052</li><li>-0.041</li><li>-0.029</li><li>-0.025</li><li>-0.008</li><li>-0.006</li><li>-0.002</li><li>0</li><li>0.085</li><li>0.106</li><li>0.108</li><li>0.119</li><li>0.125</li><li>0.129</li><li>0.137</li><li>0.151</li><li>0.163</li><li>0.18</li><li>0.188</li><li>0.205</li><li>0.253</li><li>0.295</li><li>0.369</li><li>0.404</li><li>0.455</li><li>0.483</li><li>0.554</li><li>0.568</li><li>0.586</li><li>0.59</li><li>0.643</li><li>0.697</li><li>0.701</li><li>0.837</li><li>0.865</li><li>0.896</li><li>1.045</li><li>1.086</li><li>1.113</li><li>1.123</li><li>1.167</li><li>1.201</li><li>1.201</li><li>1.288</li><li>1.432</li><li>1.44</li><li>1.689</li><li>1.815</li><li>1.848</li><li>2.702</li></ol>\n"
      ],
      "text/markdown": "1. -2.025\n2. -1.745\n3. -1.661\n4. -1.595\n5. -1.552\n6. -1.494\n7. -1.47\n8. -1.449\n9. -1.362\n10. -1.336\n11. -1.294\n12. -1.238\n13. -1.225\n14. -1.097\n15. -1.072\n16. -1.056\n17. -1.003\n18. -0.997\n19. -0.993\n20. -0.959\n21. -0.888\n22. -0.836\n23. -0.8\n24. -0.667\n25. -0.614\n26. -0.584\n27. -0.533\n28. -0.513\n29. -0.504\n30. -0.493\n31. -0.485\n32. -0.481\n33. -0.47\n34. -0.468\n35. -0.445\n36. -0.433\n37. -0.428\n38. -0.422\n39. -0.414\n40. -0.382\n41. -0.363\n42. -0.345\n43. -0.279\n44. -0.274\n45. -0.23\n46. -0.176\n47. -0.151\n48. -0.122\n49. -0.117\n50. -0.086\n51. -0.052\n52. -0.041\n53. -0.029\n54. -0.025\n55. -0.008\n56. -0.006\n57. -0.002\n58. 0\n59. 0.085\n60. 0.106\n61. 0.108\n62. 0.119\n63. 0.125\n64. 0.129\n65. 0.137\n66. 0.151\n67. 0.163\n68. 0.18\n69. 0.188\n70. 0.205\n71. 0.253\n72. 0.295\n73. 0.369\n74. 0.404\n75. 0.455\n76. 0.483\n77. 0.554\n78. 0.568\n79. 0.586\n80. 0.59\n81. 0.643\n82. 0.697\n83. 0.701\n84. 0.837\n85. 0.865\n86. 0.896\n87. 1.045\n88. 1.086\n89. 1.113\n90. 1.123\n91. 1.167\n92. 1.201\n93. 1.201\n94. 1.288\n95. 1.432\n96. 1.44\n97. 1.689\n98. 1.815\n99. 1.848\n100. 2.702\n\n\n",
      "text/latex": "\\begin{enumerate*}\n\\item -2.025\n\\item -1.745\n\\item -1.661\n\\item -1.595\n\\item -1.552\n\\item -1.494\n\\item -1.47\n\\item -1.449\n\\item -1.362\n\\item -1.336\n\\item -1.294\n\\item -1.238\n\\item -1.225\n\\item -1.097\n\\item -1.072\n\\item -1.056\n\\item -1.003\n\\item -0.997\n\\item -0.993\n\\item -0.959\n\\item -0.888\n\\item -0.836\n\\item -0.8\n\\item -0.667\n\\item -0.614\n\\item -0.584\n\\item -0.533\n\\item -0.513\n\\item -0.504\n\\item -0.493\n\\item -0.485\n\\item -0.481\n\\item -0.47\n\\item -0.468\n\\item -0.445\n\\item -0.433\n\\item -0.428\n\\item -0.422\n\\item -0.414\n\\item -0.382\n\\item -0.363\n\\item -0.345\n\\item -0.279\n\\item -0.274\n\\item -0.23\n\\item -0.176\n\\item -0.151\n\\item -0.122\n\\item -0.117\n\\item -0.086\n\\item -0.052\n\\item -0.041\n\\item -0.029\n\\item -0.025\n\\item -0.008\n\\item -0.006\n\\item -0.002\n\\item 0\n\\item 0.085\n\\item 0.106\n\\item 0.108\n\\item 0.119\n\\item 0.125\n\\item 0.129\n\\item 0.137\n\\item 0.151\n\\item 0.163\n\\item 0.18\n\\item 0.188\n\\item 0.205\n\\item 0.253\n\\item 0.295\n\\item 0.369\n\\item 0.404\n\\item 0.455\n\\item 0.483\n\\item 0.554\n\\item 0.568\n\\item 0.586\n\\item 0.59\n\\item 0.643\n\\item 0.697\n\\item 0.701\n\\item 0.837\n\\item 0.865\n\\item 0.896\n\\item 1.045\n\\item 1.086\n\\item 1.113\n\\item 1.123\n\\item 1.167\n\\item 1.201\n\\item 1.201\n\\item 1.288\n\\item 1.432\n\\item 1.44\n\\item 1.689\n\\item 1.815\n\\item 1.848\n\\item 2.702\n\\end{enumerate*}\n",
      "text/plain": [
       "  [1] -2.025 -1.745 -1.661 -1.595 -1.552 -1.494 -1.470 -1.449 -1.362 -1.336\n",
       " [11] -1.294 -1.238 -1.225 -1.097 -1.072 -1.056 -1.003 -0.997 -0.993 -0.959\n",
       " [21] -0.888 -0.836 -0.800 -0.667 -0.614 -0.584 -0.533 -0.513 -0.504 -0.493\n",
       " [31] -0.485 -0.481 -0.470 -0.468 -0.445 -0.433 -0.428 -0.422 -0.414 -0.382\n",
       " [41] -0.363 -0.345 -0.279 -0.274 -0.230 -0.176 -0.151 -0.122 -0.117 -0.086\n",
       " [51] -0.052 -0.041 -0.029 -0.025 -0.008 -0.006 -0.002  0.000  0.085  0.106\n",
       " [61]  0.108  0.119  0.125  0.129  0.137  0.151  0.163  0.180  0.188  0.205\n",
       " [71]  0.253  0.295  0.369  0.404  0.455  0.483  0.554  0.568  0.586  0.590\n",
       " [81]  0.643  0.697  0.701  0.837  0.865  0.896  1.045  1.086  1.113  1.123\n",
       " [91]  1.167  1.201  1.201  1.288  1.432  1.440  1.689  1.815  1.848  2.702"
      ]
     },
     "metadata": {}
    }
   ]
  },
  {
   "cell_type": "code",
   "source": [
    "sort(popul, decreasing=TRUE)"
   ],
   "metadata": {
    "colab": {
     "base_uri": "https://localhost:8080/",
     "height": 69
    },
    "id": "p7HE-tLA8wU0",
    "executionInfo": {
     "status": "ok",
     "timestamp": 1684414970902,
     "user_tz": -180,
     "elapsed": 2,
     "user": {
      "displayName": "Daniel D",
      "userId": "11270935181438165191"
     }
    },
    "outputId": "bb3f4ab3-e709-48ad-b747-68bc83e435f5"
   },
   "execution_count": null,
   "outputs": [
    {
     "output_type": "display_data",
     "data": {
      "text/html": [
       "<style>\n",
       ".list-inline {list-style: none; margin:0; padding: 0}\n",
       ".list-inline>li {display: inline-block}\n",
       ".list-inline>li:not(:last-child)::after {content: \"\\00b7\"; padding: 0 .5ex}\n",
       "</style>\n",
       "<ol class=list-inline><li>2.702</li><li>1.848</li><li>1.815</li><li>1.689</li><li>1.44</li><li>1.432</li><li>1.288</li><li>1.201</li><li>1.201</li><li>1.167</li><li>1.123</li><li>1.113</li><li>1.086</li><li>1.045</li><li>0.896</li><li>0.865</li><li>0.837</li><li>0.701</li><li>0.697</li><li>0.643</li><li>0.59</li><li>0.586</li><li>0.568</li><li>0.554</li><li>0.483</li><li>0.455</li><li>0.404</li><li>0.369</li><li>0.295</li><li>0.253</li><li>0.205</li><li>0.188</li><li>0.18</li><li>0.163</li><li>0.151</li><li>0.137</li><li>0.129</li><li>0.125</li><li>0.119</li><li>0.108</li><li>0.106</li><li>0.085</li><li>0</li><li>-0.002</li><li>-0.006</li><li>-0.008</li><li>-0.025</li><li>-0.029</li><li>-0.041</li><li>-0.052</li><li>-0.086</li><li>-0.117</li><li>-0.122</li><li>-0.151</li><li>-0.176</li><li>-0.23</li><li>-0.274</li><li>-0.279</li><li>-0.345</li><li>-0.363</li><li>-0.382</li><li>-0.414</li><li>-0.422</li><li>-0.428</li><li>-0.433</li><li>-0.445</li><li>-0.468</li><li>-0.47</li><li>-0.481</li><li>-0.485</li><li>-0.493</li><li>-0.504</li><li>-0.513</li><li>-0.533</li><li>-0.584</li><li>-0.614</li><li>-0.667</li><li>-0.8</li><li>-0.836</li><li>-0.888</li><li>-0.959</li><li>-0.993</li><li>-0.997</li><li>-1.003</li><li>-1.056</li><li>-1.072</li><li>-1.097</li><li>-1.225</li><li>-1.238</li><li>-1.294</li><li>-1.336</li><li>-1.362</li><li>-1.449</li><li>-1.47</li><li>-1.494</li><li>-1.552</li><li>-1.595</li><li>-1.661</li><li>-1.745</li><li>-2.025</li></ol>\n"
      ],
      "text/markdown": "1. 2.702\n2. 1.848\n3. 1.815\n4. 1.689\n5. 1.44\n6. 1.432\n7. 1.288\n8. 1.201\n9. 1.201\n10. 1.167\n11. 1.123\n12. 1.113\n13. 1.086\n14. 1.045\n15. 0.896\n16. 0.865\n17. 0.837\n18. 0.701\n19. 0.697\n20. 0.643\n21. 0.59\n22. 0.586\n23. 0.568\n24. 0.554\n25. 0.483\n26. 0.455\n27. 0.404\n28. 0.369\n29. 0.295\n30. 0.253\n31. 0.205\n32. 0.188\n33. 0.18\n34. 0.163\n35. 0.151\n36. 0.137\n37. 0.129\n38. 0.125\n39. 0.119\n40. 0.108\n41. 0.106\n42. 0.085\n43. 0\n44. -0.002\n45. -0.006\n46. -0.008\n47. -0.025\n48. -0.029\n49. -0.041\n50. -0.052\n51. -0.086\n52. -0.117\n53. -0.122\n54. -0.151\n55. -0.176\n56. -0.23\n57. -0.274\n58. -0.279\n59. -0.345\n60. -0.363\n61. -0.382\n62. -0.414\n63. -0.422\n64. -0.428\n65. -0.433\n66. -0.445\n67. -0.468\n68. -0.47\n69. -0.481\n70. -0.485\n71. -0.493\n72. -0.504\n73. -0.513\n74. -0.533\n75. -0.584\n76. -0.614\n77. -0.667\n78. -0.8\n79. -0.836\n80. -0.888\n81. -0.959\n82. -0.993\n83. -0.997\n84. -1.003\n85. -1.056\n86. -1.072\n87. -1.097\n88. -1.225\n89. -1.238\n90. -1.294\n91. -1.336\n92. -1.362\n93. -1.449\n94. -1.47\n95. -1.494\n96. -1.552\n97. -1.595\n98. -1.661\n99. -1.745\n100. -2.025\n\n\n",
      "text/latex": "\\begin{enumerate*}\n\\item 2.702\n\\item 1.848\n\\item 1.815\n\\item 1.689\n\\item 1.44\n\\item 1.432\n\\item 1.288\n\\item 1.201\n\\item 1.201\n\\item 1.167\n\\item 1.123\n\\item 1.113\n\\item 1.086\n\\item 1.045\n\\item 0.896\n\\item 0.865\n\\item 0.837\n\\item 0.701\n\\item 0.697\n\\item 0.643\n\\item 0.59\n\\item 0.586\n\\item 0.568\n\\item 0.554\n\\item 0.483\n\\item 0.455\n\\item 0.404\n\\item 0.369\n\\item 0.295\n\\item 0.253\n\\item 0.205\n\\item 0.188\n\\item 0.18\n\\item 0.163\n\\item 0.151\n\\item 0.137\n\\item 0.129\n\\item 0.125\n\\item 0.119\n\\item 0.108\n\\item 0.106\n\\item 0.085\n\\item 0\n\\item -0.002\n\\item -0.006\n\\item -0.008\n\\item -0.025\n\\item -0.029\n\\item -0.041\n\\item -0.052\n\\item -0.086\n\\item -0.117\n\\item -0.122\n\\item -0.151\n\\item -0.176\n\\item -0.23\n\\item -0.274\n\\item -0.279\n\\item -0.345\n\\item -0.363\n\\item -0.382\n\\item -0.414\n\\item -0.422\n\\item -0.428\n\\item -0.433\n\\item -0.445\n\\item -0.468\n\\item -0.47\n\\item -0.481\n\\item -0.485\n\\item -0.493\n\\item -0.504\n\\item -0.513\n\\item -0.533\n\\item -0.584\n\\item -0.614\n\\item -0.667\n\\item -0.8\n\\item -0.836\n\\item -0.888\n\\item -0.959\n\\item -0.993\n\\item -0.997\n\\item -1.003\n\\item -1.056\n\\item -1.072\n\\item -1.097\n\\item -1.225\n\\item -1.238\n\\item -1.294\n\\item -1.336\n\\item -1.362\n\\item -1.449\n\\item -1.47\n\\item -1.494\n\\item -1.552\n\\item -1.595\n\\item -1.661\n\\item -1.745\n\\item -2.025\n\\end{enumerate*}\n",
      "text/plain": [
       "  [1]  2.702  1.848  1.815  1.689  1.440  1.432  1.288  1.201  1.201  1.167\n",
       " [11]  1.123  1.113  1.086  1.045  0.896  0.865  0.837  0.701  0.697  0.643\n",
       " [21]  0.590  0.586  0.568  0.554  0.483  0.455  0.404  0.369  0.295  0.253\n",
       " [31]  0.205  0.188  0.180  0.163  0.151  0.137  0.129  0.125  0.119  0.108\n",
       " [41]  0.106  0.085  0.000 -0.002 -0.006 -0.008 -0.025 -0.029 -0.041 -0.052\n",
       " [51] -0.086 -0.117 -0.122 -0.151 -0.176 -0.230 -0.274 -0.279 -0.345 -0.363\n",
       " [61] -0.382 -0.414 -0.422 -0.428 -0.433 -0.445 -0.468 -0.470 -0.481 -0.485\n",
       " [71] -0.493 -0.504 -0.513 -0.533 -0.584 -0.614 -0.667 -0.800 -0.836 -0.888\n",
       " [81] -0.959 -0.993 -0.997 -1.003 -1.056 -1.072 -1.097 -1.225 -1.238 -1.294\n",
       " [91] -1.336 -1.362 -1.449 -1.470 -1.494 -1.552 -1.595 -1.661 -1.745 -2.025"
      ]
     },
     "metadata": {}
    }
   ]
  },
  {
   "cell_type": "markdown",
   "source": [
    "## sample(), data.frame(), head(), order(), $"
   ],
   "metadata": {
    "id": "XhiVQuKp99Xf"
   }
  },
  {
   "cell_type": "code",
   "source": [
    "set.seed(42)\n",
    "lets <- sample(letters, 100, replace=TRUE)\n",
    "lets"
   ],
   "metadata": {
    "colab": {
     "base_uri": "https://localhost:8080/",
     "height": 52
    },
    "id": "X990RnuV8wXb",
    "executionInfo": {
     "status": "ok",
     "timestamp": 1684415740262,
     "user_tz": -180,
     "elapsed": 298,
     "user": {
      "displayName": "Daniel D",
      "userId": "11270935181438165191"
     }
    },
    "outputId": "970b227b-ac1b-41d0-a7ec-e7432e2d84ac"
   },
   "execution_count": null,
   "outputs": [
    {
     "output_type": "display_data",
     "data": {
      "text/html": [
       "<style>\n",
       ".list-inline {list-style: none; margin:0; padding: 0}\n",
       ".list-inline>li {display: inline-block}\n",
       ".list-inline>li:not(:last-child)::after {content: \"\\00b7\"; padding: 0 .5ex}\n",
       "</style>\n",
       "<ol class=list-inline><li>'q'</li><li>'e'</li><li>'a'</li><li>'y'</li><li>'j'</li><li>'d'</li><li>'r'</li><li>'z'</li><li>'q'</li><li>'o'</li><li>'x'</li><li>'g'</li><li>'d'</li><li>'y'</li><li>'e'</li><li>'n'</li><li>'t'</li><li>'z'</li><li>'r'</li><li>'o'</li><li>'c'</li><li>'i'</li><li>'y'</li><li>'d'</li><li>'e'</li><li>'m'</li><li>'e'</li><li>'t'</li><li>'b'</li><li>'h'</li><li>'c'</li><li>'z'</li><li>'a'</li><li>'j'</li><li>'x'</li><li>'k'</li><li>'o'</li><li>'v'</li><li>'z'</li><li>'h'</li><li>'d'</li><li>'d'</li><li>'v'</li><li>'r'</li><li>'m'</li><li>'e'</li><li>'d'</li><li>'b'</li><li>'x'</li><li>'r'</li><li>'c'</li><li>'x'</li><li>'w'</li><li>'q'</li><li>'u'</li><li>'z'</li><li>'r'</li><li>'f'</li><li>'f'</li><li>'b'</li><li>'t'</li><li>'c'</li><li>'v'</li><li>'u'</li><li>'b'</li><li>'w'</li><li>'f'</li><li>'z'</li><li>'j'</li><li>'h'</li><li>'e'</li><li>'a'</li><li>'q'</li><li>'g'</li><li>'d'</li><li>'m'</li><li>'j'</li><li>'i'</li><li>'l'</li><li>'t'</li><li>'i'</li><li>'k'</li><li>'c'</li><li>'p'</li><li>'e'</li><li>'x'</li><li>'n'</li><li>'e'</li><li>'v'</li><li>'b'</li><li>'r'</li><li>'x'</li><li>'q'</li><li>'r'</li><li>'e'</li><li>'n'</li><li>'h'</li><li>'w'</li><li>'h'</li><li>'u'</li></ol>\n"
      ],
      "text/markdown": "1. 'q'\n2. 'e'\n3. 'a'\n4. 'y'\n5. 'j'\n6. 'd'\n7. 'r'\n8. 'z'\n9. 'q'\n10. 'o'\n11. 'x'\n12. 'g'\n13. 'd'\n14. 'y'\n15. 'e'\n16. 'n'\n17. 't'\n18. 'z'\n19. 'r'\n20. 'o'\n21. 'c'\n22. 'i'\n23. 'y'\n24. 'd'\n25. 'e'\n26. 'm'\n27. 'e'\n28. 't'\n29. 'b'\n30. 'h'\n31. 'c'\n32. 'z'\n33. 'a'\n34. 'j'\n35. 'x'\n36. 'k'\n37. 'o'\n38. 'v'\n39. 'z'\n40. 'h'\n41. 'd'\n42. 'd'\n43. 'v'\n44. 'r'\n45. 'm'\n46. 'e'\n47. 'd'\n48. 'b'\n49. 'x'\n50. 'r'\n51. 'c'\n52. 'x'\n53. 'w'\n54. 'q'\n55. 'u'\n56. 'z'\n57. 'r'\n58. 'f'\n59. 'f'\n60. 'b'\n61. 't'\n62. 'c'\n63. 'v'\n64. 'u'\n65. 'b'\n66. 'w'\n67. 'f'\n68. 'z'\n69. 'j'\n70. 'h'\n71. 'e'\n72. 'a'\n73. 'q'\n74. 'g'\n75. 'd'\n76. 'm'\n77. 'j'\n78. 'i'\n79. 'l'\n80. 't'\n81. 'i'\n82. 'k'\n83. 'c'\n84. 'p'\n85. 'e'\n86. 'x'\n87. 'n'\n88. 'e'\n89. 'v'\n90. 'b'\n91. 'r'\n92. 'x'\n93. 'q'\n94. 'r'\n95. 'e'\n96. 'n'\n97. 'h'\n98. 'w'\n99. 'h'\n100. 'u'\n\n\n",
      "text/latex": "\\begin{enumerate*}\n\\item 'q'\n\\item 'e'\n\\item 'a'\n\\item 'y'\n\\item 'j'\n\\item 'd'\n\\item 'r'\n\\item 'z'\n\\item 'q'\n\\item 'o'\n\\item 'x'\n\\item 'g'\n\\item 'd'\n\\item 'y'\n\\item 'e'\n\\item 'n'\n\\item 't'\n\\item 'z'\n\\item 'r'\n\\item 'o'\n\\item 'c'\n\\item 'i'\n\\item 'y'\n\\item 'd'\n\\item 'e'\n\\item 'm'\n\\item 'e'\n\\item 't'\n\\item 'b'\n\\item 'h'\n\\item 'c'\n\\item 'z'\n\\item 'a'\n\\item 'j'\n\\item 'x'\n\\item 'k'\n\\item 'o'\n\\item 'v'\n\\item 'z'\n\\item 'h'\n\\item 'd'\n\\item 'd'\n\\item 'v'\n\\item 'r'\n\\item 'm'\n\\item 'e'\n\\item 'd'\n\\item 'b'\n\\item 'x'\n\\item 'r'\n\\item 'c'\n\\item 'x'\n\\item 'w'\n\\item 'q'\n\\item 'u'\n\\item 'z'\n\\item 'r'\n\\item 'f'\n\\item 'f'\n\\item 'b'\n\\item 't'\n\\item 'c'\n\\item 'v'\n\\item 'u'\n\\item 'b'\n\\item 'w'\n\\item 'f'\n\\item 'z'\n\\item 'j'\n\\item 'h'\n\\item 'e'\n\\item 'a'\n\\item 'q'\n\\item 'g'\n\\item 'd'\n\\item 'm'\n\\item 'j'\n\\item 'i'\n\\item 'l'\n\\item 't'\n\\item 'i'\n\\item 'k'\n\\item 'c'\n\\item 'p'\n\\item 'e'\n\\item 'x'\n\\item 'n'\n\\item 'e'\n\\item 'v'\n\\item 'b'\n\\item 'r'\n\\item 'x'\n\\item 'q'\n\\item 'r'\n\\item 'e'\n\\item 'n'\n\\item 'h'\n\\item 'w'\n\\item 'h'\n\\item 'u'\n\\end{enumerate*}\n",
      "text/plain": [
       "  [1] \"q\" \"e\" \"a\" \"y\" \"j\" \"d\" \"r\" \"z\" \"q\" \"o\" \"x\" \"g\" \"d\" \"y\" \"e\" \"n\" \"t\" \"z\"\n",
       " [19] \"r\" \"o\" \"c\" \"i\" \"y\" \"d\" \"e\" \"m\" \"e\" \"t\" \"b\" \"h\" \"c\" \"z\" \"a\" \"j\" \"x\" \"k\"\n",
       " [37] \"o\" \"v\" \"z\" \"h\" \"d\" \"d\" \"v\" \"r\" \"m\" \"e\" \"d\" \"b\" \"x\" \"r\" \"c\" \"x\" \"w\" \"q\"\n",
       " [55] \"u\" \"z\" \"r\" \"f\" \"f\" \"b\" \"t\" \"c\" \"v\" \"u\" \"b\" \"w\" \"f\" \"z\" \"j\" \"h\" \"e\" \"a\"\n",
       " [73] \"q\" \"g\" \"d\" \"m\" \"j\" \"i\" \"l\" \"t\" \"i\" \"k\" \"c\" \"p\" \"e\" \"x\" \"n\" \"e\" \"v\" \"b\"\n",
       " [91] \"r\" \"x\" \"q\" \"r\" \"e\" \"n\" \"h\" \"w\" \"h\" \"u\""
      ]
     },
     "metadata": {}
    }
   ]
  },
  {
   "cell_type": "code",
   "source": [
    "df <- data.frame(lets, popul)\n",
    "head(df, 10)"
   ],
   "metadata": {
    "colab": {
     "base_uri": "https://localhost:8080/",
     "height": 412
    },
    "id": "2Nfgjhrc9vNZ",
    "executionInfo": {
     "status": "ok",
     "timestamp": 1684415776657,
     "user_tz": -180,
     "elapsed": 2,
     "user": {
      "displayName": "Daniel D",
      "userId": "11270935181438165191"
     }
    },
    "outputId": "35fbd9c1-58cc-467d-d4b8-595262703790"
   },
   "execution_count": null,
   "outputs": [
    {
     "output_type": "display_data",
     "data": {
      "text/html": [
       "<table class=\"dataframe\">\n",
       "<caption>A data.frame: 10 × 2</caption>\n",
       "<thead>\n",
       "\t<tr><th></th><th scope=col>lets</th><th scope=col>popul</th></tr>\n",
       "\t<tr><th></th><th scope=col>&lt;chr&gt;</th><th scope=col>&lt;dbl&gt;</th></tr>\n",
       "</thead>\n",
       "<tbody>\n",
       "\t<tr><th scope=row>1</th><td>q</td><td> 1.201</td></tr>\n",
       "\t<tr><th scope=row>2</th><td>e</td><td> 1.045</td></tr>\n",
       "\t<tr><th scope=row>3</th><td>a</td><td>-1.003</td></tr>\n",
       "\t<tr><th scope=row>4</th><td>y</td><td> 1.848</td></tr>\n",
       "\t<tr><th scope=row>5</th><td>j</td><td>-0.667</td></tr>\n",
       "\t<tr><th scope=row>6</th><td>d</td><td> 0.106</td></tr>\n",
       "\t<tr><th scope=row>7</th><td>r</td><td>-0.422</td></tr>\n",
       "\t<tr><th scope=row>8</th><td>z</td><td>-0.122</td></tr>\n",
       "\t<tr><th scope=row>9</th><td>q</td><td> 0.188</td></tr>\n",
       "\t<tr><th scope=row>10</th><td>o</td><td> 0.119</td></tr>\n",
       "</tbody>\n",
       "</table>\n"
      ],
      "text/markdown": "\nA data.frame: 10 × 2\n\n| <!--/--> | lets &lt;chr&gt; | popul &lt;dbl&gt; |\n|---|---|---|\n| 1 | q |  1.201 |\n| 2 | e |  1.045 |\n| 3 | a | -1.003 |\n| 4 | y |  1.848 |\n| 5 | j | -0.667 |\n| 6 | d |  0.106 |\n| 7 | r | -0.422 |\n| 8 | z | -0.122 |\n| 9 | q |  0.188 |\n| 10 | o |  0.119 |\n\n",
      "text/latex": "A data.frame: 10 × 2\n\\begin{tabular}{r|ll}\n  & lets & popul\\\\\n  & <chr> & <dbl>\\\\\n\\hline\n\t1 & q &  1.201\\\\\n\t2 & e &  1.045\\\\\n\t3 & a & -1.003\\\\\n\t4 & y &  1.848\\\\\n\t5 & j & -0.667\\\\\n\t6 & d &  0.106\\\\\n\t7 & r & -0.422\\\\\n\t8 & z & -0.122\\\\\n\t9 & q &  0.188\\\\\n\t10 & o &  0.119\\\\\n\\end{tabular}\n",
      "text/plain": [
       "   lets popul \n",
       "1  q     1.201\n",
       "2  e     1.045\n",
       "3  a    -1.003\n",
       "4  y     1.848\n",
       "5  j    -0.667\n",
       "6  d     0.106\n",
       "7  r    -0.422\n",
       "8  z    -0.122\n",
       "9  q     0.188\n",
       "10 o     0.119"
      ]
     },
     "metadata": {}
    }
   ]
  },
  {
   "cell_type": "code",
   "source": [
    "# отсортируем строки датафрейма по возрастанию чисел\n",
    "ind <- order(df$popul)\n",
    "ind"
   ],
   "metadata": {
    "colab": {
     "base_uri": "https://localhost:8080/",
     "height": 52
    },
    "id": "B-LUNMY99vRF",
    "executionInfo": {
     "status": "ok",
     "timestamp": 1684415869327,
     "user_tz": -180,
     "elapsed": 291,
     "user": {
      "displayName": "Daniel D",
      "userId": "11270935181438165191"
     }
    },
    "outputId": "148ba24d-2f67-493a-8955-901982765639"
   },
   "execution_count": null,
   "outputs": [
    {
     "output_type": "display_data",
     "data": {
      "text/html": [
       "<style>\n",
       ".list-inline {list-style: none; margin:0; padding: 0}\n",
       ".list-inline>li {display: inline-block}\n",
       ".list-inline>li:not(:last-child)::after {content: \"\\00b7\"; padding: 0 .5ex}\n",
       "</style>\n",
       "<ol class=list-inline><li>28</li><li>73</li><li>15</li><li>90</li><li>52</li><li>21</li><li>22</li><li>77</li><li>19</li><li>86</li><li>94</li><li>56</li><li>29</li><li>36</li><li>62</li><li>50</li><li>3</li><li>24</li><li>67</li><li>95</li><li>42</li><li>89</li><li>58</li><li>5</li><li>27</li><li>82</li><li>59</li><li>17</li><li>14</li><li>32</li><li>13</li><li>47</li><li>39</li><li>55</li><li>43</li><li>48</li><li>26</li><li>7</li><li>45</li><li>16</li><li>64</li><li>92</li><li>85</li><li>54</li><li>71</li><li>61</li><li>76</li><li>8</li><li>37</li><li>41</li><li>40</li><li>51</li><li>44</li><li>11</li><li>57</li><li>80</li><li>25</li><li>33</li><li>69</li><li>6</li><li>12</li><li>10</li><li>23</li><li>100</li><li>20</li><li>81</li><li>63</li><li>30</li><li>9</li><li>91</li><li>93</li><li>84</li><li>83</li><li>97</li><li>68</li><li>79</li><li>88</li><li>31</li><li>98</li><li>65</li><li>78</li><li>49</li><li>87</li><li>72</li><li>75</li><li>70</li><li>2</li><li>96</li><li>46</li><li>34</li><li>53</li><li>1</li><li>38</li><li>60</li><li>66</li><li>35</li><li>74</li><li>99</li><li>4</li><li>18</li></ol>\n"
      ],
      "text/markdown": "1. 28\n2. 73\n3. 15\n4. 90\n5. 52\n6. 21\n7. 22\n8. 77\n9. 19\n10. 86\n11. 94\n12. 56\n13. 29\n14. 36\n15. 62\n16. 50\n17. 3\n18. 24\n19. 67\n20. 95\n21. 42\n22. 89\n23. 58\n24. 5\n25. 27\n26. 82\n27. 59\n28. 17\n29. 14\n30. 32\n31. 13\n32. 47\n33. 39\n34. 55\n35. 43\n36. 48\n37. 26\n38. 7\n39. 45\n40. 16\n41. 64\n42. 92\n43. 85\n44. 54\n45. 71\n46. 61\n47. 76\n48. 8\n49. 37\n50. 41\n51. 40\n52. 51\n53. 44\n54. 11\n55. 57\n56. 80\n57. 25\n58. 33\n59. 69\n60. 6\n61. 12\n62. 10\n63. 23\n64. 100\n65. 20\n66. 81\n67. 63\n68. 30\n69. 9\n70. 91\n71. 93\n72. 84\n73. 83\n74. 97\n75. 68\n76. 79\n77. 88\n78. 31\n79. 98\n80. 65\n81. 78\n82. 49\n83. 87\n84. 72\n85. 75\n86. 70\n87. 2\n88. 96\n89. 46\n90. 34\n91. 53\n92. 1\n93. 38\n94. 60\n95. 66\n96. 35\n97. 74\n98. 99\n99. 4\n100. 18\n\n\n",
      "text/latex": "\\begin{enumerate*}\n\\item 28\n\\item 73\n\\item 15\n\\item 90\n\\item 52\n\\item 21\n\\item 22\n\\item 77\n\\item 19\n\\item 86\n\\item 94\n\\item 56\n\\item 29\n\\item 36\n\\item 62\n\\item 50\n\\item 3\n\\item 24\n\\item 67\n\\item 95\n\\item 42\n\\item 89\n\\item 58\n\\item 5\n\\item 27\n\\item 82\n\\item 59\n\\item 17\n\\item 14\n\\item 32\n\\item 13\n\\item 47\n\\item 39\n\\item 55\n\\item 43\n\\item 48\n\\item 26\n\\item 7\n\\item 45\n\\item 16\n\\item 64\n\\item 92\n\\item 85\n\\item 54\n\\item 71\n\\item 61\n\\item 76\n\\item 8\n\\item 37\n\\item 41\n\\item 40\n\\item 51\n\\item 44\n\\item 11\n\\item 57\n\\item 80\n\\item 25\n\\item 33\n\\item 69\n\\item 6\n\\item 12\n\\item 10\n\\item 23\n\\item 100\n\\item 20\n\\item 81\n\\item 63\n\\item 30\n\\item 9\n\\item 91\n\\item 93\n\\item 84\n\\item 83\n\\item 97\n\\item 68\n\\item 79\n\\item 88\n\\item 31\n\\item 98\n\\item 65\n\\item 78\n\\item 49\n\\item 87\n\\item 72\n\\item 75\n\\item 70\n\\item 2\n\\item 96\n\\item 46\n\\item 34\n\\item 53\n\\item 1\n\\item 38\n\\item 60\n\\item 66\n\\item 35\n\\item 74\n\\item 99\n\\item 4\n\\item 18\n\\end{enumerate*}\n",
      "text/plain": [
       "  [1]  28  73  15  90  52  21  22  77  19  86  94  56  29  36  62  50   3  24\n",
       " [19]  67  95  42  89  58   5  27  82  59  17  14  32  13  47  39  55  43  48\n",
       " [37]  26   7  45  16  64  92  85  54  71  61  76   8  37  41  40  51  44  11\n",
       " [55]  57  80  25  33  69   6  12  10  23 100  20  81  63  30   9  91  93  84\n",
       " [73]  83  97  68  79  88  31  98  65  78  49  87  72  75  70   2  96  46  34\n",
       " [91]  53   1  38  60  66  35  74  99   4  18"
      ]
     },
     "metadata": {}
    }
   ]
  },
  {
   "cell_type": "code",
   "source": [
    "df_new <- df[ind,]\n",
    "head(df_new, 10)"
   ],
   "metadata": {
    "colab": {
     "base_uri": "https://localhost:8080/",
     "height": 412
    },
    "id": "QTegpb--9vTw",
    "executionInfo": {
     "status": "ok",
     "timestamp": 1684415957137,
     "user_tz": -180,
     "elapsed": 3,
     "user": {
      "displayName": "Daniel D",
      "userId": "11270935181438165191"
     }
    },
    "outputId": "22d87867-9cd3-4b24-c70f-6557305f6ff3"
   },
   "execution_count": null,
   "outputs": [
    {
     "output_type": "display_data",
     "data": {
      "text/html": [
       "<table class=\"dataframe\">\n",
       "<caption>A data.frame: 10 × 2</caption>\n",
       "<thead>\n",
       "\t<tr><th></th><th scope=col>lets</th><th scope=col>popul</th></tr>\n",
       "\t<tr><th></th><th scope=col>&lt;chr&gt;</th><th scope=col>&lt;dbl&gt;</th></tr>\n",
       "</thead>\n",
       "<tbody>\n",
       "\t<tr><th scope=row>28</th><td>t</td><td>-2.025</td></tr>\n",
       "\t<tr><th scope=row>73</th><td>q</td><td>-1.745</td></tr>\n",
       "\t<tr><th scope=row>15</th><td>e</td><td>-1.661</td></tr>\n",
       "\t<tr><th scope=row>90</th><td>b</td><td>-1.595</td></tr>\n",
       "\t<tr><th scope=row>52</th><td>x</td><td>-1.552</td></tr>\n",
       "\t<tr><th scope=row>21</th><td>c</td><td>-1.494</td></tr>\n",
       "\t<tr><th scope=row>22</th><td>i</td><td>-1.470</td></tr>\n",
       "\t<tr><th scope=row>77</th><td>j</td><td>-1.449</td></tr>\n",
       "\t<tr><th scope=row>19</th><td>r</td><td>-1.362</td></tr>\n",
       "\t<tr><th scope=row>86</th><td>x</td><td>-1.336</td></tr>\n",
       "</tbody>\n",
       "</table>\n"
      ],
      "text/markdown": "\nA data.frame: 10 × 2\n\n| <!--/--> | lets &lt;chr&gt; | popul &lt;dbl&gt; |\n|---|---|---|\n| 28 | t | -2.025 |\n| 73 | q | -1.745 |\n| 15 | e | -1.661 |\n| 90 | b | -1.595 |\n| 52 | x | -1.552 |\n| 21 | c | -1.494 |\n| 22 | i | -1.470 |\n| 77 | j | -1.449 |\n| 19 | r | -1.362 |\n| 86 | x | -1.336 |\n\n",
      "text/latex": "A data.frame: 10 × 2\n\\begin{tabular}{r|ll}\n  & lets & popul\\\\\n  & <chr> & <dbl>\\\\\n\\hline\n\t28 & t & -2.025\\\\\n\t73 & q & -1.745\\\\\n\t15 & e & -1.661\\\\\n\t90 & b & -1.595\\\\\n\t52 & x & -1.552\\\\\n\t21 & c & -1.494\\\\\n\t22 & i & -1.470\\\\\n\t77 & j & -1.449\\\\\n\t19 & r & -1.362\\\\\n\t86 & x & -1.336\\\\\n\\end{tabular}\n",
      "text/plain": [
       "   lets popul \n",
       "28 t    -2.025\n",
       "73 q    -1.745\n",
       "15 e    -1.661\n",
       "90 b    -1.595\n",
       "52 x    -1.552\n",
       "21 c    -1.494\n",
       "22 i    -1.470\n",
       "77 j    -1.449\n",
       "19 r    -1.362\n",
       "86 x    -1.336"
      ]
     },
     "metadata": {}
    }
   ]
  },
  {
   "cell_type": "markdown",
   "source": [
    "## Что еще можно делать с векторами?"
   ],
   "metadata": {
    "id": "2sqjx7LVBDBV"
   }
  },
  {
   "cell_type": "code",
   "source": [
    "g <- seq(31, 45)\n",
    "g"
   ],
   "metadata": {
    "colab": {
     "base_uri": "https://localhost:8080/",
     "height": 34
    },
    "id": "4-MOsnAJ9vWv",
    "executionInfo": {
     "status": "ok",
     "timestamp": 1684416037773,
     "user_tz": -180,
     "elapsed": 783,
     "user": {
      "displayName": "Daniel D",
      "userId": "11270935181438165191"
     }
    },
    "outputId": "2d83afbe-487f-43a8-e42c-ad6f81769b28"
   },
   "execution_count": null,
   "outputs": [
    {
     "output_type": "display_data",
     "data": {
      "text/html": [
       "<style>\n",
       ".list-inline {list-style: none; margin:0; padding: 0}\n",
       ".list-inline>li {display: inline-block}\n",
       ".list-inline>li:not(:last-child)::after {content: \"\\00b7\"; padding: 0 .5ex}\n",
       "</style>\n",
       "<ol class=list-inline><li>31</li><li>32</li><li>33</li><li>34</li><li>35</li><li>36</li><li>37</li><li>38</li><li>39</li><li>40</li><li>41</li><li>42</li><li>43</li><li>44</li><li>45</li></ol>\n"
      ],
      "text/markdown": "1. 31\n2. 32\n3. 33\n4. 34\n5. 35\n6. 36\n7. 37\n8. 38\n9. 39\n10. 40\n11. 41\n12. 42\n13. 43\n14. 44\n15. 45\n\n\n",
      "text/latex": "\\begin{enumerate*}\n\\item 31\n\\item 32\n\\item 33\n\\item 34\n\\item 35\n\\item 36\n\\item 37\n\\item 38\n\\item 39\n\\item 40\n\\item 41\n\\item 42\n\\item 43\n\\item 44\n\\item 45\n\\end{enumerate*}\n",
      "text/plain": [
       " [1] 31 32 33 34 35 36 37 38 39 40 41 42 43 44 45"
      ]
     },
     "metadata": {}
    }
   ]
  },
  {
   "cell_type": "code",
   "source": [
    "length(g)"
   ],
   "metadata": {
    "colab": {
     "base_uri": "https://localhost:8080/",
     "height": 34
    },
    "id": "sRq7FUv39vZm",
    "executionInfo": {
     "status": "ok",
     "timestamp": 1684420098174,
     "user_tz": -180,
     "elapsed": 411,
     "user": {
      "displayName": "Daniel D",
      "userId": "11270935181438165191"
     }
    },
    "outputId": "46bc38a5-92b8-492c-e53c-682fc71e3ea9"
   },
   "execution_count": null,
   "outputs": [
    {
     "output_type": "display_data",
     "data": {
      "text/html": [
       "15"
      ],
      "text/markdown": "15",
      "text/latex": "15",
      "text/plain": [
       "[1] 15"
      ]
     },
     "metadata": {}
    }
   ]
  },
  {
   "cell_type": "code",
   "source": [
    "g[1]"
   ],
   "metadata": {
    "colab": {
     "base_uri": "https://localhost:8080/",
     "height": 34
    },
    "id": "chB6Zqf69vcL",
    "executionInfo": {
     "status": "ok",
     "timestamp": 1684420108526,
     "user_tz": -180,
     "elapsed": 322,
     "user": {
      "displayName": "Daniel D",
      "userId": "11270935181438165191"
     }
    },
    "outputId": "b0cf2810-e72c-4494-a6ff-d5108d4da564"
   },
   "execution_count": null,
   "outputs": [
    {
     "output_type": "display_data",
     "data": {
      "text/html": [
       "31"
      ],
      "text/markdown": "31",
      "text/latex": "31",
      "text/plain": [
       "[1] 31"
      ]
     },
     "metadata": {}
    }
   ]
  },
  {
   "cell_type": "code",
   "source": [
    "g[c(1, 5, 15)]"
   ],
   "metadata": {
    "colab": {
     "base_uri": "https://localhost:8080/",
     "height": 34
    },
    "id": "P_NDmtgg9ve6",
    "executionInfo": {
     "status": "ok",
     "timestamp": 1684420116990,
     "user_tz": -180,
     "elapsed": 306,
     "user": {
      "displayName": "Daniel D",
      "userId": "11270935181438165191"
     }
    },
    "outputId": "c1c53034-ffa6-477f-c605-6625bec37f84"
   },
   "execution_count": null,
   "outputs": [
    {
     "output_type": "display_data",
     "data": {
      "text/html": [
       "<style>\n",
       ".list-inline {list-style: none; margin:0; padding: 0}\n",
       ".list-inline>li {display: inline-block}\n",
       ".list-inline>li:not(:last-child)::after {content: \"\\00b7\"; padding: 0 .5ex}\n",
       "</style>\n",
       "<ol class=list-inline><li>31</li><li>35</li><li>45</li></ol>\n"
      ],
      "text/markdown": "1. 31\n2. 35\n3. 45\n\n\n",
      "text/latex": "\\begin{enumerate*}\n\\item 31\n\\item 35\n\\item 45\n\\end{enumerate*}\n",
      "text/plain": [
       "[1] 31 35 45"
      ]
     },
     "metadata": {}
    }
   ]
  },
  {
   "cell_type": "code",
   "source": [
    "g[-c(1, 5, 15)]"
   ],
   "metadata": {
    "colab": {
     "base_uri": "https://localhost:8080/",
     "height": 34
    },
    "id": "TX3oku3c9vhk",
    "executionInfo": {
     "status": "ok",
     "timestamp": 1684420133793,
     "user_tz": -180,
     "elapsed": 890,
     "user": {
      "displayName": "Daniel D",
      "userId": "11270935181438165191"
     }
    },
    "outputId": "e0202686-481f-46cc-afb2-f6c9edcedc12"
   },
   "execution_count": null,
   "outputs": [
    {
     "output_type": "display_data",
     "data": {
      "text/html": [
       "<style>\n",
       ".list-inline {list-style: none; margin:0; padding: 0}\n",
       ".list-inline>li {display: inline-block}\n",
       ".list-inline>li:not(:last-child)::after {content: \"\\00b7\"; padding: 0 .5ex}\n",
       "</style>\n",
       "<ol class=list-inline><li>32</li><li>33</li><li>34</li><li>36</li><li>37</li><li>38</li><li>39</li><li>40</li><li>41</li><li>42</li><li>43</li><li>44</li></ol>\n"
      ],
      "text/markdown": "1. 32\n2. 33\n3. 34\n4. 36\n5. 37\n6. 38\n7. 39\n8. 40\n9. 41\n10. 42\n11. 43\n12. 44\n\n\n",
      "text/latex": "\\begin{enumerate*}\n\\item 32\n\\item 33\n\\item 34\n\\item 36\n\\item 37\n\\item 38\n\\item 39\n\\item 40\n\\item 41\n\\item 42\n\\item 43\n\\item 44\n\\end{enumerate*}\n",
      "text/plain": [
       " [1] 32 33 34 36 37 38 39 40 41 42 43 44"
      ]
     },
     "metadata": {}
    }
   ]
  },
  {
   "cell_type": "code",
   "source": [
    "g[1:5]"
   ],
   "metadata": {
    "colab": {
     "base_uri": "https://localhost:8080/",
     "height": 34
    },
    "id": "TAdPVkx49vkI",
    "executionInfo": {
     "status": "ok",
     "timestamp": 1684421887392,
     "user_tz": -180,
     "elapsed": 541,
     "user": {
      "displayName": "Daniel D",
      "userId": "11270935181438165191"
     }
    },
    "outputId": "096ec690-359c-4220-eb17-487d771bbbf8"
   },
   "execution_count": null,
   "outputs": [
    {
     "output_type": "display_data",
     "data": {
      "text/html": [
       "<style>\n",
       ".list-inline {list-style: none; margin:0; padding: 0}\n",
       ".list-inline>li {display: inline-block}\n",
       ".list-inline>li:not(:last-child)::after {content: \"\\00b7\"; padding: 0 .5ex}\n",
       "</style>\n",
       "<ol class=list-inline><li>31</li><li>32</li><li>33</li><li>34</li><li>35</li></ol>\n"
      ],
      "text/markdown": "1. 31\n2. 32\n3. 33\n4. 34\n5. 35\n\n\n",
      "text/latex": "\\begin{enumerate*}\n\\item 31\n\\item 32\n\\item 33\n\\item 34\n\\item 35\n\\end{enumerate*}\n",
      "text/plain": [
       "[1] 31 32 33 34 35"
      ]
     },
     "metadata": {}
    }
   ]
  },
  {
   "cell_type": "code",
   "source": [
    "h <- 1:15"
   ],
   "metadata": {
    "id": "CjnxPWxq9vm4"
   },
   "execution_count": null,
   "outputs": []
  },
  {
   "cell_type": "code",
   "source": [
    "g + h"
   ],
   "metadata": {
    "colab": {
     "base_uri": "https://localhost:8080/",
     "height": 34
    },
    "id": "lDyDigcmXobg",
    "executionInfo": {
     "status": "ok",
     "timestamp": 1684421909799,
     "user_tz": -180,
     "elapsed": 349,
     "user": {
      "displayName": "Daniel D",
      "userId": "11270935181438165191"
     }
    },
    "outputId": "8694cc97-8a0d-40f5-b4a8-894b5f7ddc42"
   },
   "execution_count": null,
   "outputs": [
    {
     "output_type": "display_data",
     "data": {
      "text/html": [
       "<style>\n",
       ".list-inline {list-style: none; margin:0; padding: 0}\n",
       ".list-inline>li {display: inline-block}\n",
       ".list-inline>li:not(:last-child)::after {content: \"\\00b7\"; padding: 0 .5ex}\n",
       "</style>\n",
       "<ol class=list-inline><li>32</li><li>34</li><li>36</li><li>38</li><li>40</li><li>42</li><li>44</li><li>46</li><li>48</li><li>50</li><li>52</li><li>54</li><li>56</li><li>58</li><li>60</li></ol>\n"
      ],
      "text/markdown": "1. 32\n2. 34\n3. 36\n4. 38\n5. 40\n6. 42\n7. 44\n8. 46\n9. 48\n10. 50\n11. 52\n12. 54\n13. 56\n14. 58\n15. 60\n\n\n",
      "text/latex": "\\begin{enumerate*}\n\\item 32\n\\item 34\n\\item 36\n\\item 38\n\\item 40\n\\item 42\n\\item 44\n\\item 46\n\\item 48\n\\item 50\n\\item 52\n\\item 54\n\\item 56\n\\item 58\n\\item 60\n\\end{enumerate*}\n",
      "text/plain": [
       " [1] 32 34 36 38 40 42 44 46 48 50 52 54 56 58 60"
      ]
     },
     "metadata": {}
    }
   ]
  },
  {
   "cell_type": "code",
   "source": [
    "g * 2"
   ],
   "metadata": {
    "colab": {
     "base_uri": "https://localhost:8080/",
     "height": 34
    },
    "id": "hbUmNHmcXolp",
    "executionInfo": {
     "status": "ok",
     "timestamp": 1684421917588,
     "user_tz": -180,
     "elapsed": 295,
     "user": {
      "displayName": "Daniel D",
      "userId": "11270935181438165191"
     }
    },
    "outputId": "0b2c998b-b03c-4787-cda1-8b10e8ccad39"
   },
   "execution_count": null,
   "outputs": [
    {
     "output_type": "display_data",
     "data": {
      "text/html": [
       "<style>\n",
       ".list-inline {list-style: none; margin:0; padding: 0}\n",
       ".list-inline>li {display: inline-block}\n",
       ".list-inline>li:not(:last-child)::after {content: \"\\00b7\"; padding: 0 .5ex}\n",
       "</style>\n",
       "<ol class=list-inline><li>62</li><li>64</li><li>66</li><li>68</li><li>70</li><li>72</li><li>74</li><li>76</li><li>78</li><li>80</li><li>82</li><li>84</li><li>86</li><li>88</li><li>90</li></ol>\n"
      ],
      "text/markdown": "1. 62\n2. 64\n3. 66\n4. 68\n5. 70\n6. 72\n7. 74\n8. 76\n9. 78\n10. 80\n11. 82\n12. 84\n13. 86\n14. 88\n15. 90\n\n\n",
      "text/latex": "\\begin{enumerate*}\n\\item 62\n\\item 64\n\\item 66\n\\item 68\n\\item 70\n\\item 72\n\\item 74\n\\item 76\n\\item 78\n\\item 80\n\\item 82\n\\item 84\n\\item 86\n\\item 88\n\\item 90\n\\end{enumerate*}\n",
      "text/plain": [
       " [1] 62 64 66 68 70 72 74 76 78 80 82 84 86 88 90"
      ]
     },
     "metadata": {}
    }
   ]
  },
  {
   "cell_type": "markdown",
   "source": [
    "## Логические функции и операторы"
   ],
   "metadata": {
    "id": "EQxsiA-uckvU"
   }
  },
  {
   "cell_type": "code",
   "source": [
    "5 > 6"
   ],
   "metadata": {
    "colab": {
     "base_uri": "https://localhost:8080/",
     "height": 34
    },
    "id": "LUcTuzTSXotO",
    "executionInfo": {
     "status": "ok",
     "timestamp": 1684423214715,
     "user_tz": -180,
     "elapsed": 310,
     "user": {
      "displayName": "Daniel D",
      "userId": "11270935181438165191"
     }
    },
    "outputId": "428c17e5-4575-48a4-c96f-3367b1a90ab7"
   },
   "execution_count": null,
   "outputs": [
    {
     "output_type": "display_data",
     "data": {
      "text/html": [
       "FALSE"
      ],
      "text/markdown": "FALSE",
      "text/latex": "FALSE",
      "text/plain": [
       "[1] FALSE"
      ]
     },
     "metadata": {}
    }
   ]
  },
  {
   "cell_type": "code",
   "source": [
    "61 < 100"
   ],
   "metadata": {
    "colab": {
     "base_uri": "https://localhost:8080/",
     "height": 34
    },
    "id": "PbF46mtkcoMH",
    "executionInfo": {
     "status": "ok",
     "timestamp": 1684423233689,
     "user_tz": -180,
     "elapsed": 313,
     "user": {
      "displayName": "Daniel D",
      "userId": "11270935181438165191"
     }
    },
    "outputId": "99a37875-6207-469a-ce7c-613234ef0596"
   },
   "execution_count": null,
   "outputs": [
    {
     "output_type": "display_data",
     "data": {
      "text/html": [
       "TRUE"
      ],
      "text/markdown": "TRUE",
      "text/latex": "TRUE",
      "text/plain": [
       "[1] TRUE"
      ]
     },
     "metadata": {}
    }
   ]
  },
  {
   "cell_type": "code",
   "source": [
    "2 != 3"
   ],
   "metadata": {
    "colab": {
     "base_uri": "https://localhost:8080/",
     "height": 34
    },
    "id": "wbLX5QBhXozr",
    "executionInfo": {
     "status": "ok",
     "timestamp": 1684423243249,
     "user_tz": -180,
     "elapsed": 924,
     "user": {
      "displayName": "Daniel D",
      "userId": "11270935181438165191"
     }
    },
    "outputId": "7afd71c6-4b41-4449-ad12-2acfc03b6cbb"
   },
   "execution_count": null,
   "outputs": [
    {
     "output_type": "display_data",
     "data": {
      "text/html": [
       "TRUE"
      ],
      "text/markdown": "TRUE",
      "text/latex": "TRUE",
      "text/plain": [
       "[1] TRUE"
      ]
     },
     "metadata": {}
    }
   ]
  },
  {
   "cell_type": "code",
   "source": [
    "2 == 2"
   ],
   "metadata": {
    "colab": {
     "base_uri": "https://localhost:8080/",
     "height": 34
    },
    "id": "a3lGyn2-Xo4Q",
    "executionInfo": {
     "status": "ok",
     "timestamp": 1684423246224,
     "user_tz": -180,
     "elapsed": 352,
     "user": {
      "displayName": "Daniel D",
      "userId": "11270935181438165191"
     }
    },
    "outputId": "7d31a8ab-e9ca-4732-8204-9e1a36953ea1"
   },
   "execution_count": null,
   "outputs": [
    {
     "output_type": "display_data",
     "data": {
      "text/html": [
       "TRUE"
      ],
      "text/markdown": "TRUE",
      "text/latex": "TRUE",
      "text/plain": [
       "[1] TRUE"
      ]
     },
     "metadata": {}
    }
   ]
  },
  {
   "cell_type": "code",
   "source": [
    "6 > 7 | 8 > 9"
   ],
   "metadata": {
    "colab": {
     "base_uri": "https://localhost:8080/",
     "height": 34
    },
    "id": "JWoQXgSJ8wZ-",
    "executionInfo": {
     "status": "ok",
     "timestamp": 1684423269399,
     "user_tz": -180,
     "elapsed": 315,
     "user": {
      "displayName": "Daniel D",
      "userId": "11270935181438165191"
     }
    },
    "outputId": "a81fb67f-2fff-403d-a87a-ef4f695047c1"
   },
   "execution_count": null,
   "outputs": [
    {
     "output_type": "display_data",
     "data": {
      "text/html": [
       "FALSE"
      ],
      "text/markdown": "FALSE",
      "text/latex": "FALSE",
      "text/plain": [
       "[1] FALSE"
      ]
     },
     "metadata": {}
    }
   ]
  },
  {
   "cell_type": "code",
   "source": [
    "6 > 7 & 8 > 9"
   ],
   "metadata": {
    "colab": {
     "base_uri": "https://localhost:8080/",
     "height": 34
    },
    "id": "h7toC4zwcwto",
    "executionInfo": {
     "status": "ok",
     "timestamp": 1684423279945,
     "user_tz": -180,
     "elapsed": 621,
     "user": {
      "displayName": "Daniel D",
      "userId": "11270935181438165191"
     }
    },
    "outputId": "161377e8-fb07-48e6-9308-7a35ae7613c0"
   },
   "execution_count": null,
   "outputs": [
    {
     "output_type": "display_data",
     "data": {
      "text/html": [
       "FALSE"
      ],
      "text/markdown": "FALSE",
      "text/latex": "FALSE",
      "text/plain": [
       "[1] FALSE"
      ]
     },
     "metadata": {}
    }
   ]
  },
  {
   "cell_type": "code",
   "source": [
    "((TRUE == FALSE) & (1 == 1)) & 100 == 100"
   ],
   "metadata": {
    "colab": {
     "base_uri": "https://localhost:8080/",
     "height": 34
    },
    "id": "YMqJhPvBcwyF",
    "executionInfo": {
     "status": "ok",
     "timestamp": 1684423343968,
     "user_tz": -180,
     "elapsed": 311,
     "user": {
      "displayName": "Daniel D",
      "userId": "11270935181438165191"
     }
    },
    "outputId": "682c833c-3cf6-43a5-fc7f-5d70fc37fa80"
   },
   "execution_count": null,
   "outputs": [
    {
     "output_type": "display_data",
     "data": {
      "text/html": [
       "FALSE"
      ],
      "text/markdown": "FALSE",
      "text/latex": "FALSE",
      "text/plain": [
       "[1] FALSE"
      ]
     },
     "metadata": {}
    }
   ]
  },
  {
   "cell_type": "code",
   "source": [
    "((TRUE == FALSE) & (1 == 1)) | 100 == 100"
   ],
   "metadata": {
    "colab": {
     "base_uri": "https://localhost:8080/",
     "height": 34
    },
    "id": "E8h6aFV_dHqV",
    "executionInfo": {
     "status": "ok",
     "timestamp": 1684423367245,
     "user_tz": -180,
     "elapsed": 285,
     "user": {
      "displayName": "Daniel D",
      "userId": "11270935181438165191"
     }
    },
    "outputId": "e39bedd1-36ae-42ae-b0a8-6e3090794d43"
   },
   "execution_count": null,
   "outputs": [
    {
     "output_type": "display_data",
     "data": {
      "text/html": [
       "TRUE"
      ],
      "text/markdown": "TRUE",
      "text/latex": "TRUE",
      "text/plain": [
       "[1] TRUE"
      ]
     },
     "metadata": {}
    }
   ]
  },
  {
   "cell_type": "markdown",
   "source": [
    "## Построим свой dataframe"
   ],
   "metadata": {
    "id": "O4oQHYr3h6qO"
   }
  },
  {
   "cell_type": "code",
   "source": [
    "weight <- c(78, 56, 67, 48, 69, 90)\n",
    "height <- c(170, 160, 165, 159, 170, 185)\n",
    "sex <- (c(rep(\"F\",3),rep(\"M\" ,3)))\n",
    "sex"
   ],
   "metadata": {
    "colab": {
     "base_uri": "https://localhost:8080/",
     "height": 34
    },
    "id": "g8kGF3Cih8YP",
    "executionInfo": {
     "status": "ok",
     "timestamp": 1684424684838,
     "user_tz": -180,
     "elapsed": 5,
     "user": {
      "displayName": "Daniel D",
      "userId": "11270935181438165191"
     }
    },
    "outputId": "31137eed-7168-420b-c7f5-cba8fbd3be39"
   },
   "execution_count": null,
   "outputs": [
    {
     "output_type": "display_data",
     "data": {
      "text/html": [
       "<style>\n",
       ".list-inline {list-style: none; margin:0; padding: 0}\n",
       ".list-inline>li {display: inline-block}\n",
       ".list-inline>li:not(:last-child)::after {content: \"\\00b7\"; padding: 0 .5ex}\n",
       "</style>\n",
       "<ol class=list-inline><li>'F'</li><li>'F'</li><li>'F'</li><li>'M'</li><li>'M'</li><li>'M'</li></ol>\n"
      ],
      "text/markdown": "1. 'F'\n2. 'F'\n3. 'F'\n4. 'M'\n5. 'M'\n6. 'M'\n\n\n",
      "text/latex": "\\begin{enumerate*}\n\\item 'F'\n\\item 'F'\n\\item 'F'\n\\item 'M'\n\\item 'M'\n\\item 'M'\n\\end{enumerate*}\n",
      "text/plain": [
       "[1] \"F\" \"F\" \"F\" \"M\" \"M\" \"M\""
      ]
     },
     "metadata": {}
    }
   ]
  },
  {
   "cell_type": "code",
   "source": [
    "df_1 <- data.frame(weight, height, sex)\n",
    "str(df_1)"
   ],
   "metadata": {
    "colab": {
     "base_uri": "https://localhost:8080/"
    },
    "id": "Ruzv0bEaiO8w",
    "executionInfo": {
     "status": "ok",
     "timestamp": 1684424821856,
     "user_tz": -180,
     "elapsed": 298,
     "user": {
      "displayName": "Daniel D",
      "userId": "11270935181438165191"
     }
    },
    "outputId": "fc229c9a-e317-48d9-977d-79dc273f764e"
   },
   "execution_count": null,
   "outputs": [
    {
     "output_type": "stream",
     "name": "stdout",
     "text": [
      "'data.frame':\t6 obs. of  3 variables:\n",
      " $ weight: num  78 56 67 48 69 90\n",
      " $ height: num  170 160 165 159 170 185\n",
      " $ sex   : chr  \"F\" \"F\" \"F\" \"M\" ...\n"
     ]
    }
   ]
  },
  {
   "cell_type": "code",
   "source": [
    "df_2 <- data.frame(weight, height, sex, stringsAsFactors=TRUE)\n",
    "str(df_2)"
   ],
   "metadata": {
    "colab": {
     "base_uri": "https://localhost:8080/"
    },
    "id": "oGrv3ebOioXC",
    "executionInfo": {
     "status": "ok",
     "timestamp": 1684424832035,
     "user_tz": -180,
     "elapsed": 916,
     "user": {
      "displayName": "Daniel D",
      "userId": "11270935181438165191"
     }
    },
    "outputId": "fecb6cdc-54f7-45ee-c929-0fc2dea7f575"
   },
   "execution_count": null,
   "outputs": [
    {
     "output_type": "stream",
     "name": "stdout",
     "text": [
      "'data.frame':\t6 obs. of  3 variables:\n",
      " $ weight: num  78 56 67 48 69 90\n",
      " $ height: num  170 160 165 159 170 185\n",
      " $ sex   : Factor w/ 2 levels \"F\",\"M\": 1 1 1 2 2 2\n"
     ]
    }
   ]
  },
  {
   "cell_type": "code",
   "source": [
    "factor(sex)"
   ],
   "metadata": {
    "colab": {
     "base_uri": "https://localhost:8080/",
     "height": 52
    },
    "id": "pFfTmtyMi1mv",
    "executionInfo": {
     "status": "ok",
     "timestamp": 1684424849800,
     "user_tz": -180,
     "elapsed": 345,
     "user": {
      "displayName": "Daniel D",
      "userId": "11270935181438165191"
     }
    },
    "outputId": "62599501-9449-4a3b-9c8e-098c2cd07971"
   },
   "execution_count": null,
   "outputs": [
    {
     "output_type": "display_data",
     "data": {
      "text/html": [
       "<style>\n",
       ".list-inline {list-style: none; margin:0; padding: 0}\n",
       ".list-inline>li {display: inline-block}\n",
       ".list-inline>li:not(:last-child)::after {content: \"\\00b7\"; padding: 0 .5ex}\n",
       "</style>\n",
       "<ol class=list-inline><li>F</li><li>F</li><li>F</li><li>M</li><li>M</li><li>M</li></ol>\n",
       "\n",
       "<details>\n",
       "\t<summary style=display:list-item;cursor:pointer>\n",
       "\t\t<strong>Levels</strong>:\n",
       "\t</summary>\n",
       "\t<style>\n",
       "\t.list-inline {list-style: none; margin:0; padding: 0}\n",
       "\t.list-inline>li {display: inline-block}\n",
       "\t.list-inline>li:not(:last-child)::after {content: \"\\00b7\"; padding: 0 .5ex}\n",
       "\t</style>\n",
       "\t<ol class=list-inline><li>'F'</li><li>'M'</li></ol>\n",
       "</details>"
      ],
      "text/markdown": "1. F\n2. F\n3. F\n4. M\n5. M\n6. M\n\n\n\n**Levels**: 1. 'F'\n2. 'M'\n\n\n",
      "text/latex": "\\begin{enumerate*}\n\\item F\n\\item F\n\\item F\n\\item M\n\\item M\n\\item M\n\\end{enumerate*}\n\n\\emph{Levels}: \\begin{enumerate*}\n\\item 'F'\n\\item 'M'\n\\end{enumerate*}\n",
      "text/plain": [
       "[1] F F F M M M\n",
       "Levels: F M"
      ]
     },
     "metadata": {}
    }
   ]
  },
  {
   "cell_type": "markdown",
   "source": [
    "## Стоим матрицу"
   ],
   "metadata": {
    "id": "TV2EEUijjCax"
   }
  },
  {
   "cell_type": "code",
   "source": [
    "m <- 1:30\n",
    "m"
   ],
   "metadata": {
    "colab": {
     "base_uri": "https://localhost:8080/",
     "height": 34
    },
    "id": "Nh4C2t-Ci3GP",
    "executionInfo": {
     "status": "ok",
     "timestamp": 1684424913841,
     "user_tz": -180,
     "elapsed": 456,
     "user": {
      "displayName": "Daniel D",
      "userId": "11270935181438165191"
     }
    },
    "outputId": "1eda84e2-130b-41ab-e388-79a9e42683bd"
   },
   "execution_count": null,
   "outputs": [
    {
     "output_type": "display_data",
     "data": {
      "text/html": [
       "<style>\n",
       ".list-inline {list-style: none; margin:0; padding: 0}\n",
       ".list-inline>li {display: inline-block}\n",
       ".list-inline>li:not(:last-child)::after {content: \"\\00b7\"; padding: 0 .5ex}\n",
       "</style>\n",
       "<ol class=list-inline><li>1</li><li>2</li><li>3</li><li>4</li><li>5</li><li>6</li><li>7</li><li>8</li><li>9</li><li>10</li><li>11</li><li>12</li><li>13</li><li>14</li><li>15</li><li>16</li><li>17</li><li>18</li><li>19</li><li>20</li><li>21</li><li>22</li><li>23</li><li>24</li><li>25</li><li>26</li><li>27</li><li>28</li><li>29</li><li>30</li></ol>\n"
      ],
      "text/markdown": "1. 1\n2. 2\n3. 3\n4. 4\n5. 5\n6. 6\n7. 7\n8. 8\n9. 9\n10. 10\n11. 11\n12. 12\n13. 13\n14. 14\n15. 15\n16. 16\n17. 17\n18. 18\n19. 19\n20. 20\n21. 21\n22. 22\n23. 23\n24. 24\n25. 25\n26. 26\n27. 27\n28. 28\n29. 29\n30. 30\n\n\n",
      "text/latex": "\\begin{enumerate*}\n\\item 1\n\\item 2\n\\item 3\n\\item 4\n\\item 5\n\\item 6\n\\item 7\n\\item 8\n\\item 9\n\\item 10\n\\item 11\n\\item 12\n\\item 13\n\\item 14\n\\item 15\n\\item 16\n\\item 17\n\\item 18\n\\item 19\n\\item 20\n\\item 21\n\\item 22\n\\item 23\n\\item 24\n\\item 25\n\\item 26\n\\item 27\n\\item 28\n\\item 29\n\\item 30\n\\end{enumerate*}\n",
      "text/plain": [
       " [1]  1  2  3  4  5  6  7  8  9 10 11 12 13 14 15 16 17 18 19 20 21 22 23 24 25\n",
       "[26] 26 27 28 29 30"
      ]
     },
     "metadata": {}
    }
   ]
  },
  {
   "cell_type": "code",
   "source": [
    "dim(m) <- c(10, 3)\n",
    "m"
   ],
   "metadata": {
    "colab": {
     "base_uri": "https://localhost:8080/",
     "height": 365
    },
    "id": "fFZG6wuTjG1q",
    "executionInfo": {
     "status": "ok",
     "timestamp": 1684424939012,
     "user_tz": -180,
     "elapsed": 3,
     "user": {
      "displayName": "Daniel D",
      "userId": "11270935181438165191"
     }
    },
    "outputId": "9c7ec94f-32ab-4146-92ba-deec93650381"
   },
   "execution_count": null,
   "outputs": [
    {
     "output_type": "display_data",
     "data": {
      "text/html": [
       "<table class=\"dataframe\">\n",
       "<caption>A matrix: 10 × 3 of type int</caption>\n",
       "<tbody>\n",
       "\t<tr><td> 1</td><td>11</td><td>21</td></tr>\n",
       "\t<tr><td> 2</td><td>12</td><td>22</td></tr>\n",
       "\t<tr><td> 3</td><td>13</td><td>23</td></tr>\n",
       "\t<tr><td> 4</td><td>14</td><td>24</td></tr>\n",
       "\t<tr><td> 5</td><td>15</td><td>25</td></tr>\n",
       "\t<tr><td> 6</td><td>16</td><td>26</td></tr>\n",
       "\t<tr><td> 7</td><td>17</td><td>27</td></tr>\n",
       "\t<tr><td> 8</td><td>18</td><td>28</td></tr>\n",
       "\t<tr><td> 9</td><td>19</td><td>29</td></tr>\n",
       "\t<tr><td>10</td><td>20</td><td>30</td></tr>\n",
       "</tbody>\n",
       "</table>\n"
      ],
      "text/markdown": "\nA matrix: 10 × 3 of type int\n\n|  1 | 11 | 21 |\n|  2 | 12 | 22 |\n|  3 | 13 | 23 |\n|  4 | 14 | 24 |\n|  5 | 15 | 25 |\n|  6 | 16 | 26 |\n|  7 | 17 | 27 |\n|  8 | 18 | 28 |\n|  9 | 19 | 29 |\n| 10 | 20 | 30 |\n\n",
      "text/latex": "A matrix: 10 × 3 of type int\n\\begin{tabular}{lll}\n\t  1 & 11 & 21\\\\\n\t  2 & 12 & 22\\\\\n\t  3 & 13 & 23\\\\\n\t  4 & 14 & 24\\\\\n\t  5 & 15 & 25\\\\\n\t  6 & 16 & 26\\\\\n\t  7 & 17 & 27\\\\\n\t  8 & 18 & 28\\\\\n\t  9 & 19 & 29\\\\\n\t 10 & 20 & 30\\\\\n\\end{tabular}\n",
      "text/plain": [
       "      [,1] [,2] [,3]\n",
       " [1,]  1   11   21  \n",
       " [2,]  2   12   22  \n",
       " [3,]  3   13   23  \n",
       " [4,]  4   14   24  \n",
       " [5,]  5   15   25  \n",
       " [6,]  6   16   26  \n",
       " [7,]  7   17   27  \n",
       " [8,]  8   18   28  \n",
       " [9,]  9   19   29  \n",
       "[10,] 10   20   30  "
      ]
     },
     "metadata": {}
    }
   ]
  },
  {
   "cell_type": "code",
   "source": [
    "class(m)"
   ],
   "metadata": {
    "colab": {
     "base_uri": "https://localhost:8080/",
     "height": 34
    },
    "id": "tAIeIHaUjLUF",
    "executionInfo": {
     "status": "ok",
     "timestamp": 1684424962219,
     "user_tz": -180,
     "elapsed": 289,
     "user": {
      "displayName": "Daniel D",
      "userId": "11270935181438165191"
     }
    },
    "outputId": "4bd68506-a68e-4c2e-b072-d93b0d8d440c"
   },
   "execution_count": null,
   "outputs": [
    {
     "output_type": "display_data",
     "data": {
      "text/html": [
       "<style>\n",
       ".list-inline {list-style: none; margin:0; padding: 0}\n",
       ".list-inline>li {display: inline-block}\n",
       ".list-inline>li:not(:last-child)::after {content: \"\\00b7\"; padding: 0 .5ex}\n",
       "</style>\n",
       "<ol class=list-inline><li>'matrix'</li><li>'array'</li></ol>\n"
      ],
      "text/markdown": "1. 'matrix'\n2. 'array'\n\n\n",
      "text/latex": "\\begin{enumerate*}\n\\item 'matrix'\n\\item 'array'\n\\end{enumerate*}\n",
      "text/plain": [
       "[1] \"matrix\" \"array\" "
      ]
     },
     "metadata": {}
    }
   ]
  },
  {
   "cell_type": "code",
   "source": [
    "# другой способ\n",
    "y <- 1:50\n",
    "m <- matrix(y, 10, 5)\n",
    "m"
   ],
   "metadata": {
    "colab": {
     "base_uri": "https://localhost:8080/",
     "height": 365
    },
    "id": "rYMRmMULjSws",
    "executionInfo": {
     "status": "ok",
     "timestamp": 1684425560619,
     "user_tz": -180,
     "elapsed": 290,
     "user": {
      "displayName": "Daniel D",
      "userId": "11270935181438165191"
     }
    },
    "outputId": "78eb4bdc-75fe-4612-d05f-a3addf1c0220"
   },
   "execution_count": null,
   "outputs": [
    {
     "output_type": "display_data",
     "data": {
      "text/html": [
       "<table class=\"dataframe\">\n",
       "<caption>A matrix: 10 × 5 of type int</caption>\n",
       "<tbody>\n",
       "\t<tr><td> 1</td><td>11</td><td>21</td><td>31</td><td>41</td></tr>\n",
       "\t<tr><td> 2</td><td>12</td><td>22</td><td>32</td><td>42</td></tr>\n",
       "\t<tr><td> 3</td><td>13</td><td>23</td><td>33</td><td>43</td></tr>\n",
       "\t<tr><td> 4</td><td>14</td><td>24</td><td>34</td><td>44</td></tr>\n",
       "\t<tr><td> 5</td><td>15</td><td>25</td><td>35</td><td>45</td></tr>\n",
       "\t<tr><td> 6</td><td>16</td><td>26</td><td>36</td><td>46</td></tr>\n",
       "\t<tr><td> 7</td><td>17</td><td>27</td><td>37</td><td>47</td></tr>\n",
       "\t<tr><td> 8</td><td>18</td><td>28</td><td>38</td><td>48</td></tr>\n",
       "\t<tr><td> 9</td><td>19</td><td>29</td><td>39</td><td>49</td></tr>\n",
       "\t<tr><td>10</td><td>20</td><td>30</td><td>40</td><td>50</td></tr>\n",
       "</tbody>\n",
       "</table>\n"
      ],
      "text/markdown": "\nA matrix: 10 × 5 of type int\n\n|  1 | 11 | 21 | 31 | 41 |\n|  2 | 12 | 22 | 32 | 42 |\n|  3 | 13 | 23 | 33 | 43 |\n|  4 | 14 | 24 | 34 | 44 |\n|  5 | 15 | 25 | 35 | 45 |\n|  6 | 16 | 26 | 36 | 46 |\n|  7 | 17 | 27 | 37 | 47 |\n|  8 | 18 | 28 | 38 | 48 |\n|  9 | 19 | 29 | 39 | 49 |\n| 10 | 20 | 30 | 40 | 50 |\n\n",
      "text/latex": "A matrix: 10 × 5 of type int\n\\begin{tabular}{lllll}\n\t  1 & 11 & 21 & 31 & 41\\\\\n\t  2 & 12 & 22 & 32 & 42\\\\\n\t  3 & 13 & 23 & 33 & 43\\\\\n\t  4 & 14 & 24 & 34 & 44\\\\\n\t  5 & 15 & 25 & 35 & 45\\\\\n\t  6 & 16 & 26 & 36 & 46\\\\\n\t  7 & 17 & 27 & 37 & 47\\\\\n\t  8 & 18 & 28 & 38 & 48\\\\\n\t  9 & 19 & 29 & 39 & 49\\\\\n\t 10 & 20 & 30 & 40 & 50\\\\\n\\end{tabular}\n",
      "text/plain": [
       "      [,1] [,2] [,3] [,4] [,5]\n",
       " [1,]  1   11   21   31   41  \n",
       " [2,]  2   12   22   32   42  \n",
       " [3,]  3   13   23   33   43  \n",
       " [4,]  4   14   24   34   44  \n",
       " [5,]  5   15   25   35   45  \n",
       " [6,]  6   16   26   36   46  \n",
       " [7,]  7   17   27   37   47  \n",
       " [8,]  8   18   28   38   48  \n",
       " [9,]  9   19   29   39   49  \n",
       "[10,] 10   20   30   40   50  "
      ]
     },
     "metadata": {}
    }
   ]
  },
  {
   "cell_type": "code",
   "source": [
    "rownames(m)"
   ],
   "metadata": {
    "colab": {
     "base_uri": "https://localhost:8080/",
     "height": 34
    },
    "id": "aMS6Mif6kOZt",
    "executionInfo": {
     "status": "ok",
     "timestamp": 1684425562407,
     "user_tz": -180,
     "elapsed": 2,
     "user": {
      "displayName": "Daniel D",
      "userId": "11270935181438165191"
     }
    },
    "outputId": "7e4ab07d-cd83-4a1c-ae79-6d7d4a7c81f9"
   },
   "execution_count": null,
   "outputs": [
    {
     "output_type": "display_data",
     "data": {
      "text/plain": [
       "NULL"
      ]
     },
     "metadata": {}
    }
   ]
  },
  {
   "cell_type": "code",
   "source": [
    "colnames(m)"
   ],
   "metadata": {
    "colab": {
     "base_uri": "https://localhost:8080/",
     "height": 34
    },
    "id": "Mkf5GO4dkR--",
    "executionInfo": {
     "status": "ok",
     "timestamp": 1684425564237,
     "user_tz": -180,
     "elapsed": 2,
     "user": {
      "displayName": "Daniel D",
      "userId": "11270935181438165191"
     }
    },
    "outputId": "8f0d5836-eb74-47be-a90d-2a8def8e6aa4"
   },
   "execution_count": null,
   "outputs": [
    {
     "output_type": "display_data",
     "data": {
      "text/plain": [
       "NULL"
      ]
     },
     "metadata": {}
    }
   ]
  },
  {
   "cell_type": "code",
   "source": [
    "names <- LETTERS[1:10]\n",
    "rownames(m) <- names\n",
    "colnames(m) <- paste(\"day\", 1:5)"
   ],
   "metadata": {
    "id": "pZLptTU6kOwD"
   },
   "execution_count": null,
   "outputs": []
  },
  {
   "cell_type": "code",
   "source": [
    "m"
   ],
   "metadata": {
    "colab": {
     "base_uri": "https://localhost:8080/",
     "height": 380
    },
    "id": "AXjy2R_mkqwj",
    "executionInfo": {
     "status": "ok",
     "timestamp": 1684425568271,
     "user_tz": -180,
     "elapsed": 2,
     "user": {
      "displayName": "Daniel D",
      "userId": "11270935181438165191"
     }
    },
    "outputId": "c87fdbd4-6535-470f-8499-9b91ec75fae4"
   },
   "execution_count": null,
   "outputs": [
    {
     "output_type": "display_data",
     "data": {
      "text/html": [
       "<table class=\"dataframe\">\n",
       "<caption>A matrix: 10 × 5 of type int</caption>\n",
       "<thead>\n",
       "\t<tr><th></th><th scope=col>day 1</th><th scope=col>day 2</th><th scope=col>day 3</th><th scope=col>day 4</th><th scope=col>day 5</th></tr>\n",
       "</thead>\n",
       "<tbody>\n",
       "\t<tr><th scope=row>A</th><td> 1</td><td>11</td><td>21</td><td>31</td><td>41</td></tr>\n",
       "\t<tr><th scope=row>B</th><td> 2</td><td>12</td><td>22</td><td>32</td><td>42</td></tr>\n",
       "\t<tr><th scope=row>C</th><td> 3</td><td>13</td><td>23</td><td>33</td><td>43</td></tr>\n",
       "\t<tr><th scope=row>D</th><td> 4</td><td>14</td><td>24</td><td>34</td><td>44</td></tr>\n",
       "\t<tr><th scope=row>E</th><td> 5</td><td>15</td><td>25</td><td>35</td><td>45</td></tr>\n",
       "\t<tr><th scope=row>F</th><td> 6</td><td>16</td><td>26</td><td>36</td><td>46</td></tr>\n",
       "\t<tr><th scope=row>G</th><td> 7</td><td>17</td><td>27</td><td>37</td><td>47</td></tr>\n",
       "\t<tr><th scope=row>H</th><td> 8</td><td>18</td><td>28</td><td>38</td><td>48</td></tr>\n",
       "\t<tr><th scope=row>I</th><td> 9</td><td>19</td><td>29</td><td>39</td><td>49</td></tr>\n",
       "\t<tr><th scope=row>J</th><td>10</td><td>20</td><td>30</td><td>40</td><td>50</td></tr>\n",
       "</tbody>\n",
       "</table>\n"
      ],
      "text/markdown": "\nA matrix: 10 × 5 of type int\n\n| <!--/--> | day 1 | day 2 | day 3 | day 4 | day 5 |\n|---|---|---|---|---|---|\n| A |  1 | 11 | 21 | 31 | 41 |\n| B |  2 | 12 | 22 | 32 | 42 |\n| C |  3 | 13 | 23 | 33 | 43 |\n| D |  4 | 14 | 24 | 34 | 44 |\n| E |  5 | 15 | 25 | 35 | 45 |\n| F |  6 | 16 | 26 | 36 | 46 |\n| G |  7 | 17 | 27 | 37 | 47 |\n| H |  8 | 18 | 28 | 38 | 48 |\n| I |  9 | 19 | 29 | 39 | 49 |\n| J | 10 | 20 | 30 | 40 | 50 |\n\n",
      "text/latex": "A matrix: 10 × 5 of type int\n\\begin{tabular}{r|lllll}\n  & day 1 & day 2 & day 3 & day 4 & day 5\\\\\n\\hline\n\tA &  1 & 11 & 21 & 31 & 41\\\\\n\tB &  2 & 12 & 22 & 32 & 42\\\\\n\tC &  3 & 13 & 23 & 33 & 43\\\\\n\tD &  4 & 14 & 24 & 34 & 44\\\\\n\tE &  5 & 15 & 25 & 35 & 45\\\\\n\tF &  6 & 16 & 26 & 36 & 46\\\\\n\tG &  7 & 17 & 27 & 37 & 47\\\\\n\tH &  8 & 18 & 28 & 38 & 48\\\\\n\tI &  9 & 19 & 29 & 39 & 49\\\\\n\tJ & 10 & 20 & 30 & 40 & 50\\\\\n\\end{tabular}\n",
      "text/plain": [
       "  day 1 day 2 day 3 day 4 day 5\n",
       "A  1    11    21    31    41   \n",
       "B  2    12    22    32    42   \n",
       "C  3    13    23    33    43   \n",
       "D  4    14    24    34    44   \n",
       "E  5    15    25    35    45   \n",
       "F  6    16    26    36    46   \n",
       "G  7    17    27    37    47   \n",
       "H  8    18    28    38    48   \n",
       "I  9    19    29    39    49   \n",
       "J 10    20    30    40    50   "
      ]
     },
     "metadata": {}
    }
   ]
  },
  {
   "cell_type": "markdown",
   "source": [
    "## Датасеты"
   ],
   "metadata": {
    "id": "iVA015_DdwKm"
   }
  },
  {
   "cell_type": "code",
   "source": [
    "data()  # Информация о встроенных датасетах"
   ],
   "metadata": {
    "id": "n7ZJ_4ZvdyqO"
   },
   "execution_count": null,
   "outputs": []
  },
  {
   "cell_type": "markdown",
   "source": [
    "### Загрузим датасет с ирисами"
   ],
   "metadata": {
    "id": "x2b7tNzP5IOa"
   }
  },
  {
   "cell_type": "code",
   "source": [
    "head(iris, 10)"
   ],
   "metadata": {
    "colab": {
     "base_uri": "https://localhost:8080/",
     "height": 412
    },
    "id": "dcpgK66ccw62",
    "executionInfo": {
     "status": "ok",
     "timestamp": 1684425618638,
     "user_tz": -180,
     "elapsed": 380,
     "user": {
      "displayName": "Daniel D",
      "userId": "11270935181438165191"
     }
    },
    "outputId": "948837d9-2c43-47c9-9b83-1a9e3a762e83"
   },
   "execution_count": null,
   "outputs": [
    {
     "output_type": "display_data",
     "data": {
      "text/html": [
       "<table class=\"dataframe\">\n",
       "<caption>A data.frame: 10 × 5</caption>\n",
       "<thead>\n",
       "\t<tr><th></th><th scope=col>Sepal.Length</th><th scope=col>Sepal.Width</th><th scope=col>Petal.Length</th><th scope=col>Petal.Width</th><th scope=col>Species</th></tr>\n",
       "\t<tr><th></th><th scope=col>&lt;dbl&gt;</th><th scope=col>&lt;dbl&gt;</th><th scope=col>&lt;dbl&gt;</th><th scope=col>&lt;dbl&gt;</th><th scope=col>&lt;fct&gt;</th></tr>\n",
       "</thead>\n",
       "<tbody>\n",
       "\t<tr><th scope=row>1</th><td>5.1</td><td>3.5</td><td>1.4</td><td>0.2</td><td>setosa</td></tr>\n",
       "\t<tr><th scope=row>2</th><td>4.9</td><td>3.0</td><td>1.4</td><td>0.2</td><td>setosa</td></tr>\n",
       "\t<tr><th scope=row>3</th><td>4.7</td><td>3.2</td><td>1.3</td><td>0.2</td><td>setosa</td></tr>\n",
       "\t<tr><th scope=row>4</th><td>4.6</td><td>3.1</td><td>1.5</td><td>0.2</td><td>setosa</td></tr>\n",
       "\t<tr><th scope=row>5</th><td>5.0</td><td>3.6</td><td>1.4</td><td>0.2</td><td>setosa</td></tr>\n",
       "\t<tr><th scope=row>6</th><td>5.4</td><td>3.9</td><td>1.7</td><td>0.4</td><td>setosa</td></tr>\n",
       "\t<tr><th scope=row>7</th><td>4.6</td><td>3.4</td><td>1.4</td><td>0.3</td><td>setosa</td></tr>\n",
       "\t<tr><th scope=row>8</th><td>5.0</td><td>3.4</td><td>1.5</td><td>0.2</td><td>setosa</td></tr>\n",
       "\t<tr><th scope=row>9</th><td>4.4</td><td>2.9</td><td>1.4</td><td>0.2</td><td>setosa</td></tr>\n",
       "\t<tr><th scope=row>10</th><td>4.9</td><td>3.1</td><td>1.5</td><td>0.1</td><td>setosa</td></tr>\n",
       "</tbody>\n",
       "</table>\n"
      ],
      "text/markdown": "\nA data.frame: 10 × 5\n\n| <!--/--> | Sepal.Length &lt;dbl&gt; | Sepal.Width &lt;dbl&gt; | Petal.Length &lt;dbl&gt; | Petal.Width &lt;dbl&gt; | Species &lt;fct&gt; |\n|---|---|---|---|---|---|\n| 1 | 5.1 | 3.5 | 1.4 | 0.2 | setosa |\n| 2 | 4.9 | 3.0 | 1.4 | 0.2 | setosa |\n| 3 | 4.7 | 3.2 | 1.3 | 0.2 | setosa |\n| 4 | 4.6 | 3.1 | 1.5 | 0.2 | setosa |\n| 5 | 5.0 | 3.6 | 1.4 | 0.2 | setosa |\n| 6 | 5.4 | 3.9 | 1.7 | 0.4 | setosa |\n| 7 | 4.6 | 3.4 | 1.4 | 0.3 | setosa |\n| 8 | 5.0 | 3.4 | 1.5 | 0.2 | setosa |\n| 9 | 4.4 | 2.9 | 1.4 | 0.2 | setosa |\n| 10 | 4.9 | 3.1 | 1.5 | 0.1 | setosa |\n\n",
      "text/latex": "A data.frame: 10 × 5\n\\begin{tabular}{r|lllll}\n  & Sepal.Length & Sepal.Width & Petal.Length & Petal.Width & Species\\\\\n  & <dbl> & <dbl> & <dbl> & <dbl> & <fct>\\\\\n\\hline\n\t1 & 5.1 & 3.5 & 1.4 & 0.2 & setosa\\\\\n\t2 & 4.9 & 3.0 & 1.4 & 0.2 & setosa\\\\\n\t3 & 4.7 & 3.2 & 1.3 & 0.2 & setosa\\\\\n\t4 & 4.6 & 3.1 & 1.5 & 0.2 & setosa\\\\\n\t5 & 5.0 & 3.6 & 1.4 & 0.2 & setosa\\\\\n\t6 & 5.4 & 3.9 & 1.7 & 0.4 & setosa\\\\\n\t7 & 4.6 & 3.4 & 1.4 & 0.3 & setosa\\\\\n\t8 & 5.0 & 3.4 & 1.5 & 0.2 & setosa\\\\\n\t9 & 4.4 & 2.9 & 1.4 & 0.2 & setosa\\\\\n\t10 & 4.9 & 3.1 & 1.5 & 0.1 & setosa\\\\\n\\end{tabular}\n",
      "text/plain": [
       "   Sepal.Length Sepal.Width Petal.Length Petal.Width Species\n",
       "1  5.1          3.5         1.4          0.2         setosa \n",
       "2  4.9          3.0         1.4          0.2         setosa \n",
       "3  4.7          3.2         1.3          0.2         setosa \n",
       "4  4.6          3.1         1.5          0.2         setosa \n",
       "5  5.0          3.6         1.4          0.2         setosa \n",
       "6  5.4          3.9         1.7          0.4         setosa \n",
       "7  4.6          3.4         1.4          0.3         setosa \n",
       "8  5.0          3.4         1.5          0.2         setosa \n",
       "9  4.4          2.9         1.4          0.2         setosa \n",
       "10 4.9          3.1         1.5          0.1         setosa "
      ]
     },
     "metadata": {}
    }
   ]
  },
  {
   "cell_type": "code",
   "source": [
    "sum(is.na(iris))"
   ],
   "metadata": {
    "colab": {
     "base_uri": "https://localhost:8080/",
     "height": 34
    },
    "id": "Z5_3HEpscw_b",
    "executionInfo": {
     "status": "ok",
     "timestamp": 1684425620323,
     "user_tz": -180,
     "elapsed": 2,
     "user": {
      "displayName": "Daniel D",
      "userId": "11270935181438165191"
     }
    },
    "outputId": "f6ad9e9f-a658-491c-9310-805ffb607000"
   },
   "execution_count": null,
   "outputs": [
    {
     "output_type": "display_data",
     "data": {
      "text/html": [
       "0"
      ],
      "text/markdown": "0",
      "text/latex": "0",
      "text/plain": [
       "[1] 0"
      ]
     },
     "metadata": {}
    }
   ]
  },
  {
   "cell_type": "code",
   "source": [
    "head(is.na(iris), 10)"
   ],
   "metadata": {
    "colab": {
     "base_uri": "https://localhost:8080/",
     "height": 380
    },
    "id": "8yT78HtseUjT",
    "executionInfo": {
     "status": "ok",
     "timestamp": 1684425621465,
     "user_tz": -180,
     "elapsed": 2,
     "user": {
      "displayName": "Daniel D",
      "userId": "11270935181438165191"
     }
    },
    "outputId": "223136da-f62e-446a-b479-cb371abf0f43"
   },
   "execution_count": null,
   "outputs": [
    {
     "output_type": "display_data",
     "data": {
      "text/html": [
       "<table class=\"dataframe\">\n",
       "<caption>A matrix: 10 × 5 of type lgl</caption>\n",
       "<thead>\n",
       "\t<tr><th scope=col>Sepal.Length</th><th scope=col>Sepal.Width</th><th scope=col>Petal.Length</th><th scope=col>Petal.Width</th><th scope=col>Species</th></tr>\n",
       "</thead>\n",
       "<tbody>\n",
       "\t<tr><td>FALSE</td><td>FALSE</td><td>FALSE</td><td>FALSE</td><td>FALSE</td></tr>\n",
       "\t<tr><td>FALSE</td><td>FALSE</td><td>FALSE</td><td>FALSE</td><td>FALSE</td></tr>\n",
       "\t<tr><td>FALSE</td><td>FALSE</td><td>FALSE</td><td>FALSE</td><td>FALSE</td></tr>\n",
       "\t<tr><td>FALSE</td><td>FALSE</td><td>FALSE</td><td>FALSE</td><td>FALSE</td></tr>\n",
       "\t<tr><td>FALSE</td><td>FALSE</td><td>FALSE</td><td>FALSE</td><td>FALSE</td></tr>\n",
       "\t<tr><td>FALSE</td><td>FALSE</td><td>FALSE</td><td>FALSE</td><td>FALSE</td></tr>\n",
       "\t<tr><td>FALSE</td><td>FALSE</td><td>FALSE</td><td>FALSE</td><td>FALSE</td></tr>\n",
       "\t<tr><td>FALSE</td><td>FALSE</td><td>FALSE</td><td>FALSE</td><td>FALSE</td></tr>\n",
       "\t<tr><td>FALSE</td><td>FALSE</td><td>FALSE</td><td>FALSE</td><td>FALSE</td></tr>\n",
       "\t<tr><td>FALSE</td><td>FALSE</td><td>FALSE</td><td>FALSE</td><td>FALSE</td></tr>\n",
       "</tbody>\n",
       "</table>\n"
      ],
      "text/markdown": "\nA matrix: 10 × 5 of type lgl\n\n| Sepal.Length | Sepal.Width | Petal.Length | Petal.Width | Species |\n|---|---|---|---|---|\n| FALSE | FALSE | FALSE | FALSE | FALSE |\n| FALSE | FALSE | FALSE | FALSE | FALSE |\n| FALSE | FALSE | FALSE | FALSE | FALSE |\n| FALSE | FALSE | FALSE | FALSE | FALSE |\n| FALSE | FALSE | FALSE | FALSE | FALSE |\n| FALSE | FALSE | FALSE | FALSE | FALSE |\n| FALSE | FALSE | FALSE | FALSE | FALSE |\n| FALSE | FALSE | FALSE | FALSE | FALSE |\n| FALSE | FALSE | FALSE | FALSE | FALSE |\n| FALSE | FALSE | FALSE | FALSE | FALSE |\n\n",
      "text/latex": "A matrix: 10 × 5 of type lgl\n\\begin{tabular}{lllll}\n Sepal.Length & Sepal.Width & Petal.Length & Petal.Width & Species\\\\\n\\hline\n\t FALSE & FALSE & FALSE & FALSE & FALSE\\\\\n\t FALSE & FALSE & FALSE & FALSE & FALSE\\\\\n\t FALSE & FALSE & FALSE & FALSE & FALSE\\\\\n\t FALSE & FALSE & FALSE & FALSE & FALSE\\\\\n\t FALSE & FALSE & FALSE & FALSE & FALSE\\\\\n\t FALSE & FALSE & FALSE & FALSE & FALSE\\\\\n\t FALSE & FALSE & FALSE & FALSE & FALSE\\\\\n\t FALSE & FALSE & FALSE & FALSE & FALSE\\\\\n\t FALSE & FALSE & FALSE & FALSE & FALSE\\\\\n\t FALSE & FALSE & FALSE & FALSE & FALSE\\\\\n\\end{tabular}\n",
      "text/plain": [
       "      Sepal.Length Sepal.Width Petal.Length Petal.Width Species\n",
       " [1,] FALSE        FALSE       FALSE        FALSE       FALSE  \n",
       " [2,] FALSE        FALSE       FALSE        FALSE       FALSE  \n",
       " [3,] FALSE        FALSE       FALSE        FALSE       FALSE  \n",
       " [4,] FALSE        FALSE       FALSE        FALSE       FALSE  \n",
       " [5,] FALSE        FALSE       FALSE        FALSE       FALSE  \n",
       " [6,] FALSE        FALSE       FALSE        FALSE       FALSE  \n",
       " [7,] FALSE        FALSE       FALSE        FALSE       FALSE  \n",
       " [8,] FALSE        FALSE       FALSE        FALSE       FALSE  \n",
       " [9,] FALSE        FALSE       FALSE        FALSE       FALSE  \n",
       "[10,] FALSE        FALSE       FALSE        FALSE       FALSE  "
      ]
     },
     "metadata": {}
    }
   ]
  },
  {
   "cell_type": "code",
   "source": [
    "dim(iris)"
   ],
   "metadata": {
    "colab": {
     "base_uri": "https://localhost:8080/",
     "height": 34
    },
    "id": "eal_yH98ebhT",
    "executionInfo": {
     "status": "ok",
     "timestamp": 1684425622257,
     "user_tz": -180,
     "elapsed": 2,
     "user": {
      "displayName": "Daniel D",
      "userId": "11270935181438165191"
     }
    },
    "outputId": "ba712e33-a4d5-4d14-d0f5-0a48c4c04bb0"
   },
   "execution_count": null,
   "outputs": [
    {
     "output_type": "display_data",
     "data": {
      "text/html": [
       "<style>\n",
       ".list-inline {list-style: none; margin:0; padding: 0}\n",
       ".list-inline>li {display: inline-block}\n",
       ".list-inline>li:not(:last-child)::after {content: \"\\00b7\"; padding: 0 .5ex}\n",
       "</style>\n",
       "<ol class=list-inline><li>150</li><li>5</li></ol>\n"
      ],
      "text/markdown": "1. 150\n2. 5\n\n\n",
      "text/latex": "\\begin{enumerate*}\n\\item 150\n\\item 5\n\\end{enumerate*}\n",
      "text/plain": [
       "[1] 150   5"
      ]
     },
     "metadata": {}
    }
   ]
  },
  {
   "cell_type": "code",
   "source": [
    "str(iris)"
   ],
   "metadata": {
    "colab": {
     "base_uri": "https://localhost:8080/"
    },
    "id": "zNZpmFtkebrI",
    "executionInfo": {
     "status": "ok",
     "timestamp": 1684425623198,
     "user_tz": -180,
     "elapsed": 8,
     "user": {
      "displayName": "Daniel D",
      "userId": "11270935181438165191"
     }
    },
    "outputId": "b7084369-1221-4a8c-d5de-85f123ebe65c"
   },
   "execution_count": null,
   "outputs": [
    {
     "output_type": "stream",
     "name": "stdout",
     "text": [
      "'data.frame':\t150 obs. of  5 variables:\n",
      " $ Sepal.Length: num  5.1 4.9 4.7 4.6 5 5.4 4.6 5 4.4 4.9 ...\n",
      " $ Sepal.Width : num  3.5 3 3.2 3.1 3.6 3.9 3.4 3.4 2.9 3.1 ...\n",
      " $ Petal.Length: num  1.4 1.4 1.3 1.5 1.4 1.7 1.4 1.5 1.4 1.5 ...\n",
      " $ Petal.Width : num  0.2 0.2 0.2 0.2 0.2 0.4 0.3 0.2 0.2 0.1 ...\n",
      " $ Species     : Factor w/ 3 levels \"setosa\",\"versicolor\",..: 1 1 1 1 1 1 1 1 1 1 ...\n"
     ]
    }
   ]
  },
  {
   "cell_type": "code",
   "source": [
    "unique(iris[,5])"
   ],
   "metadata": {
    "colab": {
     "base_uri": "https://localhost:8080/",
     "height": 52
    },
    "id": "4RxSFVw3ebx5",
    "executionInfo": {
     "status": "ok",
     "timestamp": 1684425624411,
     "user_tz": -180,
     "elapsed": 2,
     "user": {
      "displayName": "Daniel D",
      "userId": "11270935181438165191"
     }
    },
    "outputId": "f1527628-2fe2-4282-aa64-784ad42509b0"
   },
   "execution_count": null,
   "outputs": [
    {
     "output_type": "display_data",
     "data": {
      "text/html": [
       "<style>\n",
       ".list-inline {list-style: none; margin:0; padding: 0}\n",
       ".list-inline>li {display: inline-block}\n",
       ".list-inline>li:not(:last-child)::after {content: \"\\00b7\"; padding: 0 .5ex}\n",
       "</style>\n",
       "<ol class=list-inline><li>setosa</li><li>versicolor</li><li>virginica</li></ol>\n",
       "\n",
       "<details>\n",
       "\t<summary style=display:list-item;cursor:pointer>\n",
       "\t\t<strong>Levels</strong>:\n",
       "\t</summary>\n",
       "\t<style>\n",
       "\t.list-inline {list-style: none; margin:0; padding: 0}\n",
       "\t.list-inline>li {display: inline-block}\n",
       "\t.list-inline>li:not(:last-child)::after {content: \"\\00b7\"; padding: 0 .5ex}\n",
       "\t</style>\n",
       "\t<ol class=list-inline><li>'setosa'</li><li>'versicolor'</li><li>'virginica'</li></ol>\n",
       "</details>"
      ],
      "text/markdown": "1. setosa\n2. versicolor\n3. virginica\n\n\n\n**Levels**: 1. 'setosa'\n2. 'versicolor'\n3. 'virginica'\n\n\n",
      "text/latex": "\\begin{enumerate*}\n\\item setosa\n\\item versicolor\n\\item virginica\n\\end{enumerate*}\n\n\\emph{Levels}: \\begin{enumerate*}\n\\item 'setosa'\n\\item 'versicolor'\n\\item 'virginica'\n\\end{enumerate*}\n",
      "text/plain": [
       "[1] setosa     versicolor virginica \n",
       "Levels: setosa versicolor virginica"
      ]
     },
     "metadata": {}
    }
   ]
  },
  {
   "cell_type": "code",
   "source": [
    "levels(iris$Species)"
   ],
   "metadata": {
    "colab": {
     "base_uri": "https://localhost:8080/",
     "height": 34
    },
    "id": "C1VSiluEeb4D",
    "executionInfo": {
     "status": "ok",
     "timestamp": 1684425625063,
     "user_tz": -180,
     "elapsed": 2,
     "user": {
      "displayName": "Daniel D",
      "userId": "11270935181438165191"
     }
    },
    "outputId": "55d74046-70d6-4ec5-e2aa-7a2216c52503"
   },
   "execution_count": null,
   "outputs": [
    {
     "output_type": "display_data",
     "data": {
      "text/html": [
       "<style>\n",
       ".list-inline {list-style: none; margin:0; padding: 0}\n",
       ".list-inline>li {display: inline-block}\n",
       ".list-inline>li:not(:last-child)::after {content: \"\\00b7\"; padding: 0 .5ex}\n",
       "</style>\n",
       "<ol class=list-inline><li>'setosa'</li><li>'versicolor'</li><li>'virginica'</li></ol>\n"
      ],
      "text/markdown": "1. 'setosa'\n2. 'versicolor'\n3. 'virginica'\n\n\n",
      "text/latex": "\\begin{enumerate*}\n\\item 'setosa'\n\\item 'versicolor'\n\\item 'virginica'\n\\end{enumerate*}\n",
      "text/plain": [
       "[1] \"setosa\"     \"versicolor\" \"virginica\" "
      ]
     },
     "metadata": {}
    }
   ]
  },
  {
   "cell_type": "code",
   "source": [
    "head(iris[iris$Sepal.Width>3.0,]) # Не забудьте про \",\" в конце!"
   ],
   "metadata": {
    "colab": {
     "base_uri": "https://localhost:8080/",
     "height": 286
    },
    "id": "dKhT1WJLeb-P",
    "executionInfo": {
     "status": "ok",
     "timestamp": 1684425626975,
     "user_tz": -180,
     "elapsed": 952,
     "user": {
      "displayName": "Daniel D",
      "userId": "11270935181438165191"
     }
    },
    "outputId": "a19b8a1c-3ac7-485f-bb45-0269a213db1e"
   },
   "execution_count": null,
   "outputs": [
    {
     "output_type": "display_data",
     "data": {
      "text/html": [
       "<table class=\"dataframe\">\n",
       "<caption>A data.frame: 6 × 5</caption>\n",
       "<thead>\n",
       "\t<tr><th></th><th scope=col>Sepal.Length</th><th scope=col>Sepal.Width</th><th scope=col>Petal.Length</th><th scope=col>Petal.Width</th><th scope=col>Species</th></tr>\n",
       "\t<tr><th></th><th scope=col>&lt;dbl&gt;</th><th scope=col>&lt;dbl&gt;</th><th scope=col>&lt;dbl&gt;</th><th scope=col>&lt;dbl&gt;</th><th scope=col>&lt;fct&gt;</th></tr>\n",
       "</thead>\n",
       "<tbody>\n",
       "\t<tr><th scope=row>1</th><td>5.1</td><td>3.5</td><td>1.4</td><td>0.2</td><td>setosa</td></tr>\n",
       "\t<tr><th scope=row>3</th><td>4.7</td><td>3.2</td><td>1.3</td><td>0.2</td><td>setosa</td></tr>\n",
       "\t<tr><th scope=row>4</th><td>4.6</td><td>3.1</td><td>1.5</td><td>0.2</td><td>setosa</td></tr>\n",
       "\t<tr><th scope=row>5</th><td>5.0</td><td>3.6</td><td>1.4</td><td>0.2</td><td>setosa</td></tr>\n",
       "\t<tr><th scope=row>6</th><td>5.4</td><td>3.9</td><td>1.7</td><td>0.4</td><td>setosa</td></tr>\n",
       "\t<tr><th scope=row>7</th><td>4.6</td><td>3.4</td><td>1.4</td><td>0.3</td><td>setosa</td></tr>\n",
       "</tbody>\n",
       "</table>\n"
      ],
      "text/markdown": "\nA data.frame: 6 × 5\n\n| <!--/--> | Sepal.Length &lt;dbl&gt; | Sepal.Width &lt;dbl&gt; | Petal.Length &lt;dbl&gt; | Petal.Width &lt;dbl&gt; | Species &lt;fct&gt; |\n|---|---|---|---|---|---|\n| 1 | 5.1 | 3.5 | 1.4 | 0.2 | setosa |\n| 3 | 4.7 | 3.2 | 1.3 | 0.2 | setosa |\n| 4 | 4.6 | 3.1 | 1.5 | 0.2 | setosa |\n| 5 | 5.0 | 3.6 | 1.4 | 0.2 | setosa |\n| 6 | 5.4 | 3.9 | 1.7 | 0.4 | setosa |\n| 7 | 4.6 | 3.4 | 1.4 | 0.3 | setosa |\n\n",
      "text/latex": "A data.frame: 6 × 5\n\\begin{tabular}{r|lllll}\n  & Sepal.Length & Sepal.Width & Petal.Length & Petal.Width & Species\\\\\n  & <dbl> & <dbl> & <dbl> & <dbl> & <fct>\\\\\n\\hline\n\t1 & 5.1 & 3.5 & 1.4 & 0.2 & setosa\\\\\n\t3 & 4.7 & 3.2 & 1.3 & 0.2 & setosa\\\\\n\t4 & 4.6 & 3.1 & 1.5 & 0.2 & setosa\\\\\n\t5 & 5.0 & 3.6 & 1.4 & 0.2 & setosa\\\\\n\t6 & 5.4 & 3.9 & 1.7 & 0.4 & setosa\\\\\n\t7 & 4.6 & 3.4 & 1.4 & 0.3 & setosa\\\\\n\\end{tabular}\n",
      "text/plain": [
       "  Sepal.Length Sepal.Width Petal.Length Petal.Width Species\n",
       "1 5.1          3.5         1.4          0.2         setosa \n",
       "3 4.7          3.2         1.3          0.2         setosa \n",
       "4 4.6          3.1         1.5          0.2         setosa \n",
       "5 5.0          3.6         1.4          0.2         setosa \n",
       "6 5.4          3.9         1.7          0.4         setosa \n",
       "7 4.6          3.4         1.4          0.3         setosa "
      ]
     },
     "metadata": {}
    }
   ]
  },
  {
   "cell_type": "code",
   "source": [
    "head(iris[iris$Sepal.Width > 3.0 & iris$Petal.Width > 1.4,])"
   ],
   "metadata": {
    "colab": {
     "base_uri": "https://localhost:8080/",
     "height": 286
    },
    "id": "uKQd00XRecES",
    "executionInfo": {
     "status": "ok",
     "timestamp": 1684425627971,
     "user_tz": -180,
     "elapsed": 998,
     "user": {
      "displayName": "Daniel D",
      "userId": "11270935181438165191"
     }
    },
    "outputId": "0805069e-52ff-47c1-bccd-0a8366e990e7"
   },
   "execution_count": null,
   "outputs": [
    {
     "output_type": "display_data",
     "data": {
      "text/html": [
       "<table class=\"dataframe\">\n",
       "<caption>A data.frame: 6 × 5</caption>\n",
       "<thead>\n",
       "\t<tr><th></th><th scope=col>Sepal.Length</th><th scope=col>Sepal.Width</th><th scope=col>Petal.Length</th><th scope=col>Petal.Width</th><th scope=col>Species</th></tr>\n",
       "\t<tr><th></th><th scope=col>&lt;dbl&gt;</th><th scope=col>&lt;dbl&gt;</th><th scope=col>&lt;dbl&gt;</th><th scope=col>&lt;dbl&gt;</th><th scope=col>&lt;fct&gt;</th></tr>\n",
       "</thead>\n",
       "<tbody>\n",
       "\t<tr><th scope=row>52</th><td>6.4</td><td>3.2</td><td>4.5</td><td>1.5</td><td>versicolor</td></tr>\n",
       "\t<tr><th scope=row>53</th><td>6.9</td><td>3.1</td><td>4.9</td><td>1.5</td><td>versicolor</td></tr>\n",
       "\t<tr><th scope=row>57</th><td>6.3</td><td>3.3</td><td>4.7</td><td>1.6</td><td>versicolor</td></tr>\n",
       "\t<tr><th scope=row>71</th><td>5.9</td><td>3.2</td><td>4.8</td><td>1.8</td><td>versicolor</td></tr>\n",
       "\t<tr><th scope=row>86</th><td>6.0</td><td>3.4</td><td>4.5</td><td>1.6</td><td>versicolor</td></tr>\n",
       "\t<tr><th scope=row>87</th><td>6.7</td><td>3.1</td><td>4.7</td><td>1.5</td><td>versicolor</td></tr>\n",
       "</tbody>\n",
       "</table>\n"
      ],
      "text/markdown": "\nA data.frame: 6 × 5\n\n| <!--/--> | Sepal.Length &lt;dbl&gt; | Sepal.Width &lt;dbl&gt; | Petal.Length &lt;dbl&gt; | Petal.Width &lt;dbl&gt; | Species &lt;fct&gt; |\n|---|---|---|---|---|---|\n| 52 | 6.4 | 3.2 | 4.5 | 1.5 | versicolor |\n| 53 | 6.9 | 3.1 | 4.9 | 1.5 | versicolor |\n| 57 | 6.3 | 3.3 | 4.7 | 1.6 | versicolor |\n| 71 | 5.9 | 3.2 | 4.8 | 1.8 | versicolor |\n| 86 | 6.0 | 3.4 | 4.5 | 1.6 | versicolor |\n| 87 | 6.7 | 3.1 | 4.7 | 1.5 | versicolor |\n\n",
      "text/latex": "A data.frame: 6 × 5\n\\begin{tabular}{r|lllll}\n  & Sepal.Length & Sepal.Width & Petal.Length & Petal.Width & Species\\\\\n  & <dbl> & <dbl> & <dbl> & <dbl> & <fct>\\\\\n\\hline\n\t52 & 6.4 & 3.2 & 4.5 & 1.5 & versicolor\\\\\n\t53 & 6.9 & 3.1 & 4.9 & 1.5 & versicolor\\\\\n\t57 & 6.3 & 3.3 & 4.7 & 1.6 & versicolor\\\\\n\t71 & 5.9 & 3.2 & 4.8 & 1.8 & versicolor\\\\\n\t86 & 6.0 & 3.4 & 4.5 & 1.6 & versicolor\\\\\n\t87 & 6.7 & 3.1 & 4.7 & 1.5 & versicolor\\\\\n\\end{tabular}\n",
      "text/plain": [
       "   Sepal.Length Sepal.Width Petal.Length Petal.Width Species   \n",
       "52 6.4          3.2         4.5          1.5         versicolor\n",
       "53 6.9          3.1         4.9          1.5         versicolor\n",
       "57 6.3          3.3         4.7          1.6         versicolor\n",
       "71 5.9          3.2         4.8          1.8         versicolor\n",
       "86 6.0          3.4         4.5          1.6         versicolor\n",
       "87 6.7          3.1         4.7          1.5         versicolor"
      ]
     },
     "metadata": {}
    }
   ]
  },
  {
   "cell_type": "code",
   "source": [
    "percentage <- prop.table(table(iris$Species)) * 100\n",
    "cbind(freq=table(iris$Species), percentage=percentage)"
   ],
   "metadata": {
    "colab": {
     "base_uri": "https://localhost:8080/",
     "height": 161
    },
    "id": "0b1YmTQc3vBh",
    "executionInfo": {
     "status": "ok",
     "timestamp": 1684425627971,
     "user_tz": -180,
     "elapsed": 2,
     "user": {
      "displayName": "Daniel D",
      "userId": "11270935181438165191"
     }
    },
    "outputId": "137641a2-815c-49cb-db88-ab997565b9a7"
   },
   "execution_count": null,
   "outputs": [
    {
     "output_type": "display_data",
     "data": {
      "text/html": [
       "<table class=\"dataframe\">\n",
       "<caption>A matrix: 3 × 2 of type dbl</caption>\n",
       "<thead>\n",
       "\t<tr><th></th><th scope=col>freq</th><th scope=col>percentage</th></tr>\n",
       "</thead>\n",
       "<tbody>\n",
       "\t<tr><th scope=row>setosa</th><td>50</td><td>33.33333</td></tr>\n",
       "\t<tr><th scope=row>versicolor</th><td>50</td><td>33.33333</td></tr>\n",
       "\t<tr><th scope=row>virginica</th><td>50</td><td>33.33333</td></tr>\n",
       "</tbody>\n",
       "</table>\n"
      ],
      "text/markdown": "\nA matrix: 3 × 2 of type dbl\n\n| <!--/--> | freq | percentage |\n|---|---|---|\n| setosa | 50 | 33.33333 |\n| versicolor | 50 | 33.33333 |\n| virginica | 50 | 33.33333 |\n\n",
      "text/latex": "A matrix: 3 × 2 of type dbl\n\\begin{tabular}{r|ll}\n  & freq & percentage\\\\\n\\hline\n\tsetosa & 50 & 33.33333\\\\\n\tversicolor & 50 & 33.33333\\\\\n\tvirginica & 50 & 33.33333\\\\\n\\end{tabular}\n",
      "text/plain": [
       "           freq percentage\n",
       "setosa     50   33.33333  \n",
       "versicolor 50   33.33333  \n",
       "virginica  50   33.33333  "
      ]
     },
     "metadata": {}
    }
   ]
  },
  {
   "cell_type": "code",
   "source": [
    "summary(iris)"
   ],
   "metadata": {
    "colab": {
     "base_uri": "https://localhost:8080/",
     "height": 260
    },
    "id": "6zLzIzho31gX",
    "executionInfo": {
     "status": "ok",
     "timestamp": 1684425629361,
     "user_tz": -180,
     "elapsed": 3,
     "user": {
      "displayName": "Daniel D",
      "userId": "11270935181438165191"
     }
    },
    "outputId": "9439f6ee-fb2a-49d8-a350-838949af62d2"
   },
   "execution_count": null,
   "outputs": [
    {
     "output_type": "display_data",
     "data": {
      "text/plain": [
       "  Sepal.Length    Sepal.Width     Petal.Length    Petal.Width   \n",
       " Min.   :4.300   Min.   :2.000   Min.   :1.000   Min.   :0.100  \n",
       " 1st Qu.:5.100   1st Qu.:2.800   1st Qu.:1.600   1st Qu.:0.300  \n",
       " Median :5.800   Median :3.000   Median :4.350   Median :1.300  \n",
       " Mean   :5.843   Mean   :3.057   Mean   :3.758   Mean   :1.199  \n",
       " 3rd Qu.:6.400   3rd Qu.:3.300   3rd Qu.:5.100   3rd Qu.:1.800  \n",
       " Max.   :7.900   Max.   :4.400   Max.   :6.900   Max.   :2.500  \n",
       "       Species  \n",
       " setosa    :50  \n",
       " versicolor:50  \n",
       " virginica :50  \n",
       "                \n",
       "                \n",
       "                "
      ]
     },
     "metadata": {}
    }
   ]
  },
  {
   "cell_type": "markdown",
   "source": [
    "## Разделим датасет на вектор x и целевую переменную y"
   ],
   "metadata": {
    "id": "6RIcL4-Cl3hk"
   }
  },
  {
   "cell_type": "code",
   "source": [
    "x <- iris[,1:4]\n",
    "y <- iris[,5]"
   ],
   "metadata": {
    "id": "4ZAqK_Ff36w7"
   },
   "execution_count": null,
   "outputs": []
  },
  {
   "cell_type": "code",
   "source": [
    "par(mfrow=c(1,4))\n",
    "    for(i in 1:4) {\n",
    "        boxplot(x[,i], main=names(iris)[i])\n",
    "    }"
   ],
   "metadata": {
    "colab": {
     "base_uri": "https://localhost:8080/",
     "height": 437
    },
    "id": "RzRi4GvH3-kN",
    "executionInfo": {
     "status": "ok",
     "timestamp": 1684425729940,
     "user_tz": -180,
     "elapsed": 671,
     "user": {
      "displayName": "Daniel D",
      "userId": "11270935181438165191"
     }
    },
    "outputId": "3a2b4c3c-b42f-45f5-ceab-17c15bdc1729"
   },
   "execution_count": null,
   "outputs": [
    {
     "output_type": "display_data",
     "data": {
      "text/plain": [
       "Plot with title “Petal.Width”"
      ],
      "image/png": "[encoded data removed]"
     },
     "metadata": {
      "image/png": {
       "width": 420,
       "height": 420
      }
     }
    }
   ]
  },
  {
   "cell_type": "code",
   "source": [
    "plot(y)"
   ],
   "metadata": {
    "colab": {
     "base_uri": "https://localhost:8080/",
     "height": 437
    },
    "id": "Tt1v2BLZ4Gpz",
    "executionInfo": {
     "status": "ok",
     "timestamp": 1684425733259,
     "user_tz": -180,
     "elapsed": 315,
     "user": {
      "displayName": "Daniel D",
      "userId": "11270935181438165191"
     }
    },
    "outputId": "5c1fdae5-e35c-4256-b2a6-3b55136e3272"
   },
   "execution_count": null,
   "outputs": [
    {
     "output_type": "display_data",
     "data": {
      "text/plain": [
       "plot without title"
      ],
      "image/png": "[encoded data removed]"
     },
     "metadata": {
      "image/png": {
       "width": 420,
       "height": 420
      }
     }
    }
   ]
  },
  {
   "cell_type": "code",
   "source": [
    "install.packages(\"ellipse\")\n",
    "install.packages(\"caret\")"
   ],
   "metadata": {
    "colab": {
     "base_uri": "https://localhost:8080/"
    },
    "id": "dEwDPNkW6VnP",
    "executionInfo": {
     "status": "ok",
     "timestamp": 1684430122102,
     "user_tz": -180,
     "elapsed": 36601,
     "user": {
      "displayName": "Daniel D",
      "userId": "11270935181438165191"
     }
    },
    "outputId": "f36e6122-68fa-42e4-da02-354a15680ca8"
   },
   "execution_count": null,
   "outputs": [
    {
     "output_type": "stream",
     "name": "stderr",
     "text": [
      "Installing package into ‘/usr/local/lib/R/site-library’\n",
      "(as ‘lib’ is unspecified)\n",
      "\n",
      "Installing package into ‘/usr/local/lib/R/site-library’\n",
      "(as ‘lib’ is unspecified)\n",
      "\n"
     ]
    }
   ]
  },
  {
   "cell_type": "code",
   "source": [
    "library(\"caret\")"
   ],
   "metadata": {
    "id": "1WfR4Z7c4ezY",
    "executionInfo": {
     "status": "ok",
     "timestamp": 1684430283694,
     "user_tz": -180,
     "elapsed": 3484,
     "user": {
      "displayName": "Daniel D",
      "userId": "11270935181438165191"
     }
    },
    "colab": {
     "base_uri": "https://localhost:8080/"
    },
    "outputId": "6dbd477b-15b0-4539-b218-7ac2aac2565f"
   },
   "execution_count": null,
   "outputs": [
    {
     "output_type": "stream",
     "name": "stderr",
     "text": [
      "Loading required package: ggplot2\n",
      "\n",
      "Loading required package: lattice\n",
      "\n"
     ]
    }
   ]
  },
  {
   "cell_type": "code",
   "source": [
    "featurePlot(x=x, y=y, plot=\"ellipse\")"
   ],
   "metadata": {
    "colab": {
     "base_uri": "https://localhost:8080/",
     "height": 437
    },
    "id": "lkmCtjsf4Jhc",
    "executionInfo": {
     "status": "ok",
     "timestamp": 1684430287935,
     "user_tz": -180,
     "elapsed": 1159,
     "user": {
      "displayName": "Daniel D",
      "userId": "11270935181438165191"
     }
    },
    "outputId": "b36d10bd-6ad3-4418-daed-15d1b547c0d5"
   },
   "execution_count": null,
   "outputs": [
    {
     "output_type": "display_data",
     "data": {
      "text/plain": [
       "plot without title"
      ],
      "image/png": "[encoded data removed]"
     },
     "metadata": {
      "image/png": {
       "width": 420,
       "height": 420
      }
     }
    }
   ]
  },
  {
   "cell_type": "markdown",
   "source": [
    "## Обучим модельку"
   ],
   "metadata": {
    "id": "dh2WDIYi5Ntj"
   }
  },
  {
   "cell_type": "code",
   "source": [
    "install.packages(\"randomForest\")"
   ],
   "metadata": {
    "colab": {
     "base_uri": "https://localhost:8080/"
    },
    "id": "dIkuX1Tc7K7K",
    "executionInfo": {
     "status": "ok",
     "timestamp": 1684430298606,
     "user_tz": -180,
     "elapsed": 6269,
     "user": {
      "displayName": "Daniel D",
      "userId": "11270935181438165191"
     }
    },
    "outputId": "345f1223-96b0-4f03-c779-a84fac0442ff"
   },
   "execution_count": null,
   "outputs": [
    {
     "output_type": "stream",
     "name": "stderr",
     "text": [
      "Installing package into ‘/usr/local/lib/R/site-library’\n",
      "(as ‘lib’ is unspecified)\n",
      "\n"
     ]
    }
   ]
  },
  {
   "cell_type": "code",
   "source": [
    "data_split <- createDataPartition(iris$Species, p=0.8, list=FALSE)\n",
    "\n",
    "test_data <- iris[-data_split,]  # Оставляем 20% датасета для тестирования\n",
    "train_data <- iris[data_split,]  # На остальных 80% будем обусать модель"
   ],
   "metadata": {
    "id": "qAStXtuX6nwQ"
   },
   "execution_count": null,
   "outputs": []
  },
  {
   "cell_type": "code",
   "source": [
    "control <- trainControl(method=\"cv\", number=10)\n",
    "metric <- \"Accuracy\""
   ],
   "metadata": {
    "id": "LW6lCFQN4OF9"
   },
   "execution_count": null,
   "outputs": []
  },
  {
   "cell_type": "code",
   "source": [
    "set.seed(7)\n",
    "fit.rf <- train(Species~., data=train_data, method=\"rf\", metric=metric, trControl=control)"
   ],
   "metadata": {
    "id": "x0QzPqkF5Wk_"
   },
   "execution_count": null,
   "outputs": []
  },
  {
   "cell_type": "code",
   "source": [
    "fit.rf$resample"
   ],
   "metadata": {
    "colab": {
     "base_uri": "https://localhost:8080/",
     "height": 412
    },
    "id": "CyEDrBj35o_d",
    "executionInfo": {
     "status": "ok",
     "timestamp": 1684430380850,
     "user_tz": -180,
     "elapsed": 352,
     "user": {
      "displayName": "Daniel D",
      "userId": "11270935181438165191"
     }
    },
    "outputId": "97972458-4bf2-44c4-86c4-2f25f2412e4e"
   },
   "execution_count": null,
   "outputs": [
    {
     "output_type": "display_data",
     "data": {
      "text/html": [
       "<table class=\"dataframe\">\n",
       "<caption>A data.frame: 10 × 3</caption>\n",
       "<thead>\n",
       "\t<tr><th scope=col>Accuracy</th><th scope=col>Kappa</th><th scope=col>Resample</th></tr>\n",
       "\t<tr><th scope=col>&lt;dbl&gt;</th><th scope=col>&lt;dbl&gt;</th><th scope=col>&lt;chr&gt;</th></tr>\n",
       "</thead>\n",
       "<tbody>\n",
       "\t<tr><td>0.9166667</td><td>0.875</td><td>Fold02</td></tr>\n",
       "\t<tr><td>1.0000000</td><td>1.000</td><td>Fold01</td></tr>\n",
       "\t<tr><td>1.0000000</td><td>1.000</td><td>Fold04</td></tr>\n",
       "\t<tr><td>1.0000000</td><td>1.000</td><td>Fold03</td></tr>\n",
       "\t<tr><td>0.7500000</td><td>0.625</td><td>Fold06</td></tr>\n",
       "\t<tr><td>1.0000000</td><td>1.000</td><td>Fold05</td></tr>\n",
       "\t<tr><td>1.0000000</td><td>1.000</td><td>Fold08</td></tr>\n",
       "\t<tr><td>1.0000000</td><td>1.000</td><td>Fold07</td></tr>\n",
       "\t<tr><td>1.0000000</td><td>1.000</td><td>Fold10</td></tr>\n",
       "\t<tr><td>1.0000000</td><td>1.000</td><td>Fold09</td></tr>\n",
       "</tbody>\n",
       "</table>\n"
      ],
      "text/markdown": "\nA data.frame: 10 × 3\n\n| Accuracy &lt;dbl&gt; | Kappa &lt;dbl&gt; | Resample &lt;chr&gt; |\n|---|---|---|\n| 0.9166667 | 0.875 | Fold02 |\n| 1.0000000 | 1.000 | Fold01 |\n| 1.0000000 | 1.000 | Fold04 |\n| 1.0000000 | 1.000 | Fold03 |\n| 0.7500000 | 0.625 | Fold06 |\n| 1.0000000 | 1.000 | Fold05 |\n| 1.0000000 | 1.000 | Fold08 |\n| 1.0000000 | 1.000 | Fold07 |\n| 1.0000000 | 1.000 | Fold10 |\n| 1.0000000 | 1.000 | Fold09 |\n\n",
      "text/latex": "A data.frame: 10 × 3\n\\begin{tabular}{lll}\n Accuracy & Kappa & Resample\\\\\n <dbl> & <dbl> & <chr>\\\\\n\\hline\n\t 0.9166667 & 0.875 & Fold02\\\\\n\t 1.0000000 & 1.000 & Fold01\\\\\n\t 1.0000000 & 1.000 & Fold04\\\\\n\t 1.0000000 & 1.000 & Fold03\\\\\n\t 0.7500000 & 0.625 & Fold06\\\\\n\t 1.0000000 & 1.000 & Fold05\\\\\n\t 1.0000000 & 1.000 & Fold08\\\\\n\t 1.0000000 & 1.000 & Fold07\\\\\n\t 1.0000000 & 1.000 & Fold10\\\\\n\t 1.0000000 & 1.000 & Fold09\\\\\n\\end{tabular}\n",
      "text/plain": [
       "   Accuracy  Kappa Resample\n",
       "1  0.9166667 0.875 Fold02  \n",
       "2  1.0000000 1.000 Fold01  \n",
       "3  1.0000000 1.000 Fold04  \n",
       "4  1.0000000 1.000 Fold03  \n",
       "5  0.7500000 0.625 Fold06  \n",
       "6  1.0000000 1.000 Fold05  \n",
       "7  1.0000000 1.000 Fold08  \n",
       "8  1.0000000 1.000 Fold07  \n",
       "9  1.0000000 1.000 Fold10  \n",
       "10 1.0000000 1.000 Fold09  "
      ]
     },
     "metadata": {}
    }
   ]
  },
  {
   "cell_type": "code",
   "source": [
    "predictions <- predict(fit.rf, test_data)\n",
    "confusionMatrix(predictions, test_data$Species)"
   ],
   "metadata": {
    "colab": {
     "base_uri": "https://localhost:8080/",
     "height": 538
    },
    "id": "nYfJXLL77_T5",
    "executionInfo": {
     "status": "ok",
     "timestamp": 1684430385821,
     "user_tz": -180,
     "elapsed": 293,
     "user": {
      "displayName": "Daniel D",
      "userId": "11270935181438165191"
     }
    },
    "outputId": "155c2e49-ecae-4239-afcf-67655fd43dab"
   },
   "execution_count": null,
   "outputs": [
    {
     "output_type": "display_data",
     "data": {
      "text/plain": [
       "Confusion Matrix and Statistics\n",
       "\n",
       "            Reference\n",
       "Prediction   setosa versicolor virginica\n",
       "  setosa         10          0         0\n",
       "  versicolor      0         10         1\n",
       "  virginica       0          0         9\n",
       "\n",
       "Overall Statistics\n",
       "                                          \n",
       "               Accuracy : 0.9667          \n",
       "                 95% CI : (0.8278, 0.9992)\n",
       "    No Information Rate : 0.3333          \n",
       "    P-Value [Acc > NIR] : 2.963e-13       \n",
       "                                          \n",
       "                  Kappa : 0.95            \n",
       "                                          \n",
       " Mcnemar's Test P-Value : NA              \n",
       "\n",
       "Statistics by Class:\n",
       "\n",
       "                     Class: setosa Class: versicolor Class: virginica\n",
       "Sensitivity                 1.0000            1.0000           0.9000\n",
       "Specificity                 1.0000            0.9500           1.0000\n",
       "Pos Pred Value              1.0000            0.9091           1.0000\n",
       "Neg Pred Value              1.0000            1.0000           0.9524\n",
       "Prevalence                  0.3333            0.3333           0.3333\n",
       "Detection Rate              0.3333            0.3333           0.3000\n",
       "Detection Prevalence        0.3333            0.3667           0.3000\n",
       "Balanced Accuracy           1.0000            0.9750           0.9500"
      ]
     },
     "metadata": {}
    }
   ]
  },
  {
   "cell_type": "markdown",
   "source": [
    "## Приобретенные навыки\n",
    "\n",
    "1. Познакомились со средой R и ее объектами\n",
    "2. Узнали множество функций для работы с данными\n",
    "3. Научились задавать последовательности и множества\n",
    "4. Научились извлекать необходимую информацию из готовых фреймов и выбирать поднаборы данных\n",
    "5. Научились строить свои набор данных и матрицу"
   ],
   "metadata": {
    "id": "OkaBA8uOQeNI"
   }
  },
  {
   "cell_type": "code",
   "source": [],
   "metadata": {
    "id": "mqf_e1sf8kRp"
   },
   "execution_count": null,
   "outputs": []
  }
 ]
}
